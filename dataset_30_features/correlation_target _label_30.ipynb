{
 "cells": [
  {
   "cell_type": "code",
   "execution_count": 967,
   "metadata": {},
   "outputs": [],
   "source": [
    "# Importing the packages\n",
    "import sys\n",
    "import numpy as np\n",
    "np.set_printoptions(threshold=sys.maxsize)\n",
    "import matplotlib.pyplot as plt\n",
    "import pandas as pd\n",
    "import seaborn as sns\n",
    "import sklearn\n",
    "import random\n",
    "from sklearn.metrics import confusion_matrix,accuracy_score,classification_report,RocCurveDisplay,ConfusionMatrixDisplay"
   ]
  },
  {
   "cell_type": "code",
   "execution_count": 968,
   "metadata": {},
   "outputs": [],
   "source": [
    "pd.set_option('display.max_rows', None)\n",
    "pd.set_option('display.max_columns', None)\n",
    "pd.set_option('display.width', None)\n",
    "pd.set_option('display.max_colwidth', None)"
   ]
  },
  {
   "cell_type": "code",
   "execution_count": 969,
   "metadata": {},
   "outputs": [],
   "source": [
    "# Importing the dataset\n",
    "df = pd.read_csv('dataset_30.csv')\n",
    "df.drop(['index'], axis=1, inplace=True)\n",
    "#df.head()"
   ]
  },
  {
   "cell_type": "code",
   "execution_count": 970,
   "metadata": {},
   "outputs": [],
   "source": [
    "# if your dataset contains missing value, check which column has missing values\n",
    "#df.isnull().sum()"
   ]
  },
  {
   "cell_type": "code",
   "execution_count": 971,
   "metadata": {},
   "outputs": [],
   "source": [
    "#df.dropna(inplace=True)"
   ]
  },
  {
   "cell_type": "code",
   "execution_count": 972,
   "metadata": {},
   "outputs": [],
   "source": [
    "from sklearn import preprocessing\n",
    "\n",
    "\n",
    "col = df.columns[:]\n",
    "\n",
    "lab_en= preprocessing.LabelEncoder()\n",
    "\n",
    "for c in col:\n",
    "    df[c]= lab_en.fit_transform(df[c])\n",
    "\n",
    "#df.head(50)"
   ]
  },
  {
   "cell_type": "code",
   "execution_count": 973,
   "metadata": {},
   "outputs": [
    {
     "data": {
      "text/html": [
       "<div>\n",
       "<style scoped>\n",
       "    .dataframe tbody tr th:only-of-type {\n",
       "        vertical-align: middle;\n",
       "    }\n",
       "\n",
       "    .dataframe tbody tr th {\n",
       "        vertical-align: top;\n",
       "    }\n",
       "\n",
       "    .dataframe thead th {\n",
       "        text-align: right;\n",
       "    }\n",
       "</style>\n",
       "<table border=\"1\" class=\"dataframe\">\n",
       "  <thead>\n",
       "    <tr style=\"text-align: right;\">\n",
       "      <th></th>\n",
       "      <th>Col</th>\n",
       "      <th>Correlation</th>\n",
       "    </tr>\n",
       "  </thead>\n",
       "  <tbody>\n",
       "    <tr>\n",
       "      <th>0</th>\n",
       "      <td>Result</td>\n",
       "      <td>1.000000</td>\n",
       "    </tr>\n",
       "    <tr>\n",
       "      <th>1</th>\n",
       "      <td>SSLfinal_State</td>\n",
       "      <td>0.714741</td>\n",
       "    </tr>\n",
       "    <tr>\n",
       "      <th>2</th>\n",
       "      <td>URL_of_Anchor</td>\n",
       "      <td>0.692935</td>\n",
       "    </tr>\n",
       "    <tr>\n",
       "      <th>3</th>\n",
       "      <td>Prefix_Suffix</td>\n",
       "      <td>0.348606</td>\n",
       "    </tr>\n",
       "    <tr>\n",
       "      <th>4</th>\n",
       "      <td>web_traffic</td>\n",
       "      <td>0.346103</td>\n",
       "    </tr>\n",
       "    <tr>\n",
       "      <th>5</th>\n",
       "      <td>having_Sub_Domain</td>\n",
       "      <td>0.298323</td>\n",
       "    </tr>\n",
       "    <tr>\n",
       "      <th>6</th>\n",
       "      <td>Request_URL</td>\n",
       "      <td>0.253372</td>\n",
       "    </tr>\n",
       "    <tr>\n",
       "      <th>7</th>\n",
       "      <td>Links_in_tags</td>\n",
       "      <td>0.248229</td>\n",
       "    </tr>\n",
       "    <tr>\n",
       "      <th>8</th>\n",
       "      <td>Domain_registeration_length</td>\n",
       "      <td>0.225789</td>\n",
       "    </tr>\n",
       "    <tr>\n",
       "      <th>9</th>\n",
       "      <td>SFH</td>\n",
       "      <td>0.221419</td>\n",
       "    </tr>\n",
       "    <tr>\n",
       "      <th>10</th>\n",
       "      <td>Google_Index</td>\n",
       "      <td>0.128950</td>\n",
       "    </tr>\n",
       "    <tr>\n",
       "      <th>11</th>\n",
       "      <td>age_of_domain</td>\n",
       "      <td>0.121496</td>\n",
       "    </tr>\n",
       "    <tr>\n",
       "      <th>12</th>\n",
       "      <td>Page_Rank</td>\n",
       "      <td>0.104645</td>\n",
       "    </tr>\n",
       "    <tr>\n",
       "      <th>13</th>\n",
       "      <td>having_IPhaving_IP_Address</td>\n",
       "      <td>0.094160</td>\n",
       "    </tr>\n",
       "    <tr>\n",
       "      <th>14</th>\n",
       "      <td>Statistical_report</td>\n",
       "      <td>0.079857</td>\n",
       "    </tr>\n",
       "    <tr>\n",
       "      <th>15</th>\n",
       "      <td>DNSRecord</td>\n",
       "      <td>0.075718</td>\n",
       "    </tr>\n",
       "    <tr>\n",
       "      <th>16</th>\n",
       "      <td>Shortining_Service</td>\n",
       "      <td>0.067966</td>\n",
       "    </tr>\n",
       "    <tr>\n",
       "      <th>17</th>\n",
       "      <td>Abnormal_URL</td>\n",
       "      <td>0.060488</td>\n",
       "    </tr>\n",
       "    <tr>\n",
       "      <th>18</th>\n",
       "      <td>URLURL_Length</td>\n",
       "      <td>0.057430</td>\n",
       "    </tr>\n",
       "    <tr>\n",
       "      <th>19</th>\n",
       "      <td>having_At_Symbol</td>\n",
       "      <td>0.052948</td>\n",
       "    </tr>\n",
       "    <tr>\n",
       "      <th>20</th>\n",
       "      <td>on_mouseover</td>\n",
       "      <td>0.041838</td>\n",
       "    </tr>\n",
       "    <tr>\n",
       "      <th>21</th>\n",
       "      <td>HTTPS_token</td>\n",
       "      <td>0.039854</td>\n",
       "    </tr>\n",
       "    <tr>\n",
       "      <th>22</th>\n",
       "      <td>double_slash_redirecting</td>\n",
       "      <td>0.038608</td>\n",
       "    </tr>\n",
       "    <tr>\n",
       "      <th>23</th>\n",
       "      <td>port</td>\n",
       "      <td>0.036419</td>\n",
       "    </tr>\n",
       "    <tr>\n",
       "      <th>24</th>\n",
       "      <td>Links_pointing_to_page</td>\n",
       "      <td>0.032574</td>\n",
       "    </tr>\n",
       "    <tr>\n",
       "      <th>25</th>\n",
       "      <td>Redirect</td>\n",
       "      <td>0.020113</td>\n",
       "    </tr>\n",
       "    <tr>\n",
       "      <th>26</th>\n",
       "      <td>Submitting_to_email</td>\n",
       "      <td>0.018249</td>\n",
       "    </tr>\n",
       "    <tr>\n",
       "      <th>27</th>\n",
       "      <td>RightClick</td>\n",
       "      <td>0.012653</td>\n",
       "    </tr>\n",
       "    <tr>\n",
       "      <th>28</th>\n",
       "      <td>Iframe</td>\n",
       "      <td>0.003394</td>\n",
       "    </tr>\n",
       "    <tr>\n",
       "      <th>29</th>\n",
       "      <td>Favicon</td>\n",
       "      <td>0.000280</td>\n",
       "    </tr>\n",
       "    <tr>\n",
       "      <th>30</th>\n",
       "      <td>popUpWidnow</td>\n",
       "      <td>0.000086</td>\n",
       "    </tr>\n",
       "  </tbody>\n",
       "</table>\n",
       "</div>"
      ],
      "text/plain": [
       "                            Col  Correlation\n",
       "0                        Result     1.000000\n",
       "1                SSLfinal_State     0.714741\n",
       "2                 URL_of_Anchor     0.692935\n",
       "3                 Prefix_Suffix     0.348606\n",
       "4                   web_traffic     0.346103\n",
       "5             having_Sub_Domain     0.298323\n",
       "6                   Request_URL     0.253372\n",
       "7                 Links_in_tags     0.248229\n",
       "8   Domain_registeration_length     0.225789\n",
       "9                           SFH     0.221419\n",
       "10                 Google_Index     0.128950\n",
       "11                age_of_domain     0.121496\n",
       "12                    Page_Rank     0.104645\n",
       "13   having_IPhaving_IP_Address     0.094160\n",
       "14           Statistical_report     0.079857\n",
       "15                    DNSRecord     0.075718\n",
       "16           Shortining_Service     0.067966\n",
       "17                 Abnormal_URL     0.060488\n",
       "18                URLURL_Length     0.057430\n",
       "19             having_At_Symbol     0.052948\n",
       "20                 on_mouseover     0.041838\n",
       "21                  HTTPS_token     0.039854\n",
       "22     double_slash_redirecting     0.038608\n",
       "23                         port     0.036419\n",
       "24       Links_pointing_to_page     0.032574\n",
       "25                     Redirect     0.020113\n",
       "26          Submitting_to_email     0.018249\n",
       "27                   RightClick     0.012653\n",
       "28                       Iframe     0.003394\n",
       "29                      Favicon     0.000280\n",
       "30                  popUpWidnow     0.000086"
      ]
     },
     "execution_count": 973,
     "metadata": {},
     "output_type": "execute_result"
    }
   ],
   "source": [
    "##print(df.corr()['Result'].sort_values())\n",
    "## correlation values of features with target label\n",
    "corr_col = abs(df.corr()['Result']).sort_values(ascending=False)\n",
    "corr_col = corr_col.rename_axis('Col').reset_index(name='Correlation')\n",
    "corr_col"
   ]
  },
  {
   "cell_type": "code",
   "execution_count": 974,
   "metadata": {},
   "outputs": [],
   "source": [
    "def correlation (corr_col, threshold):\n",
    "\tcorr_feature = set()\n",
    "\tfor index, row in corr_col.iterrows():\n",
    "\t\tif row['Correlation'] < threshold or np.isnan(row['Correlation']):\n",
    "\t\t\tcorr_feature.add(row['Col'])\n",
    "\treturn corr_feature"
   ]
  },
  {
   "cell_type": "code",
   "execution_count": 975,
   "metadata": {},
   "outputs": [
    {
     "data": {
      "text/plain": [
       "5"
      ]
     },
     "execution_count": 975,
     "metadata": {},
     "output_type": "execute_result"
    }
   ],
   "source": [
    "corr_feature = correlation(corr_col,.02)\n",
    "len(set(corr_feature))\n"
   ]
  },
  {
   "cell_type": "code",
   "execution_count": 976,
   "metadata": {},
   "outputs": [
    {
     "data": {
      "text/plain": [
       "{'Favicon', 'Iframe', 'RightClick', 'Submitting_to_email', 'popUpWidnow'}"
      ]
     },
     "execution_count": 976,
     "metadata": {},
     "output_type": "execute_result"
    }
   ],
   "source": [
    "corr_feature\n"
   ]
  },
  {
   "cell_type": "code",
   "execution_count": 977,
   "metadata": {},
   "outputs": [],
   "source": [
    "df.drop(corr_feature, axis=1, inplace=True)"
   ]
  },
  {
   "cell_type": "code",
   "execution_count": 978,
   "metadata": {},
   "outputs": [],
   "source": [
    "# # Remove features having correlation coeff. between +/- 0.03\n",
    "# df.drop(['Favicon','Iframe','Redirect',\n",
    "#                 'popUpWidnow','RightClick','Submitting_to_email'], axis=1, inplace=True)\n"
   ]
  },
  {
   "cell_type": "code",
   "execution_count": 979,
   "metadata": {},
   "outputs": [
    {
     "data": {
      "text/plain": [
       "26"
      ]
     },
     "execution_count": 979,
     "metadata": {},
     "output_type": "execute_result"
    }
   ],
   "source": [
    "len(df.columns)\n"
   ]
  },
  {
   "cell_type": "code",
   "execution_count": 980,
   "metadata": {},
   "outputs": [],
   "source": [
    "#df.head()"
   ]
  },
  {
   "cell_type": "code",
   "execution_count": 981,
   "metadata": {},
   "outputs": [],
   "source": [
    "a=len(df[df.Result==0])\n",
    "b=len(df[df.Result==1])\n"
   ]
  },
  {
   "cell_type": "code",
   "execution_count": 982,
   "metadata": {},
   "outputs": [
    {
     "name": "stdout",
     "output_type": "stream",
     "text": [
      "Count of Legitimate Websites =  4898\n",
      "Count of Phishy Websites =  6157\n"
     ]
    }
   ],
   "source": [
    "print(\"Count of Legitimate Websites = \", a)\n",
    "print(\"Count of Phishy Websites = \", b)"
   ]
  },
  {
   "cell_type": "code",
   "execution_count": 983,
   "metadata": {},
   "outputs": [],
   "source": [
    "# df.corr()"
   ]
  },
  {
   "cell_type": "code",
   "execution_count": 984,
   "metadata": {},
   "outputs": [],
   "source": [
    "# #Using Pearson Correlation\n",
    "# plt.figure(figsize=(30,30))\n",
    "# corr = df.corr()\n",
    "# sns.heatmap(corr, annot=True, cmap=plt.cm.CMRmap_r)\n",
    "# plt.show()"
   ]
  },
  {
   "cell_type": "code",
   "execution_count": 985,
   "metadata": {},
   "outputs": [],
   "source": [
    "# # with the following function we can select highly correlated features\n",
    "# # it will remove the first feature that is correlated with anything other feature\n",
    "\n",
    "# def correlation(dataset, threshold):\n",
    "#     col_corr = set()  # Set of all the names of correlated columns\n",
    "#     corr_matrix = dataset.corr()\n",
    "#     for i in range(len(corr_matrix.columns)):\n",
    "#         for j in range(i):\n",
    "#             if abs(corr_matrix.iloc[i, j]) > threshold: # we are interested in absolute coeff value\n",
    "#                 colname = corr_matrix.columns[i]  # getting the name of column\n",
    "#                 col_corr.add(colname)\n",
    "#     return col_corr"
   ]
  },
  {
   "cell_type": "code",
   "execution_count": 986,
   "metadata": {},
   "outputs": [],
   "source": [
    "# corr_features = correlation(df, 0.8)\n",
    "# len(set(corr_features))"
   ]
  },
  {
   "cell_type": "code",
   "execution_count": 987,
   "metadata": {},
   "outputs": [],
   "source": [
    "# corr_features"
   ]
  },
  {
   "cell_type": "code",
   "execution_count": 988,
   "metadata": {},
   "outputs": [],
   "source": [
    "#df.head()"
   ]
  },
  {
   "cell_type": "code",
   "execution_count": 989,
   "metadata": {},
   "outputs": [],
   "source": [
    "#from sklearn import preprocessing\n",
    "\n",
    "\n",
    "# col =df[df.columns[:]]\n",
    "\n",
    "# lab_en= preprocessing.LabelEncoder()\n",
    "\n",
    "# for c in col:\n",
    "#     df[c]= lab_en.fit_transform(df[c])\n",
    "\n",
    "# df.head()"
   ]
  },
  {
   "cell_type": "code",
   "execution_count": 990,
   "metadata": {},
   "outputs": [],
   "source": [
    "X = df.drop(['Result'], axis=1, inplace=False)\n",
    "#X.head()\n",
    "#same work\n",
    "##inplace true modifies the og data & does not return anything\n",
    "##inplace false does not modify og data but returns something whoch we store in a var\n",
    "# X= df.drop(columns='Result')\n",
    "# X.head()"
   ]
  },
  {
   "cell_type": "code",
   "execution_count": 991,
   "metadata": {},
   "outputs": [],
   "source": [
    "#df.head()"
   ]
  },
  {
   "cell_type": "code",
   "execution_count": 992,
   "metadata": {},
   "outputs": [
    {
     "data": {
      "text/html": [
       "<div>\n",
       "<style scoped>\n",
       "    .dataframe tbody tr th:only-of-type {\n",
       "        vertical-align: middle;\n",
       "    }\n",
       "\n",
       "    .dataframe tbody tr th {\n",
       "        vertical-align: top;\n",
       "    }\n",
       "\n",
       "    .dataframe thead th {\n",
       "        text-align: right;\n",
       "    }\n",
       "</style>\n",
       "<table border=\"1\" class=\"dataframe\">\n",
       "  <thead>\n",
       "    <tr style=\"text-align: right;\">\n",
       "      <th></th>\n",
       "      <th>Result</th>\n",
       "    </tr>\n",
       "  </thead>\n",
       "  <tbody>\n",
       "    <tr>\n",
       "      <th>0</th>\n",
       "      <td>0</td>\n",
       "    </tr>\n",
       "    <tr>\n",
       "      <th>1</th>\n",
       "      <td>0</td>\n",
       "    </tr>\n",
       "    <tr>\n",
       "      <th>2</th>\n",
       "      <td>0</td>\n",
       "    </tr>\n",
       "    <tr>\n",
       "      <th>3</th>\n",
       "      <td>0</td>\n",
       "    </tr>\n",
       "    <tr>\n",
       "      <th>4</th>\n",
       "      <td>1</td>\n",
       "    </tr>\n",
       "  </tbody>\n",
       "</table>\n",
       "</div>"
      ],
      "text/plain": [
       "   Result\n",
       "0       0\n",
       "1       0\n",
       "2       0\n",
       "3       0\n",
       "4       1"
      ]
     },
     "execution_count": 992,
     "metadata": {},
     "output_type": "execute_result"
    }
   ],
   "source": [
    "y = df['Result']\n",
    "y = pd.DataFrame(y)\n",
    "y.head()"
   ]
  },
  {
   "cell_type": "code",
   "execution_count": 993,
   "metadata": {},
   "outputs": [
    {
     "data": {
      "text/plain": [
       "((7738, 25), (3317, 25), (7738, 1), (3317, 1))"
      ]
     },
     "execution_count": 993,
     "metadata": {},
     "output_type": "execute_result"
    }
   ],
   "source": [
    "# separate dataset into train and test\n",
    "from cProfile import label\n",
    "from sklearn.model_selection import train_test_split\n",
    "X_train, X_test, y_train, y_test = train_test_split(\n",
    "    X,\n",
    "    y,\n",
    "    test_size=0.3,\n",
    "    random_state=10)\n",
    "\n",
    "X_train.shape, X_test.shape, y_train.shape, y_test.shape"
   ]
  },
  {
   "cell_type": "code",
   "execution_count": 994,
   "metadata": {},
   "outputs": [],
   "source": [
    "#X_test.head()"
   ]
  },
  {
   "cell_type": "code",
   "execution_count": 995,
   "metadata": {},
   "outputs": [
    {
     "name": "stdout",
     "output_type": "stream",
     "text": [
      "Training set has 7738 samples.\n",
      "Testing set has 3317 samples.\n"
     ]
    }
   ],
   "source": [
    "print(\"Training set has {} samples.\".format(X_train.shape[0]))\n",
    "print(\"Testing set has {} samples.\".format(X_test.shape[0]))"
   ]
  },
  {
   "cell_type": "code",
   "execution_count": 996,
   "metadata": {},
   "outputs": [
    {
     "name": "stdout",
     "output_type": "stream",
     "text": [
      "Fitting 10 folds for each of 50 candidates, totalling 500 fits\n",
      "{'C': 1, 'max_iter': 2500, 'penalty': 'l2', 'solver': 'lbfgs'}\n",
      "LogisticRegression(C=1, max_iter=2500)\n",
      "0.9286656237151139\n"
     ]
    }
   ],
   "source": [
    "from sklearn.model_selection import GridSearchCV\n",
    "from sklearn.linear_model import LogisticRegression\n",
    "\n",
    "# defining parameter range\n",
    "param_grid = {'penalty' : ['l2'],\n",
    "            'C' : [0.1, 1, 10, 20, 30],\n",
    "            'solver' : ['lbfgs','newton-cg','liblinear','sag','saga'],\n",
    "            'max_iter' : [2500, 5000]}\n",
    "\n",
    "grid_logr = GridSearchCV(LogisticRegression(), param_grid, refit = True, cv = 10, verbose = 3, n_jobs = -1)\n",
    "\n",
    "# fitting the model for grid search\n",
    "grid_logr.fit(X_train, y_train.values.ravel())\n",
    "\n",
    "# print best parameter after tuning\n",
    "print(grid_logr.best_params_)\n",
    "\n",
    "# print how our model looks after hyper-parameter tuning\n",
    "print(grid_logr.best_estimator_)\n",
    "print(grid_logr.best_score_)"
   ]
  },
  {
   "cell_type": "code",
   "execution_count": 997,
   "metadata": {},
   "outputs": [],
   "source": [
    "logr_model = grid_logr.best_estimator_\n",
    "\n",
    "# Performing training\n",
    "#logr_model = logr.fit(X_train, y_train.values.ravel())"
   ]
  },
  {
   "cell_type": "code",
   "execution_count": 998,
   "metadata": {},
   "outputs": [],
   "source": [
    "logr_predict  =  logr_model.predict(X_test)"
   ]
  },
  {
   "cell_type": "code",
   "execution_count": 999,
   "metadata": {},
   "outputs": [],
   "source": [
    "# from sklearn.metrics import confusion_matrix,accuracy_score\n",
    "# cm = confusion_matrix(y_test, dct_pred)\n",
    "# ac = accuracy_score(y_test, dct_pred)"
   ]
  },
  {
   "cell_type": "code",
   "execution_count": 1000,
   "metadata": {},
   "outputs": [
    {
     "name": "stdout",
     "output_type": "stream",
     "text": [
      "Accuracy of logr classifier :  93.0660235152246\n"
     ]
    }
   ],
   "source": [
    "print (\"Accuracy of logr classifier : \", accuracy_score(y_test, logr_predict)*100)"
   ]
  },
  {
   "cell_type": "code",
   "execution_count": 1001,
   "metadata": {},
   "outputs": [
    {
     "name": "stdout",
     "output_type": "stream",
     "text": [
      "              precision    recall  f1-score   support\n",
      "\n",
      "           0       0.93      0.91      0.92      1444\n",
      "           1       0.93      0.95      0.94      1873\n",
      "\n",
      "    accuracy                           0.93      3317\n",
      "   macro avg       0.93      0.93      0.93      3317\n",
      "weighted avg       0.93      0.93      0.93      3317\n",
      "\n"
     ]
    }
   ],
   "source": [
    "print(classification_report(y_test, logr_predict))"
   ]
  },
  {
   "cell_type": "code",
   "execution_count": 1002,
   "metadata": {},
   "outputs": [
    {
     "data": {
      "image/png": "[encoded data removed]",
      "text/plain": [
       "<Figure size 640x480 with 2 Axes>"
      ]
     },
     "metadata": {},
     "output_type": "display_data"
    }
   ],
   "source": [
    "sns.heatmap(confusion_matrix(y_test, logr_predict), annot=True, fmt='g', cmap='Blues')\n",
    "plt.title(\"LogisticRegression\")\n",
    "plt.xlabel('Predicted Class')\n",
    "plt.ylabel('Original Class')\n",
    "plt.show()"
   ]
  },
  {
   "cell_type": "code",
   "execution_count": 1003,
   "metadata": {},
   "outputs": [],
   "source": [
    "# from sklearn.neighbors import KNeighborsClassifier\n",
    "\n",
    "# #training_accuracy=[]\n",
    "# test_accuracy=[]\n",
    "\n",
    "# neighbors=range(1,10)\n",
    "# ##values.ravel() converts vector y to flattened array\n",
    "# for i in neighbors:\n",
    "#     knn=KNeighborsClassifier(n_neighbors=i)\n",
    "#     knn_model = knn.fit(X_train,y_train.values.ravel())\n",
    "#     #training_accuracy.append(knn.score(X_train,y_train.values.ravel()))\n",
    "#     test_accuracy.append(knn_model.score(X_test,y_test.values.ravel()))"
   ]
  },
  {
   "cell_type": "code",
   "execution_count": 1004,
   "metadata": {},
   "outputs": [],
   "source": [
    "# plt.plot(neighbors,test_accuracy,label=\"test accuracy\")\n",
    "# plt.ylabel(\"Accuracy\")\n",
    "# plt.xlabel(\"number of neighbors\")\n",
    "# plt.legend()\n",
    "# plt.show()"
   ]
  },
  {
   "cell_type": "code",
   "execution_count": 1005,
   "metadata": {},
   "outputs": [
    {
     "name": "stdout",
     "output_type": "stream",
     "text": [
      "Fitting 10 folds for each of 10 candidates, totalling 100 fits\n",
      "{'n_neighbors': 1}\n",
      "KNeighborsClassifier(n_neighbors=1)\n",
      "0.9590302221954798\n"
     ]
    }
   ],
   "source": [
    "from sklearn.neighbors import KNeighborsClassifier\n",
    "\n",
    "# defining parameter range\n",
    "param_grid = {'n_neighbors': [1,2,3,4,5,6,7,8,9,10]}\n",
    "\n",
    "grid_knn = GridSearchCV(KNeighborsClassifier(), param_grid, refit = True, cv = 10, verbose = 3, n_jobs = -1)\n",
    "\n",
    "# fitting the model for grid search\n",
    "grid_knn.fit(X_train, y_train.values.ravel())\n",
    "\n",
    "# print best parameter after tuning\n",
    "print(grid_knn.best_params_)\n",
    "\n",
    "# print how our model looks after hyper-parameter tuning\n",
    "print(grid_knn.best_estimator_)\n",
    "print(grid_knn.best_score_)"
   ]
  },
  {
   "cell_type": "code",
   "execution_count": 1006,
   "metadata": {},
   "outputs": [],
   "source": [
    "knn_model = grid_knn.best_estimator_\n",
    "#knn_model = knn.fit(X_train,y_train.values.ravel())"
   ]
  },
  {
   "cell_type": "code",
   "execution_count": 1007,
   "metadata": {},
   "outputs": [],
   "source": [
    "#print (\"Accuracy of knn classifier: \", max(test_accuracy)*100)\n",
    "knn_predict = knn_model.predict(X_test)"
   ]
  },
  {
   "cell_type": "code",
   "execution_count": 1008,
   "metadata": {},
   "outputs": [
    {
     "name": "stdout",
     "output_type": "stream",
     "text": [
      "The accuracy of knn Classifier is:  95.83961410913476\n"
     ]
    }
   ],
   "source": [
    "print('The accuracy of knn Classifier is: ', 100.0 * accuracy_score(y_test, knn_predict))"
   ]
  },
  {
   "cell_type": "code",
   "execution_count": 1009,
   "metadata": {},
   "outputs": [
    {
     "name": "stdout",
     "output_type": "stream",
     "text": [
      "              precision    recall  f1-score   support\n",
      "\n",
      "           0       0.96      0.94      0.95      1444\n",
      "           1       0.95      0.97      0.96      1873\n",
      "\n",
      "    accuracy                           0.96      3317\n",
      "   macro avg       0.96      0.96      0.96      3317\n",
      "weighted avg       0.96      0.96      0.96      3317\n",
      "\n"
     ]
    }
   ],
   "source": [
    "print(classification_report(y_test, knn_predict))"
   ]
  },
  {
   "cell_type": "code",
   "execution_count": 1010,
   "metadata": {},
   "outputs": [
    {
     "data": {
      "image/png": "[encoded data removed]",
      "text/plain": [
       "<Figure size 640x480 with 2 Axes>"
      ]
     },
     "metadata": {},
     "output_type": "display_data"
    }
   ],
   "source": [
    "sns.heatmap(confusion_matrix(y_test, knn_predict), annot=True, fmt='g', cmap='Blues')\n",
    "plt.title(\"KNeighborsClassifier\")\n",
    "plt.xlabel('Predicted Class')\n",
    "plt.ylabel('Original Class')\n",
    "plt.show()"
   ]
  },
  {
   "cell_type": "code",
   "execution_count": 1011,
   "metadata": {},
   "outputs": [],
   "source": [
    "# # here is the change\n",
    "# knn_y_pred_proba = knn.predict_proba(X_test)\n",
    "# knn_y_pred_proba_positive = knn_y_pred_proba[:, 1] \n",
    "\n",
    "# RocCurveDisplay.from_predictions(y_test,knn_y_pred_proba_positive)\n",
    "\n",
    "# fig, ax = plt.subplots()\n",
    "# RocCurveDisplay.from_estimator(\n",
    "#    logreg, X_test, y_test, ax = ax)\n",
    "\n",
    "# logreg_y_decision = logreg.decision_function(X_test)\n",
    "# metrics.RocCurveDisplay.from_predictions(y_test,logreg_y_decision,ax=ax,name=\"logreg predictions\")"
   ]
  },
  {
   "cell_type": "code",
   "execution_count": 1012,
   "metadata": {},
   "outputs": [
    {
     "name": "stdout",
     "output_type": "stream",
     "text": [
      "Fitting 10 folds for each of 36 candidates, totalling 360 fits\n",
      "{'C': 10, 'gamma': 0.1, 'kernel': 'rbf'}\n",
      "SVC(C=10, gamma=0.1)\n",
      "0.9639441285504645\n"
     ]
    }
   ],
   "source": [
    "from sklearn.svm import SVC\n",
    "\n",
    "# defining parameter range\n",
    "param_grid = {'C': [0.1, 1, 10],\n",
    "\t\t\t'gamma': [1, 0.1, 0.01],\n",
    "\t\t\t'kernel': ['linear','poly', 'rbf', 'sigmoid']}\n",
    "\n",
    "grid_svc = GridSearchCV(SVC(), param_grid, refit = True, cv = 10, verbose = 3, n_jobs = -1)\n",
    "\n",
    "# fitting the model for grid search\n",
    "grid_svc.fit(X_train, y_train.values.ravel())\n",
    "\n",
    "# print best parameter after tuning\n",
    "print(grid_svc.best_params_)\n",
    "\n",
    "# print how our model looks after hyper-parameter tuning\n",
    "print(grid_svc.best_estimator_)\n",
    "print(grid_svc.best_score_)"
   ]
  },
  {
   "cell_type": "code",
   "execution_count": 1013,
   "metadata": {},
   "outputs": [],
   "source": [
    "svc_model = grid_svc.best_estimator_\n",
    "#svc_model = svc.fit(X_train,y_train.values.ravel())"
   ]
  },
  {
   "cell_type": "code",
   "execution_count": 1014,
   "metadata": {},
   "outputs": [],
   "source": [
    "svc_predict = svc_model.predict(X_test)"
   ]
  },
  {
   "cell_type": "code",
   "execution_count": 1015,
   "metadata": {},
   "outputs": [
    {
     "name": "stdout",
     "output_type": "stream",
     "text": [
      "The accuracy of svc Classifier is:  96.47271630991861\n"
     ]
    }
   ],
   "source": [
    "print('The accuracy of svc Classifier is: ', 100.0 * accuracy_score(y_test, svc_predict))"
   ]
  },
  {
   "cell_type": "code",
   "execution_count": 1016,
   "metadata": {},
   "outputs": [
    {
     "name": "stdout",
     "output_type": "stream",
     "text": [
      "              precision    recall  f1-score   support\n",
      "\n",
      "           0       0.96      0.95      0.96      1444\n",
      "           1       0.97      0.97      0.97      1873\n",
      "\n",
      "    accuracy                           0.96      3317\n",
      "   macro avg       0.96      0.96      0.96      3317\n",
      "weighted avg       0.96      0.96      0.96      3317\n",
      "\n"
     ]
    }
   ],
   "source": [
    "print(classification_report(y_test, svc_predict))"
   ]
  },
  {
   "cell_type": "code",
   "execution_count": 1017,
   "metadata": {},
   "outputs": [
    {
     "data": {
      "image/png": "[encoded data removed]",
      "text/plain": [
       "<Figure size 640x480 with 2 Axes>"
      ]
     },
     "metadata": {},
     "output_type": "display_data"
    }
   ],
   "source": [
    "sns.heatmap(confusion_matrix(y_test, svc_predict), annot=True, fmt='g', cmap='Blues')\n",
    "plt.title(\"SVC\")\n",
    "plt.xlabel('Predicted Class')\n",
    "plt.ylabel('Original Class')\n",
    "plt.show()"
   ]
  },
  {
   "cell_type": "code",
   "execution_count": 1018,
   "metadata": {},
   "outputs": [
    {
     "name": "stdout",
     "output_type": "stream",
     "text": [
      "Fitting 10 folds for each of 24 candidates, totalling 240 fits\n",
      "{'gamma': 0.1, 'kernel': 'rbf', 'nu': 0.1}\n",
      "NuSVC(gamma=0.1, nu=0.1)\n",
      "0.9627811707131182\n"
     ]
    }
   ],
   "source": [
    "from sklearn.svm import NuSVC\n",
    "\n",
    "# defining parameter range\n",
    "param_grid = {'nu': [0.1, 0.5],\n",
    "\t\t\t'gamma': [1, 0.1, 0.01],\n",
    "\t\t\t'kernel': ['linear','poly', 'rbf', 'sigmoid']}\n",
    "\n",
    "grid_nusvc = GridSearchCV(NuSVC(), param_grid, refit = True, verbose = 3, cv = 10, n_jobs = -1)\n",
    "\n",
    "# fitting the model for grid search\n",
    "grid_nusvc.fit(X_train, y_train.values.ravel())\n",
    "\n",
    "# print best parameter after tuning\n",
    "print(grid_nusvc.best_params_)\n",
    "\n",
    "# print how our model looks after hyper-parameter tuning\n",
    "print(grid_nusvc.best_estimator_)\n",
    "print(grid_nusvc.best_score_)"
   ]
  },
  {
   "cell_type": "code",
   "execution_count": 1019,
   "metadata": {},
   "outputs": [],
   "source": [
    "nusvc_model = grid_nusvc.best_estimator_\n",
    "#nusvc_model = nusvc.fit(X_train, y_train.values.ravel())\n"
   ]
  },
  {
   "cell_type": "code",
   "execution_count": 1020,
   "metadata": {},
   "outputs": [],
   "source": [
    "nusvc_predict = nusvc_model.predict(X_test)"
   ]
  },
  {
   "cell_type": "code",
   "execution_count": 1021,
   "metadata": {},
   "outputs": [
    {
     "name": "stdout",
     "output_type": "stream",
     "text": [
      "The accuracy of nusvc Classifier is:  96.47271630991861\n"
     ]
    }
   ],
   "source": [
    "print('The accuracy of nusvc Classifier is: ', 100.0 * accuracy_score(y_test, nusvc_predict))"
   ]
  },
  {
   "cell_type": "code",
   "execution_count": 1022,
   "metadata": {},
   "outputs": [
    {
     "name": "stdout",
     "output_type": "stream",
     "text": [
      "              precision    recall  f1-score   support\n",
      "\n",
      "           0       0.96      0.96      0.96      1444\n",
      "           1       0.97      0.97      0.97      1873\n",
      "\n",
      "    accuracy                           0.96      3317\n",
      "   macro avg       0.96      0.96      0.96      3317\n",
      "weighted avg       0.96      0.96      0.96      3317\n",
      "\n"
     ]
    }
   ],
   "source": [
    "print(classification_report(y_test, nusvc_predict))"
   ]
  },
  {
   "cell_type": "code",
   "execution_count": 1023,
   "metadata": {},
   "outputs": [
    {
     "data": {
      "image/png": "[encoded data removed]",
      "text/plain": [
       "<Figure size 640x480 with 2 Axes>"
      ]
     },
     "metadata": {},
     "output_type": "display_data"
    }
   ],
   "source": [
    "sns.heatmap(confusion_matrix(y_test, nusvc_predict), annot=True, fmt='g', cmap='Blues')\n",
    "plt.title(\"NuSVC\")\n",
    "plt.xlabel('Predicted Class')\n",
    "plt.ylabel('Original Class')\n",
    "plt.show()"
   ]
  },
  {
   "cell_type": "code",
   "execution_count": 1024,
   "metadata": {},
   "outputs": [
    {
     "name": "stdout",
     "output_type": "stream",
     "text": [
      "Fitting 10 folds for each of 30 candidates, totalling 300 fits\n",
      "{'C': 10, 'dual': False, 'loss': 'squared_hinge', 'penalty': 'l2', 'tol': 0.001}\n",
      "LinearSVC(C=10, dual=False, tol=0.001)\n",
      "0.9285367590280493\n"
     ]
    }
   ],
   "source": [
    "from sklearn.svm import LinearSVC\n",
    "\n",
    "# defining parameter range\n",
    "param_grid = {'C': [0.1, 1, 10, 20, 30],\n",
    "\t\t\t'penalty': ['l1','l2'],\n",
    "\t\t\t'loss': ['squared_hinge'],\n",
    "\t\t\t'dual': [False],\n",
    "\t\t\t'tol': [.1,.01,.001]}\n",
    "\n",
    "grid_lsvc = GridSearchCV(LinearSVC(), param_grid, refit = True, verbose = 3, cv = 10, n_jobs = -1)\n",
    "\n",
    "# fitting the model for grid search\n",
    "grid_lsvc.fit(X_train, y_train.values.ravel())\n",
    "\n",
    "# print best parameter after tuning\n",
    "print(grid_lsvc.best_params_)\n",
    "\n",
    "# print how our model looks after hyper-parameter tuning\n",
    "print(grid_lsvc.best_estimator_)\n",
    "print(grid_lsvc.best_score_)\n"
   ]
  },
  {
   "cell_type": "code",
   "execution_count": 1025,
   "metadata": {},
   "outputs": [],
   "source": [
    "lsvc_model = grid_lsvc.best_estimator_\n",
    "#lsvc_model = lsvc.fit(X_train, y_train.values.ravel())"
   ]
  },
  {
   "cell_type": "code",
   "execution_count": 1026,
   "metadata": {},
   "outputs": [],
   "source": [
    "lsvc_predict = lsvc_model.predict(X_test)"
   ]
  },
  {
   "cell_type": "code",
   "execution_count": 1027,
   "metadata": {},
   "outputs": [
    {
     "name": "stdout",
     "output_type": "stream",
     "text": [
      "The accuracy of lsvc Classifier is:  92.94543261983719\n"
     ]
    }
   ],
   "source": [
    "print('The accuracy of lsvc Classifier is: ', 100.0 * accuracy_score(y_test, lsvc_predict))"
   ]
  },
  {
   "cell_type": "code",
   "execution_count": 1028,
   "metadata": {},
   "outputs": [
    {
     "name": "stdout",
     "output_type": "stream",
     "text": [
      "              precision    recall  f1-score   support\n",
      "\n",
      "           0       0.93      0.91      0.92      1444\n",
      "           1       0.93      0.95      0.94      1873\n",
      "\n",
      "    accuracy                           0.93      3317\n",
      "   macro avg       0.93      0.93      0.93      3317\n",
      "weighted avg       0.93      0.93      0.93      3317\n",
      "\n"
     ]
    }
   ],
   "source": [
    "print(classification_report(y_test, lsvc_predict))"
   ]
  },
  {
   "cell_type": "code",
   "execution_count": 1029,
   "metadata": {},
   "outputs": [
    {
     "data": {
      "image/png": "[encoded data removed]",
      "text/plain": [
       "<Figure size 640x480 with 2 Axes>"
      ]
     },
     "metadata": {},
     "output_type": "display_data"
    }
   ],
   "source": [
    "sns.heatmap(confusion_matrix(y_test, lsvc_predict), annot=True, fmt='g', cmap='Blues')\n",
    "plt.title(\"LinearSVC\")\n",
    "plt.xlabel('Predicted Class')\n",
    "plt.ylabel('Original Class')\n",
    "plt.show()"
   ]
  },
  {
   "cell_type": "code",
   "execution_count": 1030,
   "metadata": {},
   "outputs": [
    {
     "name": "stdout",
     "output_type": "stream",
     "text": [
      "Fitting 10 folds for each of 5 candidates, totalling 50 fits\n",
      "{'n_estimators': 100}\n",
      "AdaBoostClassifier(n_estimators=100)\n",
      "0.9369356946826184\n"
     ]
    }
   ],
   "source": [
    "from sklearn.ensemble import AdaBoostClassifier\n",
    "\n",
    "# defining parameter range\n",
    "param_grid = {'n_estimators': [40,50,100,200,300]}\n",
    "\n",
    "grid_ada = GridSearchCV(AdaBoostClassifier(), param_grid, refit = True, verbose = 3, cv = 10, n_jobs = -1)\n",
    "\n",
    "# fitting the model for grid search\n",
    "grid_ada.fit(X_train, y_train.values.ravel())\n",
    "\n",
    "# print best parameter after tuning\n",
    "print(grid_ada.best_params_)\n",
    "\n",
    "# print how our model looks after hyper-parameter tuning\n",
    "print(grid_ada.best_estimator_)\n",
    "print(grid_ada.best_score_)"
   ]
  },
  {
   "cell_type": "code",
   "execution_count": 1031,
   "metadata": {},
   "outputs": [],
   "source": [
    "ada_model = grid_ada.best_estimator_\n",
    "#ada_model = ada.fit(X_train,y_train.values.ravel())"
   ]
  },
  {
   "cell_type": "code",
   "execution_count": 1032,
   "metadata": {},
   "outputs": [],
   "source": [
    "ada_predict = ada_model.predict(X_test)"
   ]
  },
  {
   "cell_type": "code",
   "execution_count": 1033,
   "metadata": {},
   "outputs": [
    {
     "name": "stdout",
     "output_type": "stream",
     "text": [
      "The accuracy of Ada Boost Classifier is:  93.88001205908954\n"
     ]
    }
   ],
   "source": [
    "print('The accuracy of Ada Boost Classifier is: ', 100.0 * accuracy_score(ada_predict,y_test))"
   ]
  },
  {
   "cell_type": "code",
   "execution_count": 1034,
   "metadata": {},
   "outputs": [
    {
     "name": "stdout",
     "output_type": "stream",
     "text": [
      "              precision    recall  f1-score   support\n",
      "\n",
      "           0       0.94      0.91      0.93      1444\n",
      "           1       0.93      0.96      0.95      1873\n",
      "\n",
      "    accuracy                           0.94      3317\n",
      "   macro avg       0.94      0.94      0.94      3317\n",
      "weighted avg       0.94      0.94      0.94      3317\n",
      "\n"
     ]
    }
   ],
   "source": [
    "print(classification_report(y_test, ada_predict))"
   ]
  },
  {
   "cell_type": "code",
   "execution_count": 1035,
   "metadata": {},
   "outputs": [
    {
     "data": {
      "image/png": "[encoded data removed]",
      "text/plain": [
       "<Figure size 640x480 with 2 Axes>"
      ]
     },
     "metadata": {},
     "output_type": "display_data"
    }
   ],
   "source": [
    "sns.heatmap(confusion_matrix(y_test, ada_predict), annot=True, fmt='g', cmap='Blues')\n",
    "plt.title(\"AdaBoostClassifier\")\n",
    "plt.xlabel('Predicted Class')\n",
    "plt.ylabel('Original Class')\n",
    "plt.show()"
   ]
  },
  {
   "cell_type": "code",
   "execution_count": 1036,
   "metadata": {},
   "outputs": [
    {
     "name": "stdout",
     "output_type": "stream",
     "text": [
      "Fitting 10 folds for each of 15 candidates, totalling 150 fits\n",
      "{'gamma': 0.1, 'n_estimators': 250}\n",
      "XGBClassifier(base_score=0.5, booster='gbtree', callbacks=None,\n",
      "              colsample_bylevel=1, colsample_bynode=1, colsample_bytree=1,\n",
      "              early_stopping_rounds=None, enable_categorical=False,\n",
      "              eval_metric=None, gamma=0.1, gpu_id=-1, grow_policy='depthwise',\n",
      "              importance_type=None, interaction_constraints='',\n",
      "              learning_rate=0.300000012, max_bin=256, max_cat_to_onehot=4,\n",
      "              max_delta_step=0, max_depth=6, max_leaves=0, min_child_weight=1,\n",
      "              missing=nan, monotone_constraints='()', n_estimators=250,\n",
      "              n_jobs=0, num_parallel_tree=1, predictor='auto', random_state=0,\n",
      "              reg_alpha=0, reg_lambda=1, ...)\n",
      "0.9706616391053349\n"
     ]
    }
   ],
   "source": [
    "from xgboost import XGBClassifier\n",
    "\n",
    "\n",
    "# defining parameter range\n",
    "param_grid = {\n",
    "    \"gamma\": [.01, .1, .5],\n",
    "    \"n_estimators\": [50,100,150,200,250]\n",
    "}\n",
    "\n",
    "grid_xgb = GridSearchCV(XGBClassifier(), param_grid, refit = True, verbose = 3, cv = 10, n_jobs = -1)\n",
    "\n",
    "# fitting the model for grid search\n",
    "grid_xgb.fit(X_train, y_train.values.ravel())\n",
    "\n",
    "# print best parameter after tuning\n",
    "print(grid_xgb.best_params_)\n",
    "\n",
    "# print how our model looks after hyper-parameter tuning\n",
    "print(grid_xgb.best_estimator_)\n",
    "print(grid_xgb.best_score_)\n"
   ]
  },
  {
   "cell_type": "code",
   "execution_count": 1037,
   "metadata": {},
   "outputs": [],
   "source": [
    "xgb_model = grid_xgb.best_estimator_\n",
    "#xgb_model = xgb.fit(X_train,y_train)"
   ]
  },
  {
   "cell_type": "code",
   "execution_count": 1038,
   "metadata": {},
   "outputs": [],
   "source": [
    "xgb_predict=xgb_model.predict(X_test)"
   ]
  },
  {
   "cell_type": "code",
   "execution_count": 1039,
   "metadata": {},
   "outputs": [
    {
     "name": "stdout",
     "output_type": "stream",
     "text": [
      "The accuracy of XGBoost Classifier is:  97.34700030147724\n"
     ]
    }
   ],
   "source": [
    "print('The accuracy of XGBoost Classifier is: ' , 100.0 * accuracy_score(xgb_predict,y_test))"
   ]
  },
  {
   "cell_type": "code",
   "execution_count": 1040,
   "metadata": {},
   "outputs": [
    {
     "name": "stdout",
     "output_type": "stream",
     "text": [
      "              precision    recall  f1-score   support\n",
      "\n",
      "           0       0.98      0.96      0.97      1444\n",
      "           1       0.97      0.98      0.98      1873\n",
      "\n",
      "    accuracy                           0.97      3317\n",
      "   macro avg       0.97      0.97      0.97      3317\n",
      "weighted avg       0.97      0.97      0.97      3317\n",
      "\n"
     ]
    }
   ],
   "source": [
    "print(classification_report(y_test, xgb_predict))"
   ]
  },
  {
   "cell_type": "code",
   "execution_count": 1041,
   "metadata": {},
   "outputs": [
    {
     "data": {
      "image/png": "[encoded data removed]",
      "text/plain": [
       "<Figure size 640x480 with 2 Axes>"
      ]
     },
     "metadata": {},
     "output_type": "display_data"
    }
   ],
   "source": [
    "sns.heatmap(confusion_matrix(y_test, xgb_predict), annot=True, fmt='g', cmap='Blues')\n",
    "plt.title(\"XGBClassifier\")\n",
    "plt.xlabel('Predicted Class')\n",
    "plt.ylabel('Original Class')\n",
    "plt.show()"
   ]
  },
  {
   "cell_type": "code",
   "execution_count": 1042,
   "metadata": {},
   "outputs": [
    {
     "name": "stdout",
     "output_type": "stream",
     "text": [
      "Fitting 10 folds for each of 15 candidates, totalling 150 fits\n",
      "{'learning_rate': 1, 'n_estimators': 150}\n",
      "GradientBoostingClassifier(learning_rate=1, n_estimators=150)\n",
      "0.9671725984536238\n"
     ]
    }
   ],
   "source": [
    "from sklearn.ensemble import GradientBoostingClassifier\n",
    "\n",
    "# defining parameter range\n",
    "param_grid = {\n",
    "    \"learning_rate\": [.1,.5,1],\n",
    "    \"n_estimators\": [50,100,150,200,250]\n",
    "}\n",
    "\n",
    "grid_gbc = GridSearchCV(GradientBoostingClassifier(), param_grid, refit = True, verbose = 3, cv = 10, n_jobs = -1)\n",
    "\n",
    "# fitting the model for grid search\n",
    "grid_gbc.fit(X_train, y_train.values.ravel())\n",
    "\n",
    "# print best parameter after tuning\n",
    "print(grid_gbc.best_params_)\n",
    "\n",
    "# print how our model looks after hyper-parameter tuning\n",
    "print(grid_gbc.best_estimator_)\n",
    "print(grid_gbc.best_score_)"
   ]
  },
  {
   "cell_type": "code",
   "execution_count": 1043,
   "metadata": {},
   "outputs": [],
   "source": [
    "gbc_model = grid_gbc.best_estimator_\n",
    "#gbc_model = gbc.fit(X_train,y_train.values.ravel())\n",
    "\n",
    "#clf = GradientBoostingClassifier(n_estimators=100, learning_rate=1.0,\n",
    "#    max_depth=1, random_state=0).fit(X_train, y_train)\n",
    "#clf.score(X_test, y_test)"
   ]
  },
  {
   "cell_type": "code",
   "execution_count": 1044,
   "metadata": {},
   "outputs": [],
   "source": [
    "gbc_predict = gbc_model.predict(X_test)"
   ]
  },
  {
   "cell_type": "code",
   "execution_count": 1045,
   "metadata": {},
   "outputs": [
    {
     "name": "stdout",
     "output_type": "stream",
     "text": [
      "The accuracy of GradientBoost Classifier is:  96.593307205306\n"
     ]
    }
   ],
   "source": [
    "print('The accuracy of GradientBoost Classifier is: ' , 100.0 * accuracy_score(gbc_predict,y_test))"
   ]
  },
  {
   "cell_type": "code",
   "execution_count": 1046,
   "metadata": {},
   "outputs": [
    {
     "name": "stdout",
     "output_type": "stream",
     "text": [
      "              precision    recall  f1-score   support\n",
      "\n",
      "           0       0.96      0.96      0.96      1444\n",
      "           1       0.97      0.97      0.97      1873\n",
      "\n",
      "    accuracy                           0.97      3317\n",
      "   macro avg       0.97      0.97      0.97      3317\n",
      "weighted avg       0.97      0.97      0.97      3317\n",
      "\n"
     ]
    }
   ],
   "source": [
    "print(classification_report(y_test, gbc_predict))"
   ]
  },
  {
   "cell_type": "code",
   "execution_count": 1047,
   "metadata": {},
   "outputs": [
    {
     "data": {
      "image/png": "[encoded data removed]",
      "text/plain": [
       "<Figure size 640x480 with 2 Axes>"
      ]
     },
     "metadata": {},
     "output_type": "display_data"
    }
   ],
   "source": [
    "sns.heatmap(confusion_matrix(y_test, gbc_predict), annot=True, fmt='g', cmap='Blues')\n",
    "plt.title(\"GradientBoostingClassifier\")\n",
    "plt.xlabel('Predicted Class')\n",
    "plt.ylabel('Original Class')\n",
    "plt.show()"
   ]
  },
  {
   "cell_type": "code",
   "execution_count": 1048,
   "metadata": {},
   "outputs": [],
   "source": [
    "# gbc_model.get_params().keys()"
   ]
  },
  {
   "cell_type": "code",
   "execution_count": 1049,
   "metadata": {},
   "outputs": [],
   "source": [
    "# import inspect\n",
    "# import sklearn\n",
    "# import xgboost\n",
    "\n",
    "# models = [xgboost.XGBClassifier]\n",
    "# for m in models:\n",
    "#     hyperparams = inspect.signature(m.__init__)\n",
    "#     print(hyperparams)\n",
    "# #or\n",
    "# xgb_model.get_params().keys()\n"
   ]
  },
  {
   "cell_type": "code",
   "execution_count": 1050,
   "metadata": {},
   "outputs": [
    {
     "name": "stdout",
     "output_type": "stream",
     "text": [
      "Fitting 10 folds for each of 5 candidates, totalling 50 fits\n",
      "{'base_estimator': DecisionTreeClassifier(), 'n_estimators': 200}\n",
      "BaggingClassifier(base_estimator=DecisionTreeClassifier(), n_estimators=200)\n",
      "0.9652341125384838\n"
     ]
    }
   ],
   "source": [
    "from sklearn.ensemble import BaggingClassifier\n",
    "from sklearn.tree import DecisionTreeClassifier\n",
    "\n",
    "# defining parameter range\n",
    "param_grid = {\n",
    "    \"base_estimator\": [DecisionTreeClassifier()],\n",
    "    \"n_estimators\": [50,100,150,200,250]\n",
    "}\n",
    "\n",
    "grid_bag = GridSearchCV(BaggingClassifier(), param_grid, refit = True, verbose = 3, cv = 10, n_jobs = -1)\n",
    "\n",
    "# fitting the model for grid search\n",
    "grid_bag.fit(X_train, y_train.values.ravel())\n",
    "\n",
    "# print best parameter after tuning\n",
    "print(grid_bag.best_params_)\n",
    "\n",
    "# print how our model looks after hyper-parameter tuning\n",
    "print(grid_bag.best_estimator_)\n",
    "print(grid_bag.best_score_)"
   ]
  },
  {
   "cell_type": "code",
   "execution_count": 1051,
   "metadata": {},
   "outputs": [],
   "source": [
    "bag_model = grid_bag.best_estimator_\n",
    "#bag_model = bag.fit(X_train, y_train.values.ravel())\n"
   ]
  },
  {
   "cell_type": "code",
   "execution_count": 1052,
   "metadata": {},
   "outputs": [],
   "source": [
    "bag_predict = bag_model.predict(X_test)"
   ]
  },
  {
   "cell_type": "code",
   "execution_count": 1053,
   "metadata": {},
   "outputs": [
    {
     "name": "stdout",
     "output_type": "stream",
     "text": [
      "The accuracy of Bagging Classifier is:  97.10581851070245\n"
     ]
    }
   ],
   "source": [
    "print('The accuracy of Bagging Classifier is: ' , 100.0 * accuracy_score(y_test, bag_predict))"
   ]
  },
  {
   "cell_type": "code",
   "execution_count": 1054,
   "metadata": {},
   "outputs": [
    {
     "name": "stdout",
     "output_type": "stream",
     "text": [
      "              precision    recall  f1-score   support\n",
      "\n",
      "           0       0.97      0.96      0.97      1444\n",
      "           1       0.97      0.98      0.97      1873\n",
      "\n",
      "    accuracy                           0.97      3317\n",
      "   macro avg       0.97      0.97      0.97      3317\n",
      "weighted avg       0.97      0.97      0.97      3317\n",
      "\n"
     ]
    }
   ],
   "source": [
    "print(classification_report(y_test, bag_predict))"
   ]
  },
  {
   "cell_type": "code",
   "execution_count": 1055,
   "metadata": {},
   "outputs": [
    {
     "data": {
      "image/png": "[encoded data removed]",
      "text/plain": [
       "<Figure size 640x480 with 2 Axes>"
      ]
     },
     "metadata": {},
     "output_type": "display_data"
    }
   ],
   "source": [
    "sns.heatmap(confusion_matrix(y_test, bag_predict), annot=True, fmt='g', cmap='Blues')\n",
    "plt.title(\"BaggingClassifier\")\n",
    "plt.xlabel('Predicted Class')\n",
    "plt.ylabel('Original Class')\n",
    "plt.show()"
   ]
  },
  {
   "cell_type": "code",
   "execution_count": 1056,
   "metadata": {},
   "outputs": [
    {
     "name": "stdout",
     "output_type": "stream",
     "text": [
      "Fitting 10 folds for each of 5 candidates, totalling 50 fits\n",
      "{'n_estimators': 250}\n",
      "RandomForestClassifier(n_estimators=250)\n",
      "0.9685939542237867\n"
     ]
    }
   ],
   "source": [
    "from sklearn.ensemble import RandomForestClassifier\n",
    "\n",
    "# defining parameter range\n",
    "param_grid = {\n",
    "    \"n_estimators\": [50,100,150,200,250]\n",
    "}\n",
    "\n",
    "grid_rfc = GridSearchCV(RandomForestClassifier(), param_grid, refit = True, verbose = 3, cv = 10, n_jobs = -1)\n",
    "\n",
    "# fitting the model for grid search\n",
    "grid_rfc.fit(X_train, y_train.values.ravel())\n",
    "\n",
    "# print best parameter after tuning\n",
    "print(grid_rfc.best_params_)\n",
    "\n",
    "# print how our model looks after hyper-parameter tuning\n",
    "print(grid_rfc.best_estimator_)\n",
    "print(grid_rfc.best_score_)"
   ]
  },
  {
   "cell_type": "code",
   "execution_count": 1057,
   "metadata": {},
   "outputs": [],
   "source": [
    "rfc_model = grid_rfc.best_estimator_\n",
    "#rfc_model = rfc.fit(X_train,y_train.values.ravel())"
   ]
  },
  {
   "cell_type": "code",
   "execution_count": 1058,
   "metadata": {},
   "outputs": [],
   "source": [
    "rfc_predict = rfc_model.predict(X_test)"
   ]
  },
  {
   "cell_type": "code",
   "execution_count": 1059,
   "metadata": {},
   "outputs": [
    {
     "name": "stdout",
     "output_type": "stream",
     "text": [
      "The accuracy of RandomForest Classifier is:  97.34700030147724\n"
     ]
    }
   ],
   "source": [
    "print('The accuracy of RandomForest Classifier is: ' , 100.0 * accuracy_score(rfc_predict,y_test))"
   ]
  },
  {
   "cell_type": "code",
   "execution_count": 1060,
   "metadata": {},
   "outputs": [
    {
     "name": "stdout",
     "output_type": "stream",
     "text": [
      "              precision    recall  f1-score   support\n",
      "\n",
      "           0       0.98      0.96      0.97      1444\n",
      "           1       0.97      0.98      0.98      1873\n",
      "\n",
      "    accuracy                           0.97      3317\n",
      "   macro avg       0.97      0.97      0.97      3317\n",
      "weighted avg       0.97      0.97      0.97      3317\n",
      "\n"
     ]
    }
   ],
   "source": [
    "print(classification_report(y_test, rfc_predict))"
   ]
  },
  {
   "cell_type": "code",
   "execution_count": 1061,
   "metadata": {},
   "outputs": [
    {
     "data": {
      "image/png": "[encoded data removed]",
      "text/plain": [
       "<Figure size 640x480 with 2 Axes>"
      ]
     },
     "metadata": {},
     "output_type": "display_data"
    }
   ],
   "source": [
    "sns.heatmap(confusion_matrix(y_test, rfc_predict), annot=True, fmt='g', cmap='Blues')\n",
    "plt.title(\"RandomForestClassifier\")\n",
    "plt.xlabel('Predicted Class')\n",
    "plt.ylabel('Original Class')\n",
    "plt.show()"
   ]
  },
  {
   "cell_type": "code",
   "execution_count": 1062,
   "metadata": {},
   "outputs": [
    {
     "data": {
      "image/png": "[encoded data removed]",
      "text/plain": [
       "<Figure size 640x480 with 1 Axes>"
      ]
     },
     "metadata": {},
     "output_type": "display_data"
    }
   ],
   "source": [
    "estimators = [logr_model,knn_model,svc_model,nusvc_model,lsvc_model,xgb_model,ada_model,gbc_model,bag_model,rfc_model]\n",
    "\n",
    "for estimator in estimators:\n",
    "    RocCurveDisplay.from_estimator(estimator,X_test,y_test,ax=plt.gca())\n"
   ]
  },
  {
   "cell_type": "code",
   "execution_count": 1063,
   "metadata": {},
   "outputs": [
    {
     "name": "stdout",
     "output_type": "stream",
     "text": [
      "Model: \"sequential_9\"\n",
      "_________________________________________________________________\n",
      " Layer (type)                Output Shape              Param #   \n",
      "=================================================================\n",
      " lstm_9 (LSTM)               (None, 100)               50400     \n",
      "                                                                 \n",
      " batch_normalization_9 (Batc  (None, 100)              400       \n",
      " hNormalization)                                                 \n",
      "                                                                 \n",
      " dense_36 (Dense)            (None, 50)                5050      \n",
      "                                                                 \n",
      " dense_37 (Dense)            (None, 25)                1275      \n",
      "                                                                 \n",
      " dense_38 (Dense)            (None, 10)                260       \n",
      "                                                                 \n",
      " dense_39 (Dense)            (None, 1)                 11        \n",
      "                                                                 \n",
      "=================================================================\n",
      "Total params: 57,396\n",
      "Trainable params: 57,196\n",
      "Non-trainable params: 200\n",
      "_________________________________________________________________\n",
      "Epoch 1/100\n",
      "194/194 [==============================] - 4s 7ms/step - loss: 0.2365 - accuracy: 0.9039 - val_loss: 0.4272 - val_accuracy: 0.8766\n",
      "Epoch 2/100\n",
      "194/194 [==============================] - 1s 4ms/step - loss: 0.1672 - accuracy: 0.9312 - val_loss: 0.2204 - val_accuracy: 0.9360\n",
      "Epoch 3/100\n",
      "194/194 [==============================] - 1s 4ms/step - loss: 0.1440 - accuracy: 0.9375 - val_loss: 0.1433 - val_accuracy: 0.9490\n",
      "Epoch 4/100\n",
      "194/194 [==============================] - 1s 4ms/step - loss: 0.1364 - accuracy: 0.9425 - val_loss: 0.1248 - val_accuracy: 0.9516\n",
      "Epoch 5/100\n",
      "194/194 [==============================] - 1s 4ms/step - loss: 0.1269 - accuracy: 0.9446 - val_loss: 0.1192 - val_accuracy: 0.9432\n",
      "Epoch 6/100\n",
      "194/194 [==============================] - 1s 4ms/step - loss: 0.1211 - accuracy: 0.9491 - val_loss: 0.1283 - val_accuracy: 0.9483\n",
      "Epoch 7/100\n",
      "194/194 [==============================] - 1s 4ms/step - loss: 0.1088 - accuracy: 0.9536 - val_loss: 0.1304 - val_accuracy: 0.9490\n",
      "Epoch 8/100\n",
      "194/194 [==============================] - 1s 5ms/step - loss: 0.1073 - accuracy: 0.9546 - val_loss: 0.1217 - val_accuracy: 0.9528\n",
      "Epoch 9/100\n",
      "194/194 [==============================] - 1s 4ms/step - loss: 0.0966 - accuracy: 0.9603 - val_loss: 0.1258 - val_accuracy: 0.9535\n",
      "Epoch 10/100\n",
      "194/194 [==============================] - 1s 5ms/step - loss: 0.0966 - accuracy: 0.9590 - val_loss: 0.1415 - val_accuracy: 0.9464\n",
      "Epoch 11/100\n",
      "194/194 [==============================] - 1s 4ms/step - loss: 0.0949 - accuracy: 0.9606 - val_loss: 0.1463 - val_accuracy: 0.9444\n",
      "Epoch 12/100\n",
      "194/194 [==============================] - 1s 4ms/step - loss: 0.0886 - accuracy: 0.9606 - val_loss: 0.1087 - val_accuracy: 0.9535\n",
      "Epoch 13/100\n",
      "194/194 [==============================] - 1s 4ms/step - loss: 0.0829 - accuracy: 0.9641 - val_loss: 0.1131 - val_accuracy: 0.9516\n",
      "Epoch 14/100\n",
      "194/194 [==============================] - 1s 4ms/step - loss: 0.0746 - accuracy: 0.9687 - val_loss: 0.1092 - val_accuracy: 0.9548\n",
      "Epoch 15/100\n",
      "194/194 [==============================] - 1s 4ms/step - loss: 0.0827 - accuracy: 0.9674 - val_loss: 0.1152 - val_accuracy: 0.9503\n",
      "Epoch 16/100\n",
      "194/194 [==============================] - 1s 4ms/step - loss: 0.0758 - accuracy: 0.9691 - val_loss: 0.1261 - val_accuracy: 0.9554\n",
      "Epoch 17/100\n",
      "194/194 [==============================] - 1s 4ms/step - loss: 0.0723 - accuracy: 0.9724 - val_loss: 0.1229 - val_accuracy: 0.9522\n",
      "Epoch 18/100\n",
      "194/194 [==============================] - 1s 5ms/step - loss: 0.0721 - accuracy: 0.9691 - val_loss: 0.0975 - val_accuracy: 0.9599\n",
      "Epoch 19/100\n",
      "194/194 [==============================] - 1s 4ms/step - loss: 0.0616 - accuracy: 0.9745 - val_loss: 0.1474 - val_accuracy: 0.9373\n",
      "Epoch 20/100\n",
      "194/194 [==============================] - 1s 4ms/step - loss: 0.0686 - accuracy: 0.9714 - val_loss: 0.1269 - val_accuracy: 0.9593\n",
      "Epoch 21/100\n",
      "194/194 [==============================] - 1s 4ms/step - loss: 0.0633 - accuracy: 0.9738 - val_loss: 0.1258 - val_accuracy: 0.9522\n",
      "Epoch 22/100\n",
      "194/194 [==============================] - 1s 4ms/step - loss: 0.0652 - accuracy: 0.9738 - val_loss: 0.1253 - val_accuracy: 0.9567\n",
      "Epoch 23/100\n",
      "194/194 [==============================] - 1s 4ms/step - loss: 0.0590 - accuracy: 0.9751 - val_loss: 0.1324 - val_accuracy: 0.9561\n",
      "Epoch 24/100\n",
      "194/194 [==============================] - 1s 4ms/step - loss: 0.0663 - accuracy: 0.9722 - val_loss: 0.1056 - val_accuracy: 0.9612\n",
      "Epoch 25/100\n",
      "194/194 [==============================] - 1s 4ms/step - loss: 0.0591 - accuracy: 0.9756 - val_loss: 0.1054 - val_accuracy: 0.9651\n",
      "Epoch 26/100\n",
      "194/194 [==============================] - 1s 4ms/step - loss: 0.0610 - accuracy: 0.9751 - val_loss: 0.1064 - val_accuracy: 0.9587\n",
      "Epoch 27/100\n",
      "194/194 [==============================] - 1s 4ms/step - loss: 0.0598 - accuracy: 0.9742 - val_loss: 0.1224 - val_accuracy: 0.9567\n",
      "Epoch 28/100\n",
      "194/194 [==============================] - 1s 4ms/step - loss: 0.0542 - accuracy: 0.9774 - val_loss: 0.1226 - val_accuracy: 0.9535\n",
      "Epoch 29/100\n",
      "194/194 [==============================] - 1s 5ms/step - loss: 0.0559 - accuracy: 0.9764 - val_loss: 0.1234 - val_accuracy: 0.9574\n",
      "Epoch 30/100\n",
      "194/194 [==============================] - 1s 5ms/step - loss: 0.0503 - accuracy: 0.9805 - val_loss: 0.1094 - val_accuracy: 0.9638\n",
      "Epoch 31/100\n",
      "194/194 [==============================] - 1s 5ms/step - loss: 0.0503 - accuracy: 0.9785 - val_loss: 0.1284 - val_accuracy: 0.9528\n",
      "Epoch 32/100\n",
      "194/194 [==============================] - 1s 4ms/step - loss: 0.0501 - accuracy: 0.9774 - val_loss: 0.1178 - val_accuracy: 0.9599\n",
      "Epoch 33/100\n",
      "194/194 [==============================] - 1s 4ms/step - loss: 0.0507 - accuracy: 0.9805 - val_loss: 0.1389 - val_accuracy: 0.9612\n",
      "Epoch 34/100\n",
      "194/194 [==============================] - 1s 5ms/step - loss: 0.0529 - accuracy: 0.9761 - val_loss: 0.1266 - val_accuracy: 0.9587\n",
      "Epoch 35/100\n",
      "194/194 [==============================] - 1s 4ms/step - loss: 0.0514 - accuracy: 0.9780 - val_loss: 0.1275 - val_accuracy: 0.9587\n",
      "Epoch 36/100\n",
      "194/194 [==============================] - 1s 5ms/step - loss: 0.0480 - accuracy: 0.9813 - val_loss: 0.1372 - val_accuracy: 0.9593\n",
      "Epoch 37/100\n",
      "194/194 [==============================] - 1s 4ms/step - loss: 0.0436 - accuracy: 0.9795 - val_loss: 0.1508 - val_accuracy: 0.9561\n",
      "Epoch 38/100\n",
      "194/194 [==============================] - 1s 5ms/step - loss: 0.0508 - accuracy: 0.9780 - val_loss: 0.1128 - val_accuracy: 0.9599\n",
      "Epoch 39/100\n",
      "194/194 [==============================] - 1s 4ms/step - loss: 0.0499 - accuracy: 0.9806 - val_loss: 0.1536 - val_accuracy: 0.9567\n",
      "Epoch 40/100\n",
      "194/194 [==============================] - 1s 4ms/step - loss: 0.0474 - accuracy: 0.9817 - val_loss: 0.1311 - val_accuracy: 0.9567\n",
      "Epoch 41/100\n",
      "194/194 [==============================] - 1s 5ms/step - loss: 0.0410 - accuracy: 0.9847 - val_loss: 0.1426 - val_accuracy: 0.9599\n",
      "Epoch 42/100\n",
      "194/194 [==============================] - 1s 4ms/step - loss: 0.0459 - accuracy: 0.9817 - val_loss: 0.1222 - val_accuracy: 0.9599\n",
      "Epoch 43/100\n",
      "194/194 [==============================] - 1s 5ms/step - loss: 0.0400 - accuracy: 0.9838 - val_loss: 0.1475 - val_accuracy: 0.9496\n",
      "Epoch 44/100\n",
      "194/194 [==============================] - 1s 5ms/step - loss: 0.0426 - accuracy: 0.9813 - val_loss: 0.1377 - val_accuracy: 0.9567\n",
      "Epoch 45/100\n",
      "194/194 [==============================] - 1s 5ms/step - loss: 0.0446 - accuracy: 0.9822 - val_loss: 0.1171 - val_accuracy: 0.9625\n",
      "Epoch 46/100\n",
      "194/194 [==============================] - 1s 4ms/step - loss: 0.0389 - accuracy: 0.9830 - val_loss: 0.1396 - val_accuracy: 0.9574\n",
      "Epoch 47/100\n",
      "194/194 [==============================] - 1s 4ms/step - loss: 0.0365 - accuracy: 0.9838 - val_loss: 0.1365 - val_accuracy: 0.9632\n",
      "Epoch 48/100\n",
      "194/194 [==============================] - 1s 4ms/step - loss: 0.0404 - accuracy: 0.9821 - val_loss: 0.1366 - val_accuracy: 0.9606\n",
      "Epoch 49/100\n",
      "194/194 [==============================] - 1s 4ms/step - loss: 0.0378 - accuracy: 0.9835 - val_loss: 0.1461 - val_accuracy: 0.9561\n",
      "Epoch 50/100\n",
      "194/194 [==============================] - 1s 4ms/step - loss: 0.0477 - accuracy: 0.9811 - val_loss: 0.1344 - val_accuracy: 0.9561\n",
      "Epoch 51/100\n",
      "194/194 [==============================] - 1s 5ms/step - loss: 0.0384 - accuracy: 0.9840 - val_loss: 0.1383 - val_accuracy: 0.9632\n",
      "Epoch 52/100\n",
      "194/194 [==============================] - 1s 4ms/step - loss: 0.0390 - accuracy: 0.9822 - val_loss: 0.1977 - val_accuracy: 0.9580\n",
      "Epoch 53/100\n",
      "194/194 [==============================] - 1s 4ms/step - loss: 0.0425 - accuracy: 0.9834 - val_loss: 0.1350 - val_accuracy: 0.9574\n",
      "Epoch 54/100\n",
      "194/194 [==============================] - 1s 4ms/step - loss: 0.0388 - accuracy: 0.9821 - val_loss: 0.1536 - val_accuracy: 0.9580\n",
      "Epoch 55/100\n",
      "194/194 [==============================] - 1s 5ms/step - loss: 0.0396 - accuracy: 0.9834 - val_loss: 0.1405 - val_accuracy: 0.9587\n",
      "Epoch 56/100\n",
      "194/194 [==============================] - 1s 4ms/step - loss: 0.0410 - accuracy: 0.9811 - val_loss: 0.1372 - val_accuracy: 0.9599\n",
      "Epoch 57/100\n",
      "194/194 [==============================] - 1s 4ms/step - loss: 0.0416 - accuracy: 0.9801 - val_loss: 0.1592 - val_accuracy: 0.9541\n",
      "Epoch 58/100\n",
      "194/194 [==============================] - 1s 5ms/step - loss: 0.0360 - accuracy: 0.9853 - val_loss: 0.1306 - val_accuracy: 0.9651\n",
      "Epoch 59/100\n",
      "194/194 [==============================] - 1s 4ms/step - loss: 0.0368 - accuracy: 0.9850 - val_loss: 0.1342 - val_accuracy: 0.9625\n",
      "Epoch 60/100\n",
      "194/194 [==============================] - 1s 5ms/step - loss: 0.0355 - accuracy: 0.9843 - val_loss: 0.1365 - val_accuracy: 0.9619\n",
      "Epoch 61/100\n",
      "194/194 [==============================] - 1s 4ms/step - loss: 0.0367 - accuracy: 0.9850 - val_loss: 0.1549 - val_accuracy: 0.9593\n",
      "Epoch 62/100\n",
      "194/194 [==============================] - 1s 5ms/step - loss: 0.0365 - accuracy: 0.9827 - val_loss: 0.1575 - val_accuracy: 0.9548\n",
      "Epoch 63/100\n",
      "194/194 [==============================] - 1s 4ms/step - loss: 0.0346 - accuracy: 0.9869 - val_loss: 0.1386 - val_accuracy: 0.9587\n",
      "Epoch 64/100\n",
      "194/194 [==============================] - 1s 5ms/step - loss: 0.0343 - accuracy: 0.9850 - val_loss: 0.1653 - val_accuracy: 0.9561\n",
      "Epoch 65/100\n",
      "194/194 [==============================] - 1s 4ms/step - loss: 0.0369 - accuracy: 0.9851 - val_loss: 0.1484 - val_accuracy: 0.9574\n",
      "Epoch 66/100\n",
      "194/194 [==============================] - 1s 4ms/step - loss: 0.0395 - accuracy: 0.9838 - val_loss: 0.1577 - val_accuracy: 0.9606\n",
      "Epoch 67/100\n",
      "194/194 [==============================] - 1s 4ms/step - loss: 0.0333 - accuracy: 0.9848 - val_loss: 0.1290 - val_accuracy: 0.9632\n",
      "Epoch 68/100\n",
      "194/194 [==============================] - 1s 4ms/step - loss: 0.0332 - accuracy: 0.9859 - val_loss: 0.1462 - val_accuracy: 0.9599\n",
      "Epoch 69/100\n",
      "194/194 [==============================] - 1s 5ms/step - loss: 0.0332 - accuracy: 0.9853 - val_loss: 0.1580 - val_accuracy: 0.9574\n",
      "Epoch 70/100\n",
      "194/194 [==============================] - 1s 5ms/step - loss: 0.0329 - accuracy: 0.9845 - val_loss: 0.1715 - val_accuracy: 0.9541\n",
      "Epoch 71/100\n",
      "194/194 [==============================] - 1s 5ms/step - loss: 0.0331 - accuracy: 0.9853 - val_loss: 0.1599 - val_accuracy: 0.9632\n",
      "Epoch 72/100\n",
      "194/194 [==============================] - 1s 4ms/step - loss: 0.0363 - accuracy: 0.9840 - val_loss: 0.1460 - val_accuracy: 0.9625\n",
      "Epoch 73/100\n",
      "194/194 [==============================] - 1s 5ms/step - loss: 0.0326 - accuracy: 0.9864 - val_loss: 0.1688 - val_accuracy: 0.9574\n",
      "Epoch 74/100\n",
      "194/194 [==============================] - 1s 4ms/step - loss: 0.0347 - accuracy: 0.9840 - val_loss: 0.1681 - val_accuracy: 0.9606\n",
      "Epoch 75/100\n",
      "194/194 [==============================] - 1s 4ms/step - loss: 0.0358 - accuracy: 0.9847 - val_loss: 0.1347 - val_accuracy: 0.9593\n",
      "Epoch 76/100\n",
      "194/194 [==============================] - 1s 5ms/step - loss: 0.0316 - accuracy: 0.9869 - val_loss: 0.1742 - val_accuracy: 0.9509\n",
      "Epoch 77/100\n",
      "194/194 [==============================] - 1s 5ms/step - loss: 0.0354 - accuracy: 0.9843 - val_loss: 0.1409 - val_accuracy: 0.9658\n",
      "Epoch 78/100\n",
      "194/194 [==============================] - 1s 4ms/step - loss: 0.0414 - accuracy: 0.9834 - val_loss: 0.1666 - val_accuracy: 0.9599\n",
      "Epoch 79/100\n",
      "194/194 [==============================] - 1s 4ms/step - loss: 0.0327 - accuracy: 0.9858 - val_loss: 0.1476 - val_accuracy: 0.9625\n",
      "Epoch 80/100\n",
      "194/194 [==============================] - 1s 5ms/step - loss: 0.0303 - accuracy: 0.9868 - val_loss: 0.1625 - val_accuracy: 0.9587\n",
      "Epoch 81/100\n",
      "194/194 [==============================] - 1s 5ms/step - loss: 0.0294 - accuracy: 0.9869 - val_loss: 0.1450 - val_accuracy: 0.9612\n",
      "Epoch 82/100\n",
      "194/194 [==============================] - 1s 4ms/step - loss: 0.0309 - accuracy: 0.9876 - val_loss: 0.1867 - val_accuracy: 0.9599\n",
      "Epoch 83/100\n",
      "194/194 [==============================] - 1s 4ms/step - loss: 0.0339 - accuracy: 0.9845 - val_loss: 0.1659 - val_accuracy: 0.9606\n",
      "Epoch 84/100\n",
      "194/194 [==============================] - 1s 4ms/step - loss: 0.0323 - accuracy: 0.9872 - val_loss: 0.1697 - val_accuracy: 0.9612\n",
      "Epoch 85/100\n",
      "194/194 [==============================] - 1s 5ms/step - loss: 0.0291 - accuracy: 0.9872 - val_loss: 0.1647 - val_accuracy: 0.9593\n",
      "Epoch 86/100\n",
      "194/194 [==============================] - 1s 4ms/step - loss: 0.0330 - accuracy: 0.9858 - val_loss: 0.1592 - val_accuracy: 0.9612\n",
      "Epoch 87/100\n",
      "194/194 [==============================] - 1s 4ms/step - loss: 0.0330 - accuracy: 0.9851 - val_loss: 0.1510 - val_accuracy: 0.9606\n",
      "Epoch 88/100\n",
      "194/194 [==============================] - 1s 4ms/step - loss: 0.0416 - accuracy: 0.9832 - val_loss: 0.1763 - val_accuracy: 0.9599\n",
      "Epoch 89/100\n",
      "194/194 [==============================] - 1s 5ms/step - loss: 0.0343 - accuracy: 0.9847 - val_loss: 0.1455 - val_accuracy: 0.9625\n",
      "Epoch 90/100\n",
      "194/194 [==============================] - 1s 4ms/step - loss: 0.0291 - accuracy: 0.9864 - val_loss: 0.1667 - val_accuracy: 0.9632\n",
      "Epoch 91/100\n",
      "194/194 [==============================] - 1s 4ms/step - loss: 0.0280 - accuracy: 0.9861 - val_loss: 0.1655 - val_accuracy: 0.9587\n",
      "Epoch 92/100\n",
      "194/194 [==============================] - 1s 4ms/step - loss: 0.0295 - accuracy: 0.9866 - val_loss: 0.1694 - val_accuracy: 0.9574\n",
      "Epoch 93/100\n",
      "194/194 [==============================] - 1s 5ms/step - loss: 0.0307 - accuracy: 0.9871 - val_loss: 0.1576 - val_accuracy: 0.9574\n",
      "Epoch 94/100\n",
      "194/194 [==============================] - 1s 4ms/step - loss: 0.0290 - accuracy: 0.9871 - val_loss: 0.1652 - val_accuracy: 0.9587\n",
      "Epoch 95/100\n",
      "194/194 [==============================] - 1s 4ms/step - loss: 0.0316 - accuracy: 0.9864 - val_loss: 0.1628 - val_accuracy: 0.9625\n",
      "Epoch 96/100\n",
      "194/194 [==============================] - 1s 4ms/step - loss: 0.0343 - accuracy: 0.9847 - val_loss: 0.1409 - val_accuracy: 0.9619\n",
      "Epoch 97/100\n",
      "194/194 [==============================] - 1s 5ms/step - loss: 0.0327 - accuracy: 0.9853 - val_loss: 0.1536 - val_accuracy: 0.9619\n",
      "Epoch 98/100\n",
      "194/194 [==============================] - 1s 4ms/step - loss: 0.0292 - accuracy: 0.9859 - val_loss: 0.1656 - val_accuracy: 0.9606\n",
      "Epoch 99/100\n",
      "194/194 [==============================] - 1s 4ms/step - loss: 0.0326 - accuracy: 0.9864 - val_loss: 0.1619 - val_accuracy: 0.9638\n",
      "Epoch 100/100\n",
      "194/194 [==============================] - 1s 5ms/step - loss: 0.0285 - accuracy: 0.9871 - val_loss: 0.1705 - val_accuracy: 0.9580\n",
      "Test results - Loss: 0.12258728593587875 - Accuracy: 96.56316041946411%\n"
     ]
    }
   ],
   "source": [
    "import tensorflow as tf\n",
    "#from tensorflow.keras.datasets import imdb\n",
    "from keras.layers import Embedding, Dense, LSTM, BatchNormalization\n",
    "from keras.losses import BinaryCrossentropy\n",
    "from keras.models import Sequential\n",
    "from keras.optimizers import Adam\n",
    "#from tensorflow.keras.preprocessing.sequence import pad_sequences\n",
    "\n",
    "# Model configuration\n",
    "additional_metrics = ['accuracy']\n",
    "batch_size = 32\n",
    "#embedding_output_dims = (X_train.shape[1])\n",
    "loss_function = BinaryCrossentropy()\n",
    "#max_sequence_length = (X_train.shape[1])\n",
    "#num_distinct_words = (X_train.shape[1])\n",
    "number_of_epochs = 100\n",
    "optimizer = Adam()\n",
    "validation_split = 0.20\n",
    "verbosity_mode = 1\n",
    "\n",
    "# reshape from [samples, features] into [samples, timesteps, features]\n",
    "timesteps = 1\n",
    "X_train_reshape = X_train.values.ravel().reshape(X_train.shape[0],timesteps, X_train.shape[1])\n",
    "X_test_reshape = X_test.values.ravel().reshape(X_test.shape[0],timesteps, X_test.shape[1])\n",
    "\n",
    "# Disable eager execution\n",
    "#tf.compat.v1.disable_eager_execution()\n",
    "\n",
    "# Load dataset\n",
    "# (x_train, y_train), (x_test, y_test) = imdb.load_data(num_words=num_distinct_words)\n",
    "# print(x_train.shape)\n",
    "# print(x_test.shape)\n",
    "\n",
    "# Pad all sequences\n",
    "# padded_inputs = pad_sequences(X_train, maxlen=max_sequence_length, value = 0.0) # 0.0 because it corresponds with <PAD>\n",
    "# padded_inputs_test = pad_sequences(X_test, maxlen=max_sequence_length, value = 0.0) # 0.0 because it corresponds with <PAD>\n",
    "\n",
    "# Define the Keras model\n",
    "def build_model_lstm():\n",
    "    model = Sequential()\n",
    "    #model.add(Embedding(num_distinct_words, embedding_output_dims, input_length=max_sequence_length))\n",
    "    model.add(LSTM(100, input_shape = (timesteps,X_train_reshape.shape[2])))\n",
    "    model.add(BatchNormalization())\n",
    "    model.add(Dense(50, activation='relu'))\n",
    "    model.add(Dense(25, activation='relu'))\n",
    "    model.add(Dense(10, activation='relu'))\n",
    "    model.add(Dense(1, activation='sigmoid'))\n",
    "\n",
    "    # Compile the model\n",
    "    model.compile(optimizer=optimizer, loss=loss_function, metrics=additional_metrics)\n",
    "    return model\n",
    "\n",
    "#from keras.wrappers.scikit_learn import KerasClassifier\n",
    "lstm_model = build_model_lstm()\n",
    "# Give a summary\n",
    "lstm_model.summary()\n",
    "\n",
    "# Train the model\n",
    "history = lstm_model.fit(X_train_reshape, y_train.values.ravel(), batch_size=batch_size, epochs=number_of_epochs, verbose=verbosity_mode, validation_split=validation_split)\n",
    "\n",
    "# Test the model after training\n",
    "#lstm_predict = lstm_model.predict(X_test_reshape)\n",
    "test_results = lstm_model.evaluate(X_test_reshape, y_test.values.ravel(), verbose=False)\n",
    "print(f'Test results - Loss: {test_results[0]} - Accuracy: {100*test_results[1]}%')"
   ]
  },
  {
   "cell_type": "code",
   "execution_count": 1064,
   "metadata": {},
   "outputs": [
    {
     "name": "stdout",
     "output_type": "stream",
     "text": [
      "104/104 [==============================] - 1s 2ms/step\n",
      "              precision    recall  f1-score   support\n",
      "\n",
      "           0       0.97      0.95      0.96      1444\n",
      "           1       0.96      0.98      0.97      1873\n",
      "\n",
      "    accuracy                           0.97      3317\n",
      "   macro avg       0.97      0.96      0.96      3317\n",
      "weighted avg       0.97      0.97      0.97      3317\n",
      "\n"
     ]
    }
   ],
   "source": [
    "lstm_predict_proba = lstm_model.predict(X_test_reshape, batch_size=32)\n",
    "lstm_predict_class = (lstm_predict_proba > 0.5).astype(\"int32\")\n",
    "print(classification_report(y_test, lstm_predict_class))"
   ]
  },
  {
   "cell_type": "code",
   "execution_count": 1065,
   "metadata": {},
   "outputs": [
    {
     "data": {
      "image/png": "[encoded data removed]",
      "text/plain": [
       "<Figure size 640x480 with 2 Axes>"
      ]
     },
     "metadata": {},
     "output_type": "display_data"
    }
   ],
   "source": [
    "sns.heatmap(confusion_matrix(y_test, lstm_predict_class), annot=True, fmt='g', cmap='Blues')\n",
    "plt.title(\"LSTM\")\n",
    "plt.xlabel('Predicted Class')\n",
    "plt.ylabel('Original Class')\n",
    "plt.show()\n"
   ]
  },
  {
   "cell_type": "code",
   "execution_count": 1066,
   "metadata": {},
   "outputs": [
    {
     "data": {
      "image/png": "[encoded data removed]",
      "text/plain": [
       "<Figure size 640x480 with 1 Axes>"
      ]
     },
     "metadata": {},
     "output_type": "display_data"
    }
   ],
   "source": [
    "RocCurveDisplay.from_predictions(y_test,lstm_predict_class)\n",
    "plt.show()"
   ]
  },
  {
   "cell_type": "code",
   "execution_count": 1067,
   "metadata": {},
   "outputs": [],
   "source": [
    "# print(\"Trade off between true positive rate and false positive rate\")\n",
    "# from sklearn.metrics import roc_curve\n",
    "# fpr, tpr, _ = roc_curve(y_test, lstm_predict_class)\n",
    "# plt.plot(fpr, tpr)\n",
    "# plt.title('ROC curve')\n",
    "# plt.xlabel('false positive rate')\n",
    "# plt.ylabel('true positive rate')\n",
    "# plt.xlim(0,)\n",
    "# plt.ylim(0,)\n",
    "# plt.show()"
   ]
  },
  {
   "cell_type": "code",
   "execution_count": 1068,
   "metadata": {},
   "outputs": [],
   "source": [
    "# from sklearn.metrics import roc_curve\n",
    "# fpr, tpr, thresh = roc_curve(y_test, lstm_predict_class)"
   ]
  },
  {
   "cell_type": "code",
   "execution_count": 1069,
   "metadata": {},
   "outputs": [],
   "source": [
    "# # plot roc curves\n",
    "# plt.plot(fpr, tpr, linestyle='--',color='orange', label='LSTM')\n",
    "\n",
    "# # title\n",
    "# plt.title('ROC curve')\n",
    "# # x label\n",
    "# plt.xlabel('False Positive Rate')\n",
    "# # y label\n",
    "# plt.ylabel('True Positive rate')\n",
    "\n",
    "# plt.legend(loc='best')\n",
    "# plt.savefig('ROC',dpi=300)\n",
    "# plt.show()"
   ]
  },
  {
   "cell_type": "code",
   "execution_count": 1070,
   "metadata": {},
   "outputs": [],
   "source": [
    "# from keras.layers import Flatten\n",
    "# model = Sequential([\n",
    "#     Flatten(input_shape=(len(X_test.columns),)),\n",
    "#     Dense(16, activation=tf.nn.relu),\n",
    "# \tDense(16, activation=tf.nn.relu),\n",
    "#     Dense(1, activation=tf.nn.sigmoid),\n",
    "# ])\n",
    "\n",
    "# model.compile(optimizer='adam',\n",
    "#               loss='binary_crossentropy',\n",
    "#               metrics=['accuracy'])\n",
    "\n",
    "# model.fit(X_train, y_train, epochs=50, batch_size=1)\n",
    "\n",
    "# test_loss, test_acc = model.evaluate(X_test, y_test)\n",
    "# print('Test accuracy:', test_acc)"
   ]
  },
  {
   "cell_type": "code",
   "execution_count": 1071,
   "metadata": {},
   "outputs": [],
   "source": [
    "# model_pred = model.predict(X_test, batch_size=64)\n",
    "# model_pred = (model_pred > 0.5).astype(int).reshape(-1,)\n",
    "# print(classification_report(y_test, model_pred))"
   ]
  },
  {
   "cell_type": "code",
   "execution_count": 1072,
   "metadata": {},
   "outputs": [],
   "source": [
    "# sns.heatmap(confusion_matrix(y_test, model_pred), annot=True, fmt='g', cmap='Blues')\n",
    "# plt.title(\"Nural network\")\n",
    "# plt.xlabel('Predicted Class')\n",
    "# plt.ylabel('Original Class')\n",
    "# plt.show()\n"
   ]
  },
  {
   "cell_type": "code",
   "execution_count": 1073,
   "metadata": {},
   "outputs": [],
   "source": [
    "# tensorflow\\python\\keras\\engine\\sequential.py:455: UserWarning: model.predict_classes() is deprecated and will be removed after 2021-01-01. Please use instead:* np.argmax(model.predict(x), axis=-1), if your model does multi-class classification (e.g. if it uses a softmax last-layer activation).* (model.predict(x) > 0.5).astype(\"int32\"), if your model does binary classification (e.g. if it uses a sigmoid last-layer activation)."
   ]
  }
 ],
 "metadata": {
  "kernelspec": {
   "display_name": "Python 3",
   "language": "python",
   "name": "python3"
  },
  "language_info": {
   "codemirror_mode": {
    "name": "ipython",
    "version": 3
   },
   "file_extension": ".py",
   "mimetype": "text/x-python",
   "name": "python",
   "nbconvert_exporter": "python",
   "pygments_lexer": "ipython3",
   "version": "3.10.9"
  },
  "orig_nbformat": 4,
  "vscode": {
   "interpreter": {
    "hash": "66f804da07f0f556d77bc3269dc5bb19edf020422864031af2885e5ff55f9079"
   }
  }
 },
 "nbformat": 4,
 "nbformat_minor": 2
}
