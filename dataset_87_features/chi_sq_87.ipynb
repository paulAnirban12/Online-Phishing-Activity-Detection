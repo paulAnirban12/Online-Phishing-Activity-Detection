{
 "cells": [
  {
   "cell_type": "code",
   "execution_count": 2,
   "metadata": {},
   "outputs": [],
   "source": [
    "# Importing the packages\n",
    "import sys\n",
    "import numpy as np\n",
    "np.set_printoptions(threshold=sys.maxsize)\n",
    "import matplotlib.pyplot as plt\n",
    "import pandas as pd\n",
    "import seaborn as sns\n",
    "import sklearn\n",
    "import random\n",
    "from sklearn.metrics import confusion_matrix,accuracy_score,classification_report,RocCurveDisplay,ConfusionMatrixDisplay"
   ]
  },
  {
   "cell_type": "code",
   "execution_count": 3,
   "metadata": {},
   "outputs": [],
   "source": [
    "pd.set_option('display.max_rows', None)\n",
    "pd.set_option('display.max_columns', None)\n",
    "pd.set_option('display.width', None)\n",
    "pd.set_option('display.max_colwidth', None)"
   ]
  },
  {
   "cell_type": "code",
   "execution_count": 4,
   "metadata": {},
   "outputs": [],
   "source": [
    "# Importing the dataset\n",
    "df = pd.read_csv('dataset_phishing.csv')\n",
    "df.drop(['url'], axis=1, inplace=True)\n",
    "#df.head(50)\n"
   ]
  },
  {
   "cell_type": "code",
   "execution_count": 5,
   "metadata": {},
   "outputs": [],
   "source": [
    "# if your dataset contains missing value, check which column has missing values\n",
    "#df.isnull().sum()"
   ]
  },
  {
   "cell_type": "code",
   "execution_count": 6,
   "metadata": {},
   "outputs": [],
   "source": [
    "#df.dropna(inplace=True)"
   ]
  },
  {
   "cell_type": "code",
   "execution_count": 7,
   "metadata": {},
   "outputs": [],
   "source": [
    "from sklearn import preprocessing\n",
    "\n",
    "\n",
    "col = [df.columns[-1]]\n",
    "\n",
    "lab_en= preprocessing.LabelEncoder()\n",
    "\n",
    "for c in col:\n",
    "    df[c]= lab_en.fit_transform(df[c])\n",
    "\n",
    "#df.head(50)"
   ]
  },
  {
   "cell_type": "code",
   "execution_count": 8,
   "metadata": {},
   "outputs": [],
   "source": [
    "a=len(df[df.status==0])\n",
    "b=len(df[df.status==1])\n"
   ]
  },
  {
   "cell_type": "code",
   "execution_count": 9,
   "metadata": {},
   "outputs": [
    {
     "name": "stdout",
     "output_type": "stream",
     "text": [
      "Count of Legitimate Websites =  5715\n",
      "Count of Phishy Websites =  5715\n"
     ]
    }
   ],
   "source": [
    "print(\"Count of Legitimate Websites = \", a)\n",
    "print(\"Count of Phishy Websites = \", b)"
   ]
  },
  {
   "cell_type": "code",
   "execution_count": 10,
   "metadata": {},
   "outputs": [],
   "source": [
    "X = df.drop(['status'], axis=1, inplace=False)\n",
    "#X.head()\n",
    "#same work\n",
    "##inplace true modifies the og data & does not return anything\n",
    "##inplace false does not modify og data but returns something whoch we store in a var\n",
    "# X= df.drop(columns='Result')\n",
    "# X.head()"
   ]
  },
  {
   "cell_type": "code",
   "execution_count": 11,
   "metadata": {},
   "outputs": [],
   "source": [
    "#df.head()"
   ]
  },
  {
   "cell_type": "code",
   "execution_count": 12,
   "metadata": {},
   "outputs": [
    {
     "data": {
      "text/html": [
       "<div>\n",
       "<style scoped>\n",
       "    .dataframe tbody tr th:only-of-type {\n",
       "        vertical-align: middle;\n",
       "    }\n",
       "\n",
       "    .dataframe tbody tr th {\n",
       "        vertical-align: top;\n",
       "    }\n",
       "\n",
       "    .dataframe thead th {\n",
       "        text-align: right;\n",
       "    }\n",
       "</style>\n",
       "<table border=\"1\" class=\"dataframe\">\n",
       "  <thead>\n",
       "    <tr style=\"text-align: right;\">\n",
       "      <th></th>\n",
       "      <th>status</th>\n",
       "    </tr>\n",
       "  </thead>\n",
       "  <tbody>\n",
       "    <tr>\n",
       "      <th>0</th>\n",
       "      <td>0</td>\n",
       "    </tr>\n",
       "    <tr>\n",
       "      <th>1</th>\n",
       "      <td>1</td>\n",
       "    </tr>\n",
       "    <tr>\n",
       "      <th>2</th>\n",
       "      <td>1</td>\n",
       "    </tr>\n",
       "    <tr>\n",
       "      <th>3</th>\n",
       "      <td>0</td>\n",
       "    </tr>\n",
       "    <tr>\n",
       "      <th>4</th>\n",
       "      <td>0</td>\n",
       "    </tr>\n",
       "  </tbody>\n",
       "</table>\n",
       "</div>"
      ],
      "text/plain": [
       "   status\n",
       "0       0\n",
       "1       1\n",
       "2       1\n",
       "3       0\n",
       "4       0"
      ]
     },
     "execution_count": 12,
     "metadata": {},
     "output_type": "execute_result"
    }
   ],
   "source": [
    "y = df['status']\n",
    "y = pd.DataFrame(y)\n",
    "y.head()"
   ]
  },
  {
   "cell_type": "code",
   "execution_count": 13,
   "metadata": {},
   "outputs": [
    {
     "data": {
      "text/plain": [
       "((9144, 87), (2286, 87), (9144, 1), (2286, 1))"
      ]
     },
     "execution_count": 13,
     "metadata": {},
     "output_type": "execute_result"
    }
   ],
   "source": [
    "# separate dataset into train and test\n",
    "from cProfile import label\n",
    "from sklearn.model_selection import train_test_split\n",
    "X_train, X_test, y_train, y_test = train_test_split(\n",
    "    X,\n",
    "    y,\n",
    "    test_size=0.2,\n",
    "    random_state=10)\n",
    "\n",
    "X_train.shape, X_test.shape, y_train.shape, y_test.shape"
   ]
  },
  {
   "cell_type": "code",
   "execution_count": 14,
   "metadata": {},
   "outputs": [],
   "source": [
    "#X_test.head()"
   ]
  },
  {
   "cell_type": "code",
   "execution_count": 15,
   "metadata": {},
   "outputs": [],
   "source": [
    "from sklearn.preprocessing import MinMaxScaler\n",
    "\n",
    "scaler= MinMaxScaler()\n",
    "\n",
    "col_X_train = [X_train.columns[:]]\n",
    "\n",
    "for c in col_X_train:\n",
    "    X_train[c]= scaler.fit_transform(X_train[c])\n",
    "\n",
    "#X_train.head(5)"
   ]
  },
  {
   "cell_type": "code",
   "execution_count": 16,
   "metadata": {},
   "outputs": [],
   "source": [
    "col_X_test = [X_test.columns[:]]\n",
    "\n",
    "for c in col_X_test:\n",
    "    X_test[c]= scaler.transform(X_test[c])\n",
    "\n",
    "#X_test.head(5)"
   ]
  },
  {
   "cell_type": "code",
   "execution_count": 17,
   "metadata": {},
   "outputs": [],
   "source": [
    "#perform chi square test\n",
    "from sklearn.feature_selection import chi2\n",
    "f_p_values = chi2(X_train,y_train)"
   ]
  },
  {
   "cell_type": "code",
   "execution_count": 18,
   "metadata": {},
   "outputs": [
    {
     "data": {
      "text/plain": [
       "(array([2.23370641e+01, 1.69566642e+01, 7.92634978e+02, 2.14222888e+01,\n",
       "        8.35897474e+00, 5.30407662e+01, 2.53295162e+02, 6.10286729e+01,\n",
       "                   nan, 9.21347603e+01, 2.48852581e+00, 5.32938701e+00,\n",
       "        1.36127244e+00, 2.76337058e+01, 6.97249509e+00, 3.02335502e+01,\n",
       "        3.37730377e-02, 2.83381683e+01, 3.15422397e+00, 1.94038283e-02,\n",
       "        5.01524054e+02, 4.11373688e+01, 4.68200813e+01, 2.09854284e+01,\n",
       "        4.59133775e+01, 2.65045377e+02, 1.94693671e+02, 2.98821218e+00,\n",
       "        1.97645536e+00, 5.07490559e+01, 3.59432236e+02, 1.31736523e+02,\n",
       "        1.89723928e+01, 3.31523214e+02, 1.71903269e+00, 8.25729068e+01,\n",
       "        7.75004553e-06, 8.27679909e-01, 2.98821218e+01, 1.99134491e+01,\n",
       "        9.70793366e-02, 9.44986388e-01, 4.73779494e+01, 4.67727391e+00,\n",
       "        2.67052777e+01, 6.69644804e+00, 4.14067508e+01, 8.24823685e+00,\n",
       "        1.81658385e+01, 1.75476572e+01, 2.20716199e+02, 7.15055802e+01,\n",
       "        4.28310413e+01, 3.52188528e+01, 1.13779295e+02, 1.73543170e+02,\n",
       "        7.52046451e+01, 1.25671887e+02, 2.92566949e+01,            nan,\n",
       "        4.45199645e+00,            nan, 4.22631863e+01,            nan,\n",
       "        3.50467989e+00, 2.62448221e+00, 1.10884273e+02, 1.01180269e+02,\n",
       "                   nan, 1.71196163e+02, 1.05123590e+02,            nan,\n",
       "        1.34913309e+00, 3.73506517e+01, 1.17153886e+02, 1.15083440e-01,\n",
       "        7.30367272e-02, 3.23965734e+02, 2.40907086e+02, 1.55570635e+02,\n",
       "        3.98630823e+01, 1.01301038e+01, 1.86177846e+02, 1.26203754e+01,\n",
       "        1.30175372e+02, 2.24891968e+03, 4.76130808e+02]),\n",
       " array([2.28748708e-006, 3.82428387e-005, 2.15456012e-174, 3.68462862e-006,\n",
       "        3.83787046e-003, 3.26697163e-013, 4.96687374e-057, 5.62495784e-015,\n",
       "                    nan, 8.09705637e-022, 1.14679097e-001, 2.09687588e-002,\n",
       "        2.43317079e-001, 1.46601796e-007, 8.27720043e-003, 3.83026070e-008,\n",
       "        8.54190424e-001, 1.01867512e-007, 7.57306913e-002, 8.89214967e-001,\n",
       "        4.42963423e-111, 1.41897299e-010, 7.78119832e-012, 4.62789878e-006,\n",
       "        1.23599050e-011, 1.36390512e-059, 3.00516293e-044, 8.38727207e-002,\n",
       "        1.59764326e-001, 1.04963046e-012, 3.74294379e-080, 1.70855173e-030,\n",
       "        1.32623548e-005, 4.47745841e-074, 1.89817606e-001, 1.01843501e-019,\n",
       "        9.97778780e-001, 3.62944266e-001, 4.59126916e-008, 8.10283030e-006,\n",
       "        7.55363102e-001, 3.30998761e-001, 5.85374855e-012, 3.05642145e-002,\n",
       "        2.36973375e-007, 9.66051752e-003, 1.23629710e-010, 4.07916034e-003,\n",
       "        2.02478406e-005, 2.80195804e-005, 6.31194922e-050, 2.76475119e-017,\n",
       "        5.96776479e-011, 2.94657202e-009, 1.45650442e-026, 1.24551325e-039,\n",
       "        4.24367530e-018, 3.62767027e-029, 6.33968046e-008,             nan,\n",
       "        3.48604695e-002,             nan, 7.97802714e-011,             nan,\n",
       "        6.11956709e-002, 1.05226826e-001, 6.27276739e-026, 8.39817380e-024,\n",
       "                    nan, 4.05431738e-039, 1.14750659e-024,             nan,\n",
       "        2.45429728e-001, 9.86878980e-010, 2.65636383e-027, 7.34429313e-001,\n",
       "        7.86965560e-001, 1.98196025e-072, 2.49414539e-054, 1.05073706e-035,\n",
       "        2.72403538e-010, 1.45867197e-003, 2.17104281e-042, 3.81564706e-004,\n",
       "        3.75126966e-030, 0.00000000e+000, 1.48483498e-105]))"
      ]
     },
     "execution_count": 18,
     "metadata": {},
     "output_type": "execute_result"
    }
   ],
   "source": [
    "f_p_values"
   ]
  },
  {
   "cell_type": "code",
   "execution_count": 19,
   "metadata": {},
   "outputs": [
    {
     "data": {
      "text/plain": [
       "length_url                     2.287487e-06\n",
       "length_hostname                3.824284e-05\n",
       "ip                            2.154560e-174\n",
       "nb_dots                        3.684629e-06\n",
       "nb_hyphens                     3.837870e-03\n",
       "nb_at                          3.266972e-13\n",
       "nb_qm                          4.966874e-57\n",
       "nb_and                         5.624958e-15\n",
       "nb_or                                   NaN\n",
       "nb_eq                          8.097056e-22\n",
       "nb_underscore                  1.146791e-01\n",
       "nb_tilde                       2.096876e-02\n",
       "nb_percent                     2.433171e-01\n",
       "nb_slash                       1.466018e-07\n",
       "nb_star                        8.277200e-03\n",
       "nb_colon                       3.830261e-08\n",
       "nb_comma                       8.541904e-01\n",
       "nb_semicolumn                  1.018675e-07\n",
       "nb_dollar                      7.573069e-02\n",
       "nb_space                       8.892150e-01\n",
       "nb_www                        4.429634e-111\n",
       "nb_com                         1.418973e-10\n",
       "nb_dslash                      7.781198e-12\n",
       "http_in_path                   4.627899e-06\n",
       "https_token                    1.235990e-11\n",
       "ratio_digits_url               1.363905e-59\n",
       "ratio_digits_host              3.005163e-44\n",
       "punycode                       8.387272e-02\n",
       "port                           1.597643e-01\n",
       "tld_in_path                    1.049630e-12\n",
       "tld_in_subdomain               3.742944e-80\n",
       "abnormal_subdomain             1.708552e-30\n",
       "nb_subdomains                  1.326235e-05\n",
       "prefix_suffix                  4.477458e-74\n",
       "random_domain                  1.898176e-01\n",
       "shortening_service             1.018435e-19\n",
       "path_extension                 9.977788e-01\n",
       "nb_redirection                 3.629443e-01\n",
       "nb_external_redirection        4.591269e-08\n",
       "length_words_raw               8.102830e-06\n",
       "char_repeat                    7.553631e-01\n",
       "shortest_words_raw             3.309988e-01\n",
       "shortest_word_host             5.853749e-12\n",
       "shortest_word_path             3.056421e-02\n",
       "longest_words_raw              2.369734e-07\n",
       "longest_word_host              9.660518e-03\n",
       "longest_word_path              1.236297e-10\n",
       "avg_words_raw                  4.079160e-03\n",
       "avg_word_host                  2.024784e-05\n",
       "avg_word_path                  2.801958e-05\n",
       "phish_hints                    6.311949e-50\n",
       "domain_in_brand                2.764751e-17\n",
       "brand_in_subdomain             5.967765e-11\n",
       "brand_in_path                  2.946572e-09\n",
       "suspecious_tld                 1.456504e-26\n",
       "statistical_report             1.245513e-39\n",
       "nb_hyperlinks                  4.243675e-18\n",
       "ratio_intHyperlinks            3.627670e-29\n",
       "ratio_extHyperlinks            6.339680e-08\n",
       "ratio_nullHyperlinks                    NaN\n",
       "nb_extCSS                      3.486047e-02\n",
       "ratio_intRedirection                    NaN\n",
       "ratio_extRedirection           7.978027e-11\n",
       "ratio_intErrors                         NaN\n",
       "ratio_extErrors                6.119567e-02\n",
       "login_form                     1.052268e-01\n",
       "external_favicon               6.272767e-26\n",
       "links_in_tags                  8.398174e-24\n",
       "submit_email                            NaN\n",
       "ratio_intMedia                 4.054317e-39\n",
       "ratio_extMedia                 1.147507e-24\n",
       "sfh                                     NaN\n",
       "iframe                         2.454297e-01\n",
       "popup_window                   9.868790e-10\n",
       "safe_anchor                    2.656364e-27\n",
       "onmouseover                    7.344293e-01\n",
       "right_clic                     7.869656e-01\n",
       "empty_title                    1.981960e-72\n",
       "domain_in_title                2.494145e-54\n",
       "domain_with_copyright          1.050737e-35\n",
       "whois_registered_domain        2.724035e-10\n",
       "domain_registration_length     1.458672e-03\n",
       "domain_age                     2.171043e-42\n",
       "web_traffic                    3.815647e-04\n",
       "dns_record                     3.751270e-30\n",
       "google_index                   0.000000e+00\n",
       "page_rank                     1.484835e-105\n",
       "dtype: float64"
      ]
     },
     "execution_count": 19,
     "metadata": {},
     "output_type": "execute_result"
    }
   ],
   "source": [
    "#The less the p_values the more important that feature is\n",
    "p_values = pd.Series(f_p_values[1])\n",
    "p_values.index = X_train.columns\n",
    "p_values"
   ]
  },
  {
   "cell_type": "code",
   "execution_count": 20,
   "metadata": {},
   "outputs": [
    {
     "data": {
      "text/plain": [
       "path_extension                 9.977788e-01\n",
       "nb_space                       8.892150e-01\n",
       "nb_comma                       8.541904e-01\n",
       "right_clic                     7.869656e-01\n",
       "char_repeat                    7.553631e-01\n",
       "onmouseover                    7.344293e-01\n",
       "nb_redirection                 3.629443e-01\n",
       "shortest_words_raw             3.309988e-01\n",
       "iframe                         2.454297e-01\n",
       "nb_percent                     2.433171e-01\n",
       "random_domain                  1.898176e-01\n",
       "port                           1.597643e-01\n",
       "nb_underscore                  1.146791e-01\n",
       "login_form                     1.052268e-01\n",
       "punycode                       8.387272e-02\n",
       "nb_dollar                      7.573069e-02\n",
       "ratio_extErrors                6.119567e-02\n",
       "nb_extCSS                      3.486047e-02\n",
       "shortest_word_path             3.056421e-02\n",
       "nb_tilde                       2.096876e-02\n",
       "longest_word_host              9.660518e-03\n",
       "nb_star                        8.277200e-03\n",
       "avg_words_raw                  4.079160e-03\n",
       "nb_hyphens                     3.837870e-03\n",
       "domain_registration_length     1.458672e-03\n",
       "web_traffic                    3.815647e-04\n",
       "length_hostname                3.824284e-05\n",
       "avg_word_path                  2.801958e-05\n",
       "avg_word_host                  2.024784e-05\n",
       "nb_subdomains                  1.326235e-05\n",
       "length_words_raw               8.102830e-06\n",
       "http_in_path                   4.627899e-06\n",
       "nb_dots                        3.684629e-06\n",
       "length_url                     2.287487e-06\n",
       "longest_words_raw              2.369734e-07\n",
       "nb_slash                       1.466018e-07\n",
       "nb_semicolumn                  1.018675e-07\n",
       "ratio_extHyperlinks            6.339680e-08\n",
       "nb_external_redirection        4.591269e-08\n",
       "nb_colon                       3.830261e-08\n",
       "brand_in_path                  2.946572e-09\n",
       "popup_window                   9.868790e-10\n",
       "whois_registered_domain        2.724035e-10\n",
       "nb_com                         1.418973e-10\n",
       "longest_word_path              1.236297e-10\n",
       "ratio_extRedirection           7.978027e-11\n",
       "brand_in_subdomain             5.967765e-11\n",
       "https_token                    1.235990e-11\n",
       "nb_dslash                      7.781198e-12\n",
       "shortest_word_host             5.853749e-12\n",
       "tld_in_path                    1.049630e-12\n",
       "nb_at                          3.266972e-13\n",
       "nb_and                         5.624958e-15\n",
       "domain_in_brand                2.764751e-17\n",
       "nb_hyperlinks                  4.243675e-18\n",
       "shortening_service             1.018435e-19\n",
       "nb_eq                          8.097056e-22\n",
       "links_in_tags                  8.398174e-24\n",
       "ratio_extMedia                 1.147507e-24\n",
       "external_favicon               6.272767e-26\n",
       "suspecious_tld                 1.456504e-26\n",
       "safe_anchor                    2.656364e-27\n",
       "ratio_intHyperlinks            3.627670e-29\n",
       "dns_record                     3.751270e-30\n",
       "abnormal_subdomain             1.708552e-30\n",
       "domain_with_copyright          1.050737e-35\n",
       "ratio_intMedia                 4.054317e-39\n",
       "statistical_report             1.245513e-39\n",
       "domain_age                     2.171043e-42\n",
       "ratio_digits_host              3.005163e-44\n",
       "phish_hints                    6.311949e-50\n",
       "domain_in_title                2.494145e-54\n",
       "nb_qm                          4.966874e-57\n",
       "ratio_digits_url               1.363905e-59\n",
       "empty_title                    1.981960e-72\n",
       "prefix_suffix                  4.477458e-74\n",
       "tld_in_subdomain               3.742944e-80\n",
       "page_rank                     1.484835e-105\n",
       "nb_www                        4.429634e-111\n",
       "ip                            2.154560e-174\n",
       "google_index                   0.000000e+00\n",
       "nb_or                                   NaN\n",
       "ratio_nullHyperlinks                    NaN\n",
       "ratio_intRedirection                    NaN\n",
       "ratio_intErrors                         NaN\n",
       "submit_email                            NaN\n",
       "sfh                                     NaN\n",
       "dtype: float64"
      ]
     },
     "execution_count": 20,
     "metadata": {},
     "output_type": "execute_result"
    }
   ],
   "source": [
    "#sort p_values to check which feature has the lowest values\n",
    "p_values = p_values.sort_values(ascending = False)\n",
    "p_values"
   ]
  },
  {
   "cell_type": "code",
   "execution_count": 21,
   "metadata": {},
   "outputs": [],
   "source": [
    "def DropFeature (p_values, threshold):\n",
    "\tdrop_feature = set()\n",
    "\tfor index, values in p_values.items():\n",
    "\t\tif values > threshold or np.isnan(values):\n",
    "\t\t\tdrop_feature.add(index)\n",
    "\treturn drop_feature"
   ]
  },
  {
   "cell_type": "code",
   "execution_count": 22,
   "metadata": {},
   "outputs": [
    {
     "data": {
      "text/plain": [
       "23"
      ]
     },
     "execution_count": 22,
     "metadata": {},
     "output_type": "execute_result"
    }
   ],
   "source": [
    "drop_feature = DropFeature(p_values,.05)\n",
    "len(set(drop_feature))\n"
   ]
  },
  {
   "cell_type": "code",
   "execution_count": 23,
   "metadata": {},
   "outputs": [
    {
     "data": {
      "text/plain": [
       "{'char_repeat',\n",
       " 'iframe',\n",
       " 'login_form',\n",
       " 'nb_comma',\n",
       " 'nb_dollar',\n",
       " 'nb_or',\n",
       " 'nb_percent',\n",
       " 'nb_redirection',\n",
       " 'nb_space',\n",
       " 'nb_underscore',\n",
       " 'onmouseover',\n",
       " 'path_extension',\n",
       " 'port',\n",
       " 'punycode',\n",
       " 'random_domain',\n",
       " 'ratio_extErrors',\n",
       " 'ratio_intErrors',\n",
       " 'ratio_intRedirection',\n",
       " 'ratio_nullHyperlinks',\n",
       " 'right_clic',\n",
       " 'sfh',\n",
       " 'shortest_words_raw',\n",
       " 'submit_email'}"
      ]
     },
     "execution_count": 23,
     "metadata": {},
     "output_type": "execute_result"
    }
   ],
   "source": [
    "drop_feature"
   ]
  },
  {
   "cell_type": "code",
   "execution_count": 24,
   "metadata": {},
   "outputs": [],
   "source": [
    "X_train.drop(drop_feature, axis=1, inplace=True)\n",
    "X_test.drop(drop_feature, axis=1, inplace=True)"
   ]
  },
  {
   "cell_type": "code",
   "execution_count": 25,
   "metadata": {},
   "outputs": [
    {
     "data": {
      "text/plain": [
       "64"
      ]
     },
     "execution_count": 25,
     "metadata": {},
     "output_type": "execute_result"
    }
   ],
   "source": [
    "len(X_train.columns)"
   ]
  },
  {
   "cell_type": "code",
   "execution_count": 26,
   "metadata": {},
   "outputs": [
    {
     "data": {
      "text/plain": [
       "64"
      ]
     },
     "execution_count": 26,
     "metadata": {},
     "output_type": "execute_result"
    }
   ],
   "source": [
    "len(X_test.columns)"
   ]
  },
  {
   "cell_type": "code",
   "execution_count": 27,
   "metadata": {},
   "outputs": [
    {
     "name": "stdout",
     "output_type": "stream",
     "text": [
      "Training set has 9144 samples.\n",
      "Testing set has 2286 samples.\n"
     ]
    }
   ],
   "source": [
    "print(\"Training set has {} samples.\".format(X_train.shape[0]))\n",
    "print(\"Testing set has {} samples.\".format(X_test.shape[0]))"
   ]
  },
  {
   "cell_type": "code",
   "execution_count": 28,
   "metadata": {},
   "outputs": [
    {
     "name": "stdout",
     "output_type": "stream",
     "text": [
      "Fitting 10 folds for each of 50 candidates, totalling 500 fits\n",
      "{'C': 30, 'max_iter': 2500, 'penalty': 'l2', 'solver': 'saga'}\n",
      "LogisticRegression(C=30, max_iter=2500, solver='saga')\n",
      "0.9425849266420346\n"
     ]
    }
   ],
   "source": [
    "from sklearn.model_selection import GridSearchCV\n",
    "from sklearn.linear_model import LogisticRegression\n",
    "\n",
    "# defining parameter range\n",
    "param_grid = {'penalty' : ['l2'],\n",
    "            'C' : [0.1, 1, 10, 20, 30],\n",
    "            'solver' : ['lbfgs','newton-cg','liblinear','sag','saga'],\n",
    "            'max_iter' : [2500, 5000]}\n",
    "\n",
    "grid_logr = GridSearchCV(LogisticRegression(), param_grid, refit = True, cv = 10, verbose = 3, n_jobs = -1)\n",
    "\n",
    "# fitting the model for grid search\n",
    "grid_logr.fit(X_train, y_train.values.ravel())\n",
    "\n",
    "# print best parameter after tuning\n",
    "print(grid_logr.best_params_)\n",
    "\n",
    "# print how our model looks after hyper-parameter tuning\n",
    "print(grid_logr.best_estimator_)\n",
    "print(grid_logr.best_score_)"
   ]
  },
  {
   "cell_type": "code",
   "execution_count": 29,
   "metadata": {},
   "outputs": [],
   "source": [
    "logr_model = grid_logr.best_estimator_\n",
    "\n",
    "# Performing training\n",
    "#logr_model = logr.fit(X_train, y_train.values.ravel())"
   ]
  },
  {
   "cell_type": "code",
   "execution_count": 30,
   "metadata": {},
   "outputs": [],
   "source": [
    "logr_predict  =  logr_model.predict(X_test)"
   ]
  },
  {
   "cell_type": "code",
   "execution_count": 31,
   "metadata": {},
   "outputs": [],
   "source": [
    "# from sklearn.metrics import confusion_matrix,accuracy_score\n",
    "# cm = confusion_matrix(y_test, dct_pred)\n",
    "# ac = accuracy_score(y_test, dct_pred)"
   ]
  },
  {
   "cell_type": "code",
   "execution_count": 32,
   "metadata": {},
   "outputs": [
    {
     "name": "stdout",
     "output_type": "stream",
     "text": [
      "Accuracy of logr classifier :  94.35695538057742\n"
     ]
    }
   ],
   "source": [
    "print (\"Accuracy of logr classifier : \", accuracy_score(y_test, logr_predict)*100)"
   ]
  },
  {
   "cell_type": "code",
   "execution_count": 33,
   "metadata": {},
   "outputs": [
    {
     "name": "stdout",
     "output_type": "stream",
     "text": [
      "              precision    recall  f1-score   support\n",
      "\n",
      "           0       0.94      0.95      0.94      1152\n",
      "           1       0.95      0.94      0.94      1134\n",
      "\n",
      "    accuracy                           0.94      2286\n",
      "   macro avg       0.94      0.94      0.94      2286\n",
      "weighted avg       0.94      0.94      0.94      2286\n",
      "\n"
     ]
    }
   ],
   "source": [
    "print(classification_report(y_test, logr_predict))"
   ]
  },
  {
   "cell_type": "code",
   "execution_count": 34,
   "metadata": {},
   "outputs": [
    {
     "data": {
      "image/png": "[encoded data removed]",
      "text/plain": [
       "<Figure size 640x480 with 2 Axes>"
      ]
     },
     "metadata": {},
     "output_type": "display_data"
    }
   ],
   "source": [
    "sns.heatmap(confusion_matrix(y_test, logr_predict), annot=True, fmt='g', cmap='Blues')\n",
    "plt.title(\"LogisticRegression\")\n",
    "plt.xlabel('Predicted Class')\n",
    "plt.ylabel('Original Class')\n",
    "plt.show()"
   ]
  },
  {
   "cell_type": "code",
   "execution_count": 35,
   "metadata": {},
   "outputs": [],
   "source": [
    "# from sklearn.neighbors import KNeighborsClassifier\n",
    "\n",
    "# #training_accuracy=[]\n",
    "# test_accuracy=[]\n",
    "\n",
    "# neighbors=range(1,10)\n",
    "# ##values.ravel() converts vector y to flattened array\n",
    "# for i in neighbors:\n",
    "#     knn=KNeighborsClassifier(n_neighbors=i)\n",
    "#     knn_model = knn.fit(X_train,y_train.values.ravel())\n",
    "#     #training_accuracy.append(knn.score(X_train,y_train.values.ravel()))\n",
    "#     test_accuracy.append(knn_model.score(X_test,y_test.values.ravel()))"
   ]
  },
  {
   "cell_type": "code",
   "execution_count": 36,
   "metadata": {},
   "outputs": [],
   "source": [
    "# plt.plot(neighbors,test_accuracy,label=\"test accuracy\")\n",
    "# plt.ylabel(\"Accuracy\")\n",
    "# plt.xlabel(\"number of neighbors\")\n",
    "# plt.legend()\n",
    "# plt.show()"
   ]
  },
  {
   "cell_type": "code",
   "execution_count": 37,
   "metadata": {},
   "outputs": [
    {
     "name": "stdout",
     "output_type": "stream",
     "text": [
      "Fitting 10 folds for each of 10 candidates, totalling 100 fits\n",
      "{'n_neighbors': 3}\n",
      "KNeighborsClassifier(n_neighbors=3)\n",
      "0.9231213306070714\n"
     ]
    }
   ],
   "source": [
    "from sklearn.neighbors import KNeighborsClassifier\n",
    "\n",
    "# defining parameter range\n",
    "param_grid = {'n_neighbors': [1,2,3,4,5,6,7,8,9,10]}\n",
    "\n",
    "grid_knn = GridSearchCV(KNeighborsClassifier(), param_grid, refit = True, cv = 10, verbose = 3, n_jobs = -1)\n",
    "\n",
    "# fitting the model for grid search\n",
    "grid_knn.fit(X_train, y_train.values.ravel())\n",
    "\n",
    "# print best parameter after tuning\n",
    "print(grid_knn.best_params_)\n",
    "\n",
    "# print how our model looks after hyper-parameter tuning\n",
    "print(grid_knn.best_estimator_)\n",
    "print(grid_knn.best_score_)"
   ]
  },
  {
   "cell_type": "code",
   "execution_count": 38,
   "metadata": {},
   "outputs": [],
   "source": [
    "knn_model = grid_knn.best_estimator_\n",
    "#knn_model = knn.fit(X_train,y_train.values.ravel())"
   ]
  },
  {
   "cell_type": "code",
   "execution_count": 39,
   "metadata": {},
   "outputs": [],
   "source": [
    "#print (\"Accuracy of knn classifier: \", max(test_accuracy)*100)\n",
    "knn_predict = knn_model.predict(X_test)"
   ]
  },
  {
   "cell_type": "code",
   "execution_count": 40,
   "metadata": {},
   "outputs": [
    {
     "name": "stdout",
     "output_type": "stream",
     "text": [
      "The accuracy of knn Classifier is:  92.38845144356955\n"
     ]
    }
   ],
   "source": [
    "print('The accuracy of knn Classifier is: ', 100.0 * accuracy_score(y_test, knn_predict))"
   ]
  },
  {
   "cell_type": "code",
   "execution_count": 41,
   "metadata": {},
   "outputs": [
    {
     "name": "stdout",
     "output_type": "stream",
     "text": [
      "              precision    recall  f1-score   support\n",
      "\n",
      "           0       0.91      0.94      0.93      1152\n",
      "           1       0.94      0.91      0.92      1134\n",
      "\n",
      "    accuracy                           0.92      2286\n",
      "   macro avg       0.92      0.92      0.92      2286\n",
      "weighted avg       0.92      0.92      0.92      2286\n",
      "\n"
     ]
    }
   ],
   "source": [
    "print(classification_report(y_test, knn_predict))"
   ]
  },
  {
   "cell_type": "code",
   "execution_count": 42,
   "metadata": {},
   "outputs": [
    {
     "data": {
      "image/png": "[encoded data removed]",
      "text/plain": [
       "<Figure size 640x480 with 2 Axes>"
      ]
     },
     "metadata": {},
     "output_type": "display_data"
    }
   ],
   "source": [
    "sns.heatmap(confusion_matrix(y_test, knn_predict), annot=True, fmt='g', cmap='Blues')\n",
    "plt.title(\"KNeighborsClassifier\")\n",
    "plt.xlabel('Predicted Class')\n",
    "plt.ylabel('Original Class')\n",
    "plt.show()"
   ]
  },
  {
   "cell_type": "code",
   "execution_count": 43,
   "metadata": {},
   "outputs": [],
   "source": [
    "# # here is the change\n",
    "# knn_y_pred_proba = knn.predict_proba(X_test)\n",
    "# knn_y_pred_proba_positive = knn_y_pred_proba[:, 1] \n",
    "\n",
    "# RocCurveDisplay.from_predictions(y_test,knn_y_pred_proba_positive)\n",
    "\n",
    "# fig, ax = plt.subplots()\n",
    "# RocCurveDisplay.from_estimator(\n",
    "#    logreg, X_test, y_test, ax = ax)\n",
    "\n",
    "# logreg_y_decision = logreg.decision_function(X_test)\n",
    "# metrics.RocCurveDisplay.from_predictions(y_test,logreg_y_decision,ax=ax,name=\"logreg predictions\")"
   ]
  },
  {
   "cell_type": "code",
   "execution_count": 44,
   "metadata": {},
   "outputs": [
    {
     "name": "stdout",
     "output_type": "stream",
     "text": [
      "Fitting 10 folds for each of 36 candidates, totalling 360 fits\n",
      "{'C': 10, 'gamma': 0.1, 'kernel': 'rbf'}\n",
      "SVC(C=10, gamma=0.1)\n",
      "0.9572385837787423\n"
     ]
    }
   ],
   "source": [
    "from sklearn.svm import SVC\n",
    "\n",
    "# defining parameter range\n",
    "param_grid = {'C': [0.1, 1, 10],\n",
    "\t\t\t'gamma': [1, 0.1, 0.01],\n",
    "\t\t\t'kernel': ['linear','poly', 'rbf', 'sigmoid']}\n",
    "\n",
    "grid_svc = GridSearchCV(SVC(), param_grid, refit = True, cv = 10, verbose = 3, n_jobs = -1)\n",
    "\n",
    "# fitting the model for grid search\n",
    "grid_svc.fit(X_train, y_train.values.ravel())\n",
    "\n",
    "# print best parameter after tuning\n",
    "print(grid_svc.best_params_)\n",
    "\n",
    "# print how our model looks after hyper-parameter tuning\n",
    "print(grid_svc.best_estimator_)\n",
    "print(grid_svc.best_score_)"
   ]
  },
  {
   "cell_type": "code",
   "execution_count": 45,
   "metadata": {},
   "outputs": [],
   "source": [
    "svc_model = grid_svc.best_estimator_\n",
    "#svc_model = svc.fit(X_train,y_train.values.ravel())"
   ]
  },
  {
   "cell_type": "code",
   "execution_count": 46,
   "metadata": {},
   "outputs": [],
   "source": [
    "svc_predict = svc_model.predict(X_test)"
   ]
  },
  {
   "cell_type": "code",
   "execution_count": 47,
   "metadata": {},
   "outputs": [
    {
     "name": "stdout",
     "output_type": "stream",
     "text": [
      "The accuracy of svc Classifier is:  95.71303587051618\n"
     ]
    }
   ],
   "source": [
    "print('The accuracy of svc Classifier is: ', 100.0 * accuracy_score(y_test, svc_predict))"
   ]
  },
  {
   "cell_type": "code",
   "execution_count": 48,
   "metadata": {},
   "outputs": [
    {
     "name": "stdout",
     "output_type": "stream",
     "text": [
      "              precision    recall  f1-score   support\n",
      "\n",
      "           0       0.95      0.97      0.96      1152\n",
      "           1       0.97      0.95      0.96      1134\n",
      "\n",
      "    accuracy                           0.96      2286\n",
      "   macro avg       0.96      0.96      0.96      2286\n",
      "weighted avg       0.96      0.96      0.96      2286\n",
      "\n"
     ]
    }
   ],
   "source": [
    "print(classification_report(y_test, svc_predict))"
   ]
  },
  {
   "cell_type": "code",
   "execution_count": 49,
   "metadata": {},
   "outputs": [
    {
     "data": {
      "image/png": "[encoded data removed]",
      "text/plain": [
       "<Figure size 640x480 with 2 Axes>"
      ]
     },
     "metadata": {},
     "output_type": "display_data"
    }
   ],
   "source": [
    "sns.heatmap(confusion_matrix(y_test, svc_predict), annot=True, fmt='g', cmap='Blues')\n",
    "plt.title(\"SVC\")\n",
    "plt.xlabel('Predicted Class')\n",
    "plt.ylabel('Original Class')\n",
    "plt.show()"
   ]
  },
  {
   "cell_type": "code",
   "execution_count": 50,
   "metadata": {},
   "outputs": [
    {
     "name": "stdout",
     "output_type": "stream",
     "text": [
      "Fitting 10 folds for each of 6 candidates, totalling 60 fits\n",
      "{'gamma': 0.1, 'kernel': 'rbf', 'nu': 0.1}\n",
      "NuSVC(gamma=0.1, nu=0.1)\n",
      "0.9580039698198037\n"
     ]
    }
   ],
   "source": [
    "from sklearn.svm import NuSVC\n",
    "\n",
    "# defining parameter range\n",
    "param_grid = {'nu': [0.1, 0.5],\n",
    "\t\t\t'gamma': [1, 0.1, 0.01],\n",
    "\t\t\t'kernel': ['rbf']} #'linear','poly', 'rbf', 'sigmoid'\n",
    "\n",
    "grid_nusvc = GridSearchCV(NuSVC(), param_grid, refit = True, verbose = 3, cv = 10, n_jobs = -1)\n",
    "\n",
    "# fitting the model for grid search\n",
    "grid_nusvc.fit(X_train, y_train.values.ravel())\n",
    "\n",
    "# print best parameter after tuning\n",
    "print(grid_nusvc.best_params_)\n",
    "\n",
    "# print how our model looks after hyper-parameter tuning\n",
    "print(grid_nusvc.best_estimator_)\n",
    "print(grid_nusvc.best_score_)"
   ]
  },
  {
   "cell_type": "code",
   "execution_count": 51,
   "metadata": {},
   "outputs": [],
   "source": [
    "nusvc_model = grid_nusvc.best_estimator_\n",
    "#nusvc_model = nusvc.fit(X_train, y_train.values.ravel())\n"
   ]
  },
  {
   "cell_type": "code",
   "execution_count": 52,
   "metadata": {},
   "outputs": [],
   "source": [
    "nusvc_predict = nusvc_model.predict(X_test)"
   ]
  },
  {
   "cell_type": "code",
   "execution_count": 53,
   "metadata": {},
   "outputs": [
    {
     "name": "stdout",
     "output_type": "stream",
     "text": [
      "The accuracy of nusvc Classifier is:  95.71303587051618\n"
     ]
    }
   ],
   "source": [
    "print('The accuracy of nusvc Classifier is: ', 100.0 * accuracy_score(y_test, nusvc_predict))"
   ]
  },
  {
   "cell_type": "code",
   "execution_count": 54,
   "metadata": {},
   "outputs": [
    {
     "name": "stdout",
     "output_type": "stream",
     "text": [
      "              precision    recall  f1-score   support\n",
      "\n",
      "           0       0.95      0.97      0.96      1152\n",
      "           1       0.96      0.95      0.96      1134\n",
      "\n",
      "    accuracy                           0.96      2286\n",
      "   macro avg       0.96      0.96      0.96      2286\n",
      "weighted avg       0.96      0.96      0.96      2286\n",
      "\n"
     ]
    }
   ],
   "source": [
    "print(classification_report(y_test, nusvc_predict))"
   ]
  },
  {
   "cell_type": "code",
   "execution_count": 55,
   "metadata": {},
   "outputs": [
    {
     "data": {
      "image/png": "[encoded data removed]",
      "text/plain": [
       "<Figure size 640x480 with 2 Axes>"
      ]
     },
     "metadata": {},
     "output_type": "display_data"
    }
   ],
   "source": [
    "sns.heatmap(confusion_matrix(y_test, nusvc_predict), annot=True, fmt='g', cmap='Blues')\n",
    "plt.title(\"NuSVC\")\n",
    "plt.xlabel('Predicted Class')\n",
    "plt.ylabel('Original Class')\n",
    "plt.show()"
   ]
  },
  {
   "cell_type": "code",
   "execution_count": 56,
   "metadata": {},
   "outputs": [
    {
     "name": "stdout",
     "output_type": "stream",
     "text": [
      "Fitting 10 folds for each of 30 candidates, totalling 300 fits\n",
      "{'C': 20, 'dual': False, 'loss': 'squared_hinge', 'penalty': 'l2', 'tol': 0.001}\n",
      "LinearSVC(C=20, dual=False, tol=0.001)\n",
      "0.9426942162595209\n"
     ]
    }
   ],
   "source": [
    "from sklearn.svm import LinearSVC\n",
    "\n",
    "# defining parameter range\n",
    "param_grid = {'C': [0.1, 1, 10, 20, 30],\n",
    "\t\t\t'penalty': ['l1','l2'],\n",
    "\t\t\t'loss': ['squared_hinge'],\n",
    "\t\t\t'dual': [False],\n",
    "\t\t\t'tol': [.1,.01,.001]}\n",
    "\n",
    "grid_lsvc = GridSearchCV(LinearSVC(), param_grid, refit = True, verbose = 3, cv = 10, n_jobs = -1)\n",
    "\n",
    "# fitting the model for grid search\n",
    "grid_lsvc.fit(X_train, y_train.values.ravel())\n",
    "\n",
    "# print best parameter after tuning\n",
    "print(grid_lsvc.best_params_)\n",
    "\n",
    "# print how our model looks after hyper-parameter tuning\n",
    "print(grid_lsvc.best_estimator_)\n",
    "print(grid_lsvc.best_score_)\n"
   ]
  },
  {
   "cell_type": "code",
   "execution_count": 57,
   "metadata": {},
   "outputs": [],
   "source": [
    "lsvc_model = grid_lsvc.best_estimator_\n",
    "#lsvc_model = lsvc.fit(X_train, y_train.values.ravel())"
   ]
  },
  {
   "cell_type": "code",
   "execution_count": 58,
   "metadata": {},
   "outputs": [],
   "source": [
    "lsvc_predict = lsvc_model.predict(X_test)"
   ]
  },
  {
   "cell_type": "code",
   "execution_count": 59,
   "metadata": {},
   "outputs": [
    {
     "name": "stdout",
     "output_type": "stream",
     "text": [
      "The accuracy of lsvc Classifier is:  94.53193350831145\n"
     ]
    }
   ],
   "source": [
    "print('The accuracy of lsvc Classifier is: ', 100.0 * accuracy_score(y_test, lsvc_predict))"
   ]
  },
  {
   "cell_type": "code",
   "execution_count": 60,
   "metadata": {},
   "outputs": [
    {
     "name": "stdout",
     "output_type": "stream",
     "text": [
      "              precision    recall  f1-score   support\n",
      "\n",
      "           0       0.94      0.95      0.95      1152\n",
      "           1       0.95      0.94      0.94      1134\n",
      "\n",
      "    accuracy                           0.95      2286\n",
      "   macro avg       0.95      0.95      0.95      2286\n",
      "weighted avg       0.95      0.95      0.95      2286\n",
      "\n"
     ]
    }
   ],
   "source": [
    "print(classification_report(y_test, lsvc_predict))"
   ]
  },
  {
   "cell_type": "code",
   "execution_count": 61,
   "metadata": {},
   "outputs": [
    {
     "data": {
      "image/png": "[encoded data removed]",
      "text/plain": [
       "<Figure size 640x480 with 2 Axes>"
      ]
     },
     "metadata": {},
     "output_type": "display_data"
    }
   ],
   "source": [
    "sns.heatmap(confusion_matrix(y_test, lsvc_predict), annot=True, fmt='g', cmap='Blues')\n",
    "plt.title(\"LinearSVC\")\n",
    "plt.xlabel('Predicted Class')\n",
    "plt.ylabel('Original Class')\n",
    "plt.show()"
   ]
  },
  {
   "cell_type": "code",
   "execution_count": 62,
   "metadata": {},
   "outputs": [
    {
     "name": "stdout",
     "output_type": "stream",
     "text": [
      "Fitting 10 folds for each of 5 candidates, totalling 50 fits\n",
      "{'n_estimators': 300}\n",
      "AdaBoostClassifier(n_estimators=300)\n",
      "0.9539591778168383\n"
     ]
    }
   ],
   "source": [
    "from sklearn.ensemble import AdaBoostClassifier\n",
    "\n",
    "# defining parameter range\n",
    "param_grid = {'n_estimators': [40,50,100,200,300]}\n",
    "\n",
    "grid_ada = GridSearchCV(AdaBoostClassifier(), param_grid, refit = True, verbose = 3, cv = 10, n_jobs = -1)\n",
    "\n",
    "# fitting the model for grid search\n",
    "grid_ada.fit(X_train, y_train.values.ravel())\n",
    "\n",
    "# print best parameter after tuning\n",
    "print(grid_ada.best_params_)\n",
    "\n",
    "# print how our model looks after hyper-parameter tuning\n",
    "print(grid_ada.best_estimator_)\n",
    "print(grid_ada.best_score_)"
   ]
  },
  {
   "cell_type": "code",
   "execution_count": 63,
   "metadata": {},
   "outputs": [],
   "source": [
    "ada_model = grid_ada.best_estimator_\n",
    "#ada_model = ada.fit(X_train,y_train.values.ravel())"
   ]
  },
  {
   "cell_type": "code",
   "execution_count": 64,
   "metadata": {},
   "outputs": [],
   "source": [
    "ada_predict = ada_model.predict(X_test)"
   ]
  },
  {
   "cell_type": "code",
   "execution_count": 65,
   "metadata": {},
   "outputs": [
    {
     "name": "stdout",
     "output_type": "stream",
     "text": [
      "The accuracy of Ada Boost Classifier is:  95.2755905511811\n"
     ]
    }
   ],
   "source": [
    "print('The accuracy of Ada Boost Classifier is: ', 100.0 * accuracy_score(ada_predict,y_test))"
   ]
  },
  {
   "cell_type": "code",
   "execution_count": 66,
   "metadata": {},
   "outputs": [
    {
     "name": "stdout",
     "output_type": "stream",
     "text": [
      "              precision    recall  f1-score   support\n",
      "\n",
      "           0       0.95      0.96      0.95      1152\n",
      "           1       0.96      0.95      0.95      1134\n",
      "\n",
      "    accuracy                           0.95      2286\n",
      "   macro avg       0.95      0.95      0.95      2286\n",
      "weighted avg       0.95      0.95      0.95      2286\n",
      "\n"
     ]
    }
   ],
   "source": [
    "print(classification_report(y_test, ada_predict))"
   ]
  },
  {
   "cell_type": "code",
   "execution_count": 67,
   "metadata": {},
   "outputs": [
    {
     "data": {
      "image/png": "[encoded data removed]",
      "text/plain": [
       "<Figure size 640x480 with 2 Axes>"
      ]
     },
     "metadata": {},
     "output_type": "display_data"
    }
   ],
   "source": [
    "sns.heatmap(confusion_matrix(y_test, ada_predict), annot=True, fmt='g', cmap='Blues')\n",
    "plt.title(\"AdaBoostClassifier\")\n",
    "plt.xlabel('Predicted Class')\n",
    "plt.ylabel('Original Class')\n",
    "plt.show()"
   ]
  },
  {
   "cell_type": "code",
   "execution_count": 68,
   "metadata": {},
   "outputs": [
    {
     "name": "stdout",
     "output_type": "stream",
     "text": [
      "Fitting 10 folds for each of 15 candidates, totalling 150 fits\n",
      "{'gamma': 0.1, 'n_estimators': 150}\n",
      "XGBClassifier(base_score=0.5, booster='gbtree', callbacks=None,\n",
      "              colsample_bylevel=1, colsample_bynode=1, colsample_bytree=1,\n",
      "              early_stopping_rounds=None, enable_categorical=False,\n",
      "              eval_metric=None, gamma=0.1, gpu_id=-1, grow_policy='depthwise',\n",
      "              importance_type=None, interaction_constraints='',\n",
      "              learning_rate=0.300000012, max_bin=256, max_cat_to_onehot=4,\n",
      "              max_delta_step=0, max_depth=6, max_leaves=0, min_child_weight=1,\n",
      "              missing=nan, monotone_constraints='()', n_estimators=150,\n",
      "              n_jobs=0, num_parallel_tree=1, predictor='auto', random_state=0,\n",
      "              reg_alpha=0, reg_lambda=1, ...)\n",
      "0.9704711171694707\n"
     ]
    }
   ],
   "source": [
    "from xgboost import XGBClassifier\n",
    "\n",
    "\n",
    "# defining parameter range\n",
    "param_grid = {\n",
    "    \"gamma\": [.01, .1, .5],\n",
    "    \"n_estimators\": [50,100,150,200,250]\n",
    "}\n",
    "\n",
    "grid_xgb = GridSearchCV(XGBClassifier(), param_grid, refit = True, verbose = 3, cv = 10, n_jobs = -1)\n",
    "\n",
    "# fitting the model for grid search\n",
    "grid_xgb.fit(X_train, y_train.values.ravel())\n",
    "\n",
    "# print best parameter after tuning\n",
    "print(grid_xgb.best_params_)\n",
    "\n",
    "# print how our model looks after hyper-parameter tuning\n",
    "print(grid_xgb.best_estimator_)\n",
    "print(grid_xgb.best_score_)\n"
   ]
  },
  {
   "cell_type": "code",
   "execution_count": 69,
   "metadata": {},
   "outputs": [],
   "source": [
    "xgb_model = grid_xgb.best_estimator_\n",
    "#xgb_model = xgb.fit(X_train,y_train)"
   ]
  },
  {
   "cell_type": "code",
   "execution_count": 70,
   "metadata": {},
   "outputs": [],
   "source": [
    "xgb_predict=xgb_model.predict(X_test)"
   ]
  },
  {
   "cell_type": "code",
   "execution_count": 71,
   "metadata": {},
   "outputs": [
    {
     "name": "stdout",
     "output_type": "stream",
     "text": [
      "The accuracy of XGBoost Classifier is:  96.93788276465442\n"
     ]
    }
   ],
   "source": [
    "print('The accuracy of XGBoost Classifier is: ' , 100.0 * accuracy_score(xgb_predict,y_test))"
   ]
  },
  {
   "cell_type": "code",
   "execution_count": 72,
   "metadata": {},
   "outputs": [
    {
     "name": "stdout",
     "output_type": "stream",
     "text": [
      "              precision    recall  f1-score   support\n",
      "\n",
      "           0       0.96      0.97      0.97      1152\n",
      "           1       0.97      0.96      0.97      1134\n",
      "\n",
      "    accuracy                           0.97      2286\n",
      "   macro avg       0.97      0.97      0.97      2286\n",
      "weighted avg       0.97      0.97      0.97      2286\n",
      "\n"
     ]
    }
   ],
   "source": [
    "print(classification_report(y_test, xgb_predict))"
   ]
  },
  {
   "cell_type": "code",
   "execution_count": 73,
   "metadata": {},
   "outputs": [
    {
     "data": {
      "image/png": "[encoded data removed]",
      "text/plain": [
       "<Figure size 640x480 with 2 Axes>"
      ]
     },
     "metadata": {},
     "output_type": "display_data"
    }
   ],
   "source": [
    "sns.heatmap(confusion_matrix(y_test, xgb_predict), annot=True, fmt='g', cmap='Blues')\n",
    "plt.title(\"XGBClassifier\")\n",
    "plt.xlabel('Predicted Class')\n",
    "plt.ylabel('Original Class')\n",
    "plt.show()"
   ]
  },
  {
   "cell_type": "code",
   "execution_count": 74,
   "metadata": {},
   "outputs": [
    {
     "name": "stdout",
     "output_type": "stream",
     "text": [
      "Fitting 10 folds for each of 15 candidates, totalling 150 fits\n",
      "{'learning_rate': 0.5, 'n_estimators': 250}\n",
      "GradientBoostingClassifier(learning_rate=0.5, n_estimators=250)\n",
      "0.9658795183604166\n"
     ]
    }
   ],
   "source": [
    "from sklearn.ensemble import GradientBoostingClassifier\n",
    "\n",
    "# defining parameter range\n",
    "param_grid = {\n",
    "    \"learning_rate\": [.1,.5,1],\n",
    "    \"n_estimators\": [50,100,150,200,250]\n",
    "}\n",
    "\n",
    "grid_gbc = GridSearchCV(GradientBoostingClassifier(), param_grid, refit = True, verbose = 3, cv = 10, n_jobs = -1)\n",
    "\n",
    "# fitting the model for grid search\n",
    "grid_gbc.fit(X_train, y_train.values.ravel())\n",
    "\n",
    "# print best parameter after tuning\n",
    "print(grid_gbc.best_params_)\n",
    "\n",
    "# print how our model looks after hyper-parameter tuning\n",
    "print(grid_gbc.best_estimator_)\n",
    "print(grid_gbc.best_score_)"
   ]
  },
  {
   "cell_type": "code",
   "execution_count": 75,
   "metadata": {},
   "outputs": [],
   "source": [
    "gbc_model = grid_gbc.best_estimator_\n",
    "#gbc_model = gbc.fit(X_train,y_train.values.ravel())\n",
    "\n",
    "#clf = GradientBoostingClassifier(n_estimators=100, learning_rate=1.0,\n",
    "#    max_depth=1, random_state=0).fit(X_train, y_train)\n",
    "#clf.score(X_test, y_test)"
   ]
  },
  {
   "cell_type": "code",
   "execution_count": 76,
   "metadata": {},
   "outputs": [],
   "source": [
    "gbc_predict = gbc_model.predict(X_test)"
   ]
  },
  {
   "cell_type": "code",
   "execution_count": 77,
   "metadata": {},
   "outputs": [
    {
     "name": "stdout",
     "output_type": "stream",
     "text": [
      "The accuracy of GradientBoost Classifier is:  96.63167104111986\n"
     ]
    }
   ],
   "source": [
    "print('The accuracy of GradientBoost Classifier is: ' , 100.0 * accuracy_score(gbc_predict,y_test))"
   ]
  },
  {
   "cell_type": "code",
   "execution_count": 78,
   "metadata": {},
   "outputs": [
    {
     "name": "stdout",
     "output_type": "stream",
     "text": [
      "              precision    recall  f1-score   support\n",
      "\n",
      "           0       0.96      0.97      0.97      1152\n",
      "           1       0.97      0.96      0.97      1134\n",
      "\n",
      "    accuracy                           0.97      2286\n",
      "   macro avg       0.97      0.97      0.97      2286\n",
      "weighted avg       0.97      0.97      0.97      2286\n",
      "\n"
     ]
    }
   ],
   "source": [
    "print(classification_report(y_test, gbc_predict))"
   ]
  },
  {
   "cell_type": "code",
   "execution_count": 79,
   "metadata": {},
   "outputs": [
    {
     "data": {
      "image/png": "[encoded data removed]",
      "text/plain": [
       "<Figure size 640x480 with 2 Axes>"
      ]
     },
     "metadata": {},
     "output_type": "display_data"
    }
   ],
   "source": [
    "sns.heatmap(confusion_matrix(y_test, gbc_predict), annot=True, fmt='g', cmap='Blues')\n",
    "plt.title(\"GradientBoostingClassifier\")\n",
    "plt.xlabel('Predicted Class')\n",
    "plt.ylabel('Original Class')\n",
    "plt.show()"
   ]
  },
  {
   "cell_type": "code",
   "execution_count": 80,
   "metadata": {},
   "outputs": [],
   "source": [
    "# gbc_model.get_params().keys()"
   ]
  },
  {
   "cell_type": "code",
   "execution_count": 81,
   "metadata": {},
   "outputs": [],
   "source": [
    "# import inspect\n",
    "# import sklearn\n",
    "# import xgboost\n",
    "\n",
    "# models = [xgboost.XGBClassifier]\n",
    "# for m in models:\n",
    "#     hyperparams = inspect.signature(m.__init__)\n",
    "#     print(hyperparams)\n",
    "# #or\n",
    "# xgb_model.get_params().keys()\n"
   ]
  },
  {
   "cell_type": "code",
   "execution_count": 82,
   "metadata": {},
   "outputs": [
    {
     "name": "stdout",
     "output_type": "stream",
     "text": [
      "Fitting 10 folds for each of 5 candidates, totalling 50 fits\n",
      "{'base_estimator': DecisionTreeClassifier(), 'n_estimators': 250}\n",
      "BaggingClassifier(base_estimator=DecisionTreeClassifier(), n_estimators=250)\n",
      "0.9575681266516005\n"
     ]
    }
   ],
   "source": [
    "from sklearn.ensemble import BaggingClassifier\n",
    "from sklearn.tree import DecisionTreeClassifier\n",
    "\n",
    "# defining parameter range\n",
    "param_grid = {\n",
    "    \"base_estimator\": [DecisionTreeClassifier()],\n",
    "    \"n_estimators\": [50,100,150,200,250]\n",
    "}\n",
    "\n",
    "grid_bag = GridSearchCV(BaggingClassifier(), param_grid, refit = True, verbose = 3, cv = 10, n_jobs = -1)\n",
    "\n",
    "# fitting the model for grid search\n",
    "grid_bag.fit(X_train, y_train.values.ravel())\n",
    "\n",
    "# print best parameter after tuning\n",
    "print(grid_bag.best_params_)\n",
    "\n",
    "# print how our model looks after hyper-parameter tuning\n",
    "print(grid_bag.best_estimator_)\n",
    "print(grid_bag.best_score_)"
   ]
  },
  {
   "cell_type": "code",
   "execution_count": 83,
   "metadata": {},
   "outputs": [],
   "source": [
    "bag_model = grid_bag.best_estimator_\n",
    "#bag_model = bag.fit(X_train, y_train.values.ravel())\n"
   ]
  },
  {
   "cell_type": "code",
   "execution_count": 84,
   "metadata": {},
   "outputs": [],
   "source": [
    "bag_predict = bag_model.predict(X_test)"
   ]
  },
  {
   "cell_type": "code",
   "execution_count": 85,
   "metadata": {},
   "outputs": [
    {
     "name": "stdout",
     "output_type": "stream",
     "text": [
      "The accuracy of Bagging Classifier is:  95.84426946631672\n"
     ]
    }
   ],
   "source": [
    "print('The accuracy of Bagging Classifier is: ' , 100.0 * accuracy_score(y_test, bag_predict))"
   ]
  },
  {
   "cell_type": "code",
   "execution_count": 86,
   "metadata": {},
   "outputs": [
    {
     "name": "stdout",
     "output_type": "stream",
     "text": [
      "              precision    recall  f1-score   support\n",
      "\n",
      "           0       0.95      0.96      0.96      1152\n",
      "           1       0.96      0.95      0.96      1134\n",
      "\n",
      "    accuracy                           0.96      2286\n",
      "   macro avg       0.96      0.96      0.96      2286\n",
      "weighted avg       0.96      0.96      0.96      2286\n",
      "\n"
     ]
    }
   ],
   "source": [
    "print(classification_report(y_test, bag_predict))"
   ]
  },
  {
   "cell_type": "code",
   "execution_count": 87,
   "metadata": {},
   "outputs": [
    {
     "data": {
      "image/png": "[encoded data removed]",
      "text/plain": [
       "<Figure size 640x480 with 2 Axes>"
      ]
     },
     "metadata": {},
     "output_type": "display_data"
    }
   ],
   "source": [
    "sns.heatmap(confusion_matrix(y_test, bag_predict), annot=True, fmt='g', cmap='Blues')\n",
    "plt.title(\"BaggingClassifier\")\n",
    "plt.xlabel('Predicted Class')\n",
    "plt.ylabel('Original Class')\n",
    "plt.show()"
   ]
  },
  {
   "cell_type": "code",
   "execution_count": 88,
   "metadata": {},
   "outputs": [
    {
     "name": "stdout",
     "output_type": "stream",
     "text": [
      "Fitting 10 folds for each of 5 candidates, totalling 50 fits\n",
      "{'n_estimators': 100}\n",
      "RandomForestClassifier()\n",
      "0.9666444261099352\n"
     ]
    }
   ],
   "source": [
    "from sklearn.ensemble import RandomForestClassifier\n",
    "\n",
    "# defining parameter range\n",
    "param_grid = {\n",
    "    \"n_estimators\": [50,100,150,200,250]\n",
    "}\n",
    "\n",
    "grid_rfc = GridSearchCV(RandomForestClassifier(), param_grid, refit = True, verbose = 3, cv = 10, n_jobs = -1)\n",
    "\n",
    "# fitting the model for grid search\n",
    "grid_rfc.fit(X_train, y_train.values.ravel())\n",
    "\n",
    "# print best parameter after tuning\n",
    "print(grid_rfc.best_params_)\n",
    "\n",
    "# print how our model looks after hyper-parameter tuning\n",
    "print(grid_rfc.best_estimator_)\n",
    "print(grid_rfc.best_score_)"
   ]
  },
  {
   "cell_type": "code",
   "execution_count": 89,
   "metadata": {},
   "outputs": [],
   "source": [
    "rfc_model = grid_rfc.best_estimator_\n",
    "#rfc_model = rfc.fit(X_train,y_train.values.ravel())"
   ]
  },
  {
   "cell_type": "code",
   "execution_count": 90,
   "metadata": {},
   "outputs": [],
   "source": [
    "rfc_predict = rfc_model.predict(X_test)"
   ]
  },
  {
   "cell_type": "code",
   "execution_count": 91,
   "metadata": {},
   "outputs": [
    {
     "name": "stdout",
     "output_type": "stream",
     "text": [
      "The accuracy of RandomForest Classifier is:  96.23797025371829\n"
     ]
    }
   ],
   "source": [
    "print('The accuracy of RandomForest Classifier is: ' , 100.0 * accuracy_score(rfc_predict,y_test))"
   ]
  },
  {
   "cell_type": "code",
   "execution_count": 92,
   "metadata": {},
   "outputs": [
    {
     "name": "stdout",
     "output_type": "stream",
     "text": [
      "              precision    recall  f1-score   support\n",
      "\n",
      "           0       0.96      0.97      0.96      1152\n",
      "           1       0.97      0.96      0.96      1134\n",
      "\n",
      "    accuracy                           0.96      2286\n",
      "   macro avg       0.96      0.96      0.96      2286\n",
      "weighted avg       0.96      0.96      0.96      2286\n",
      "\n"
     ]
    }
   ],
   "source": [
    "print(classification_report(y_test, rfc_predict))"
   ]
  },
  {
   "cell_type": "code",
   "execution_count": 93,
   "metadata": {},
   "outputs": [
    {
     "data": {
      "image/png": "[encoded data removed]",
      "text/plain": [
       "<Figure size 640x480 with 2 Axes>"
      ]
     },
     "metadata": {},
     "output_type": "display_data"
    }
   ],
   "source": [
    "sns.heatmap(confusion_matrix(y_test, rfc_predict), annot=True, fmt='g', cmap='Blues')\n",
    "plt.title(\"RandomForestClassifier\")\n",
    "plt.xlabel('Predicted Class')\n",
    "plt.ylabel('Original Class')\n",
    "plt.show()"
   ]
  },
  {
   "cell_type": "code",
   "execution_count": 94,
   "metadata": {},
   "outputs": [
    {
     "data": {
      "image/png": "[encoded data removed]",
      "text/plain": [
       "<Figure size 640x480 with 1 Axes>"
      ]
     },
     "metadata": {},
     "output_type": "display_data"
    }
   ],
   "source": [
    "estimators = [logr_model,knn_model,svc_model,nusvc_model,lsvc_model,xgb_model,ada_model,gbc_model,bag_model,rfc_model]\n",
    "\n",
    "for estimator in estimators:\n",
    "    RocCurveDisplay.from_estimator(estimator,X_test,y_test,ax=plt.gca())\n"
   ]
  },
  {
   "cell_type": "code",
   "execution_count": 95,
   "metadata": {},
   "outputs": [
    {
     "name": "stdout",
     "output_type": "stream",
     "text": [
      "Model: \"sequential\"\n",
      "_________________________________________________________________\n",
      " Layer (type)                Output Shape              Param #   \n",
      "=================================================================\n",
      " lstm (LSTM)                 (None, 100)               66000     \n",
      "                                                                 \n",
      " batch_normalization (BatchN  (None, 100)              400       \n",
      " ormalization)                                                   \n",
      "                                                                 \n",
      " dense (Dense)               (None, 50)                5050      \n",
      "                                                                 \n",
      " dense_1 (Dense)             (None, 25)                1275      \n",
      "                                                                 \n",
      " dense_2 (Dense)             (None, 10)                260       \n",
      "                                                                 \n",
      " dense_3 (Dense)             (None, 1)                 11        \n",
      "                                                                 \n",
      "=================================================================\n",
      "Total params: 72,996\n",
      "Trainable params: 72,796\n",
      "Non-trainable params: 200\n",
      "_________________________________________________________________\n",
      "Epoch 1/100\n",
      "229/229 [==============================] - 4s 7ms/step - loss: 0.2223 - accuracy: 0.9136 - val_loss: 0.4193 - val_accuracy: 0.9295\n",
      "Epoch 2/100\n",
      "229/229 [==============================] - 1s 4ms/step - loss: 0.1568 - accuracy: 0.9423 - val_loss: 0.2086 - val_accuracy: 0.9399\n",
      "Epoch 3/100\n",
      "229/229 [==============================] - 1s 4ms/step - loss: 0.1376 - accuracy: 0.9489 - val_loss: 0.1596 - val_accuracy: 0.9404\n",
      "Epoch 4/100\n",
      "229/229 [==============================] - 1s 4ms/step - loss: 0.1270 - accuracy: 0.9535 - val_loss: 0.1526 - val_accuracy: 0.9442\n",
      "Epoch 5/100\n",
      "229/229 [==============================] - 1s 4ms/step - loss: 0.1111 - accuracy: 0.9571 - val_loss: 0.1533 - val_accuracy: 0.9459\n",
      "Epoch 6/100\n",
      "229/229 [==============================] - 1s 4ms/step - loss: 0.1045 - accuracy: 0.9610 - val_loss: 0.1502 - val_accuracy: 0.9497\n",
      "Epoch 7/100\n",
      "229/229 [==============================] - 1s 4ms/step - loss: 0.1006 - accuracy: 0.9628 - val_loss: 0.1514 - val_accuracy: 0.9492\n",
      "Epoch 8/100\n",
      "229/229 [==============================] - 1s 4ms/step - loss: 0.0983 - accuracy: 0.9613 - val_loss: 0.1578 - val_accuracy: 0.9399\n",
      "Epoch 9/100\n",
      "229/229 [==============================] - 1s 4ms/step - loss: 0.0953 - accuracy: 0.9632 - val_loss: 0.1507 - val_accuracy: 0.9486\n",
      "Epoch 10/100\n",
      "229/229 [==============================] - 1s 4ms/step - loss: 0.0871 - accuracy: 0.9668 - val_loss: 0.1687 - val_accuracy: 0.9442\n",
      "Epoch 11/100\n",
      "229/229 [==============================] - 1s 4ms/step - loss: 0.0802 - accuracy: 0.9714 - val_loss: 0.1812 - val_accuracy: 0.9426\n",
      "Epoch 12/100\n",
      "229/229 [==============================] - 1s 4ms/step - loss: 0.0722 - accuracy: 0.9729 - val_loss: 0.1630 - val_accuracy: 0.9541\n",
      "Epoch 13/100\n",
      "229/229 [==============================] - 1s 4ms/step - loss: 0.0682 - accuracy: 0.9733 - val_loss: 0.1557 - val_accuracy: 0.9535\n",
      "Epoch 14/100\n",
      "229/229 [==============================] - 1s 4ms/step - loss: 0.0654 - accuracy: 0.9754 - val_loss: 0.1801 - val_accuracy: 0.9486\n",
      "Epoch 15/100\n",
      "229/229 [==============================] - 1s 4ms/step - loss: 0.0701 - accuracy: 0.9721 - val_loss: 0.1736 - val_accuracy: 0.9502\n",
      "Epoch 16/100\n",
      "229/229 [==============================] - 1s 4ms/step - loss: 0.0623 - accuracy: 0.9765 - val_loss: 0.1818 - val_accuracy: 0.9546\n",
      "Epoch 17/100\n",
      "229/229 [==============================] - 1s 4ms/step - loss: 0.0597 - accuracy: 0.9761 - val_loss: 0.1913 - val_accuracy: 0.9453\n",
      "Epoch 18/100\n",
      "229/229 [==============================] - 1s 4ms/step - loss: 0.0554 - accuracy: 0.9813 - val_loss: 0.1735 - val_accuracy: 0.9502\n",
      "Epoch 19/100\n",
      "229/229 [==============================] - 1s 4ms/step - loss: 0.0521 - accuracy: 0.9821 - val_loss: 0.1722 - val_accuracy: 0.9524\n",
      "Epoch 20/100\n",
      "229/229 [==============================] - 1s 4ms/step - loss: 0.0537 - accuracy: 0.9796 - val_loss: 0.1708 - val_accuracy: 0.9459\n",
      "Epoch 21/100\n",
      "229/229 [==============================] - 1s 4ms/step - loss: 0.0496 - accuracy: 0.9824 - val_loss: 0.1913 - val_accuracy: 0.9431\n",
      "Epoch 22/100\n",
      "229/229 [==============================] - 1s 4ms/step - loss: 0.0508 - accuracy: 0.9795 - val_loss: 0.1987 - val_accuracy: 0.9431\n",
      "Epoch 23/100\n",
      "229/229 [==============================] - 1s 5ms/step - loss: 0.0451 - accuracy: 0.9828 - val_loss: 0.1873 - val_accuracy: 0.9475\n",
      "Epoch 24/100\n",
      "229/229 [==============================] - 1s 4ms/step - loss: 0.0455 - accuracy: 0.9829 - val_loss: 0.1895 - val_accuracy: 0.9519\n",
      "Epoch 25/100\n",
      "229/229 [==============================] - 1s 4ms/step - loss: 0.0409 - accuracy: 0.9846 - val_loss: 0.1957 - val_accuracy: 0.9519\n",
      "Epoch 26/100\n",
      "229/229 [==============================] - 1s 4ms/step - loss: 0.0411 - accuracy: 0.9862 - val_loss: 0.2121 - val_accuracy: 0.9453\n",
      "Epoch 27/100\n",
      "229/229 [==============================] - 1s 4ms/step - loss: 0.0376 - accuracy: 0.9870 - val_loss: 0.2127 - val_accuracy: 0.9502\n",
      "Epoch 28/100\n",
      "229/229 [==============================] - 1s 4ms/step - loss: 0.0349 - accuracy: 0.9882 - val_loss: 0.2015 - val_accuracy: 0.9453\n",
      "Epoch 29/100\n",
      "229/229 [==============================] - 1s 4ms/step - loss: 0.0425 - accuracy: 0.9848 - val_loss: 0.1991 - val_accuracy: 0.9481\n",
      "Epoch 30/100\n",
      "229/229 [==============================] - 1s 4ms/step - loss: 0.0362 - accuracy: 0.9877 - val_loss: 0.2377 - val_accuracy: 0.9470\n",
      "Epoch 31/100\n",
      "229/229 [==============================] - 1s 4ms/step - loss: 0.0364 - accuracy: 0.9867 - val_loss: 0.2108 - val_accuracy: 0.9486\n",
      "Epoch 32/100\n",
      "229/229 [==============================] - 1s 5ms/step - loss: 0.0343 - accuracy: 0.9866 - val_loss: 0.2275 - val_accuracy: 0.9442\n",
      "Epoch 33/100\n",
      "229/229 [==============================] - 1s 4ms/step - loss: 0.0292 - accuracy: 0.9892 - val_loss: 0.2329 - val_accuracy: 0.9502\n",
      "Epoch 34/100\n",
      "229/229 [==============================] - 1s 4ms/step - loss: 0.0330 - accuracy: 0.9888 - val_loss: 0.2292 - val_accuracy: 0.9453\n",
      "Epoch 35/100\n",
      "229/229 [==============================] - 1s 4ms/step - loss: 0.0289 - accuracy: 0.9897 - val_loss: 0.2268 - val_accuracy: 0.9530\n",
      "Epoch 36/100\n",
      "229/229 [==============================] - 1s 4ms/step - loss: 0.0338 - accuracy: 0.9869 - val_loss: 0.2525 - val_accuracy: 0.9371\n",
      "Epoch 37/100\n",
      "229/229 [==============================] - 1s 4ms/step - loss: 0.0275 - accuracy: 0.9906 - val_loss: 0.2191 - val_accuracy: 0.9519\n",
      "Epoch 38/100\n",
      "229/229 [==============================] - 1s 4ms/step - loss: 0.0295 - accuracy: 0.9889 - val_loss: 0.2277 - val_accuracy: 0.9442\n",
      "Epoch 39/100\n",
      "229/229 [==============================] - 1s 4ms/step - loss: 0.0217 - accuracy: 0.9928 - val_loss: 0.2287 - val_accuracy: 0.9535\n",
      "Epoch 40/100\n",
      "229/229 [==============================] - 1s 5ms/step - loss: 0.0210 - accuracy: 0.9933 - val_loss: 0.2635 - val_accuracy: 0.9431\n",
      "Epoch 41/100\n",
      "229/229 [==============================] - 1s 4ms/step - loss: 0.0240 - accuracy: 0.9910 - val_loss: 0.2428 - val_accuracy: 0.9481\n",
      "Epoch 42/100\n",
      "229/229 [==============================] - 1s 4ms/step - loss: 0.0271 - accuracy: 0.9907 - val_loss: 0.2515 - val_accuracy: 0.9568\n",
      "Epoch 43/100\n",
      "229/229 [==============================] - 1s 4ms/step - loss: 0.0245 - accuracy: 0.9921 - val_loss: 0.2799 - val_accuracy: 0.9366\n",
      "Epoch 44/100\n",
      "229/229 [==============================] - 1s 4ms/step - loss: 0.0201 - accuracy: 0.9926 - val_loss: 0.2768 - val_accuracy: 0.9475\n",
      "Epoch 45/100\n",
      "229/229 [==============================] - 1s 4ms/step - loss: 0.0235 - accuracy: 0.9915 - val_loss: 0.2470 - val_accuracy: 0.9502\n",
      "Epoch 46/100\n",
      "229/229 [==============================] - 1s 5ms/step - loss: 0.0233 - accuracy: 0.9906 - val_loss: 0.2689 - val_accuracy: 0.9475\n",
      "Epoch 47/100\n",
      "229/229 [==============================] - 1s 4ms/step - loss: 0.0214 - accuracy: 0.9919 - val_loss: 0.2691 - val_accuracy: 0.9481\n",
      "Epoch 48/100\n",
      "229/229 [==============================] - 1s 5ms/step - loss: 0.0208 - accuracy: 0.9922 - val_loss: 0.2809 - val_accuracy: 0.9541\n",
      "Epoch 49/100\n",
      "229/229 [==============================] - 1s 4ms/step - loss: 0.0198 - accuracy: 0.9930 - val_loss: 0.2851 - val_accuracy: 0.9486\n",
      "Epoch 50/100\n",
      "229/229 [==============================] - 1s 4ms/step - loss: 0.0208 - accuracy: 0.9930 - val_loss: 0.2764 - val_accuracy: 0.9442\n",
      "Epoch 51/100\n",
      "229/229 [==============================] - 1s 5ms/step - loss: 0.0206 - accuracy: 0.9921 - val_loss: 0.2710 - val_accuracy: 0.9453\n",
      "Epoch 52/100\n",
      "229/229 [==============================] - 1s 5ms/step - loss: 0.0237 - accuracy: 0.9922 - val_loss: 0.2615 - val_accuracy: 0.9519\n",
      "Epoch 53/100\n",
      "229/229 [==============================] - 1s 5ms/step - loss: 0.0189 - accuracy: 0.9937 - val_loss: 0.2734 - val_accuracy: 0.9513\n",
      "Epoch 54/100\n",
      "229/229 [==============================] - 1s 5ms/step - loss: 0.0131 - accuracy: 0.9960 - val_loss: 0.3044 - val_accuracy: 0.9426\n",
      "Epoch 55/100\n",
      "229/229 [==============================] - 1s 5ms/step - loss: 0.0160 - accuracy: 0.9940 - val_loss: 0.2800 - val_accuracy: 0.9519\n",
      "Epoch 56/100\n",
      "229/229 [==============================] - 1s 4ms/step - loss: 0.0178 - accuracy: 0.9929 - val_loss: 0.3062 - val_accuracy: 0.9393\n",
      "Epoch 57/100\n",
      "229/229 [==============================] - 1s 4ms/step - loss: 0.0238 - accuracy: 0.9914 - val_loss: 0.2737 - val_accuracy: 0.9508\n",
      "Epoch 58/100\n",
      "229/229 [==============================] - 1s 5ms/step - loss: 0.0164 - accuracy: 0.9940 - val_loss: 0.3027 - val_accuracy: 0.9513\n",
      "Epoch 59/100\n",
      "229/229 [==============================] - 1s 5ms/step - loss: 0.0239 - accuracy: 0.9922 - val_loss: 0.2741 - val_accuracy: 0.9524\n",
      "Epoch 60/100\n",
      "229/229 [==============================] - 1s 4ms/step - loss: 0.0175 - accuracy: 0.9941 - val_loss: 0.2563 - val_accuracy: 0.9524\n",
      "Epoch 61/100\n",
      "229/229 [==============================] - 1s 4ms/step - loss: 0.0139 - accuracy: 0.9944 - val_loss: 0.2518 - val_accuracy: 0.9513\n",
      "Epoch 62/100\n",
      "229/229 [==============================] - 1s 5ms/step - loss: 0.0139 - accuracy: 0.9955 - val_loss: 0.2698 - val_accuracy: 0.9492\n",
      "Epoch 63/100\n",
      "229/229 [==============================] - 1s 4ms/step - loss: 0.0193 - accuracy: 0.9937 - val_loss: 0.2888 - val_accuracy: 0.9420\n",
      "Epoch 64/100\n",
      "229/229 [==============================] - 1s 5ms/step - loss: 0.0196 - accuracy: 0.9930 - val_loss: 0.3050 - val_accuracy: 0.9475\n",
      "Epoch 65/100\n",
      "229/229 [==============================] - 1s 4ms/step - loss: 0.0129 - accuracy: 0.9952 - val_loss: 0.2995 - val_accuracy: 0.9470\n",
      "Epoch 66/100\n",
      "229/229 [==============================] - 1s 5ms/step - loss: 0.0115 - accuracy: 0.9962 - val_loss: 0.2883 - val_accuracy: 0.9470\n",
      "Epoch 67/100\n",
      "229/229 [==============================] - 1s 4ms/step - loss: 0.0139 - accuracy: 0.9945 - val_loss: 0.3136 - val_accuracy: 0.9497\n",
      "Epoch 68/100\n",
      "229/229 [==============================] - 1s 5ms/step - loss: 0.0122 - accuracy: 0.9955 - val_loss: 0.3187 - val_accuracy: 0.9486\n",
      "Epoch 69/100\n",
      "229/229 [==============================] - 1s 5ms/step - loss: 0.0128 - accuracy: 0.9944 - val_loss: 0.3468 - val_accuracy: 0.9481\n",
      "Epoch 70/100\n",
      "229/229 [==============================] - 1s 4ms/step - loss: 0.0191 - accuracy: 0.9928 - val_loss: 0.3448 - val_accuracy: 0.9431\n",
      "Epoch 71/100\n",
      "229/229 [==============================] - 1s 5ms/step - loss: 0.0141 - accuracy: 0.9952 - val_loss: 0.3339 - val_accuracy: 0.9420\n",
      "Epoch 72/100\n",
      "229/229 [==============================] - 1s 5ms/step - loss: 0.0077 - accuracy: 0.9973 - val_loss: 0.3257 - val_accuracy: 0.9502\n",
      "Epoch 73/100\n",
      "229/229 [==============================] - 1s 5ms/step - loss: 0.0181 - accuracy: 0.9937 - val_loss: 0.3440 - val_accuracy: 0.9431\n",
      "Epoch 74/100\n",
      "229/229 [==============================] - 1s 5ms/step - loss: 0.0147 - accuracy: 0.9945 - val_loss: 0.3110 - val_accuracy: 0.9459\n",
      "Epoch 75/100\n",
      "229/229 [==============================] - 1s 5ms/step - loss: 0.0140 - accuracy: 0.9954 - val_loss: 0.3554 - val_accuracy: 0.9437\n",
      "Epoch 76/100\n",
      "229/229 [==============================] - 1s 5ms/step - loss: 0.0123 - accuracy: 0.9959 - val_loss: 0.3196 - val_accuracy: 0.9497\n",
      "Epoch 77/100\n",
      "229/229 [==============================] - 1s 5ms/step - loss: 0.0108 - accuracy: 0.9962 - val_loss: 0.3644 - val_accuracy: 0.9464\n",
      "Epoch 78/100\n",
      "229/229 [==============================] - 1s 4ms/step - loss: 0.0180 - accuracy: 0.9941 - val_loss: 0.3778 - val_accuracy: 0.9420\n",
      "Epoch 79/100\n",
      "229/229 [==============================] - 1s 4ms/step - loss: 0.0127 - accuracy: 0.9958 - val_loss: 0.3327 - val_accuracy: 0.9420\n",
      "Epoch 80/100\n",
      "229/229 [==============================] - 1s 4ms/step - loss: 0.0094 - accuracy: 0.9967 - val_loss: 0.3699 - val_accuracy: 0.9475\n",
      "Epoch 81/100\n",
      "229/229 [==============================] - 1s 5ms/step - loss: 0.0147 - accuracy: 0.9943 - val_loss: 0.3265 - val_accuracy: 0.9486\n",
      "Epoch 82/100\n",
      "229/229 [==============================] - 1s 5ms/step - loss: 0.0106 - accuracy: 0.9963 - val_loss: 0.3280 - val_accuracy: 0.9481\n",
      "Epoch 83/100\n",
      "229/229 [==============================] - 1s 5ms/step - loss: 0.0101 - accuracy: 0.9967 - val_loss: 0.3406 - val_accuracy: 0.9486\n",
      "Epoch 84/100\n",
      "229/229 [==============================] - 1s 5ms/step - loss: 0.0102 - accuracy: 0.9967 - val_loss: 0.3587 - val_accuracy: 0.9464\n",
      "Epoch 85/100\n",
      "229/229 [==============================] - 1s 4ms/step - loss: 0.0114 - accuracy: 0.9958 - val_loss: 0.3676 - val_accuracy: 0.9442\n",
      "Epoch 86/100\n",
      "229/229 [==============================] - 1s 5ms/step - loss: 0.0119 - accuracy: 0.9952 - val_loss: 0.3554 - val_accuracy: 0.9410\n",
      "Epoch 87/100\n",
      "229/229 [==============================] - 1s 5ms/step - loss: 0.0089 - accuracy: 0.9974 - val_loss: 0.3610 - val_accuracy: 0.9492\n",
      "Epoch 88/100\n",
      "229/229 [==============================] - 1s 4ms/step - loss: 0.0091 - accuracy: 0.9970 - val_loss: 0.4277 - val_accuracy: 0.9404\n",
      "Epoch 89/100\n",
      "229/229 [==============================] - 1s 4ms/step - loss: 0.0178 - accuracy: 0.9937 - val_loss: 0.3436 - val_accuracy: 0.9508\n",
      "Epoch 90/100\n",
      "229/229 [==============================] - 1s 4ms/step - loss: 0.0098 - accuracy: 0.9967 - val_loss: 0.3558 - val_accuracy: 0.9513\n",
      "Epoch 91/100\n",
      "229/229 [==============================] - 1s 5ms/step - loss: 0.0109 - accuracy: 0.9962 - val_loss: 0.4206 - val_accuracy: 0.9415\n",
      "Epoch 92/100\n",
      "229/229 [==============================] - 1s 4ms/step - loss: 0.0192 - accuracy: 0.9941 - val_loss: 0.3428 - val_accuracy: 0.9453\n",
      "Epoch 93/100\n",
      "229/229 [==============================] - 1s 5ms/step - loss: 0.0116 - accuracy: 0.9962 - val_loss: 0.3141 - val_accuracy: 0.9492\n",
      "Epoch 94/100\n",
      "229/229 [==============================] - 1s 5ms/step - loss: 0.0078 - accuracy: 0.9970 - val_loss: 0.3599 - val_accuracy: 0.9459\n",
      "Epoch 95/100\n",
      "229/229 [==============================] - 1s 5ms/step - loss: 0.0058 - accuracy: 0.9978 - val_loss: 0.3747 - val_accuracy: 0.9475\n",
      "Epoch 96/100\n",
      "229/229 [==============================] - 1s 5ms/step - loss: 0.0063 - accuracy: 0.9971 - val_loss: 0.3997 - val_accuracy: 0.9459\n",
      "Epoch 97/100\n",
      "229/229 [==============================] - 1s 5ms/step - loss: 0.0159 - accuracy: 0.9958 - val_loss: 0.3611 - val_accuracy: 0.9420\n",
      "Epoch 98/100\n",
      "229/229 [==============================] - 1s 5ms/step - loss: 0.0114 - accuracy: 0.9958 - val_loss: 0.3565 - val_accuracy: 0.9464\n",
      "Epoch 99/100\n",
      "229/229 [==============================] - 1s 4ms/step - loss: 0.0104 - accuracy: 0.9959 - val_loss: 0.3956 - val_accuracy: 0.9464\n",
      "Epoch 100/100\n",
      "229/229 [==============================] - 1s 4ms/step - loss: 0.0109 - accuracy: 0.9966 - val_loss: 0.3779 - val_accuracy: 0.9502\n",
      "Test results - Loss: 0.32264989614486694 - Accuracy: 95.31933665275574%\n"
     ]
    }
   ],
   "source": [
    "import tensorflow as tf\n",
    "#from tensorflow.keras.datasets import imdb\n",
    "from keras.layers import Embedding, Dense, LSTM, BatchNormalization\n",
    "from keras.losses import BinaryCrossentropy\n",
    "from keras.models import Sequential\n",
    "from keras.optimizers import Adam\n",
    "#from tensorflow.keras.preprocessing.sequence import pad_sequences\n",
    "\n",
    "# Model configuration\n",
    "additional_metrics = ['accuracy']\n",
    "batch_size = 32\n",
    "#embedding_output_dims = (X_train.shape[1])\n",
    "loss_function = BinaryCrossentropy()\n",
    "#max_sequence_length = (X_train.shape[1])\n",
    "#num_distinct_words = (X_train.shape[1])\n",
    "number_of_epochs = 100\n",
    "optimizer = Adam()\n",
    "validation_split = 0.20\n",
    "verbosity_mode = 1\n",
    "\n",
    "# reshape from [samples, features] into [samples, timesteps, features]\n",
    "timesteps = 1\n",
    "X_train_reshape = X_train.values.ravel().reshape(X_train.shape[0],timesteps, X_train.shape[1])\n",
    "X_test_reshape = X_test.values.ravel().reshape(X_test.shape[0],timesteps, X_test.shape[1])\n",
    "\n",
    "# Disable eager execution\n",
    "#tf.compat.v1.disable_eager_execution()\n",
    "\n",
    "# Load dataset\n",
    "# (x_train, y_train), (x_test, y_test) = imdb.load_data(num_words=num_distinct_words)\n",
    "# print(x_train.shape)\n",
    "# print(x_test.shape)\n",
    "\n",
    "# Pad all sequences\n",
    "# padded_inputs = pad_sequences(X_train, maxlen=max_sequence_length, value = 0.0) # 0.0 because it corresponds with <PAD>\n",
    "# padded_inputs_test = pad_sequences(X_test, maxlen=max_sequence_length, value = 0.0) # 0.0 because it corresponds with <PAD>\n",
    "\n",
    "# Define the Keras model\n",
    "def build_model_lstm():\n",
    "    model = Sequential()\n",
    "    #model.add(Embedding(num_distinct_words, embedding_output_dims, input_length=max_sequence_length))\n",
    "    model.add(LSTM(100, input_shape = (timesteps,X_train_reshape.shape[2])))\n",
    "    model.add(BatchNormalization())\n",
    "    model.add(Dense(50, activation='relu'))\n",
    "    model.add(Dense(25, activation='relu'))\n",
    "    model.add(Dense(10, activation='relu'))\n",
    "    model.add(Dense(1, activation='sigmoid'))\n",
    "\n",
    "    # Compile the model\n",
    "    model.compile(optimizer=optimizer, loss=loss_function, metrics=additional_metrics)\n",
    "    return model\n",
    "\n",
    "#from keras.wrappers.scikit_learn import KerasClassifier\n",
    "lstm_model = build_model_lstm()\n",
    "# Give a summary\n",
    "lstm_model.summary()\n",
    "\n",
    "# Train the model\n",
    "history = lstm_model.fit(X_train_reshape, y_train.values.ravel(), batch_size=batch_size, epochs=number_of_epochs, verbose=verbosity_mode, validation_split=validation_split)\n",
    "\n",
    "# Test the model after training\n",
    "#lstm_predict = lstm_model.predict(X_test_reshape)\n",
    "test_results = lstm_model.evaluate(X_test_reshape, y_test.values.ravel(), verbose=False)\n",
    "print(f'Test results - Loss: {test_results[0]} - Accuracy: {100*test_results[1]}%')"
   ]
  },
  {
   "cell_type": "code",
   "execution_count": 96,
   "metadata": {},
   "outputs": [
    {
     "name": "stdout",
     "output_type": "stream",
     "text": [
      "72/72 [==============================] - 1s 2ms/step\n",
      "              precision    recall  f1-score   support\n",
      "\n",
      "           0       0.96      0.95      0.95      1152\n",
      "           1       0.95      0.96      0.95      1134\n",
      "\n",
      "    accuracy                           0.95      2286\n",
      "   macro avg       0.95      0.95      0.95      2286\n",
      "weighted avg       0.95      0.95      0.95      2286\n",
      "\n"
     ]
    }
   ],
   "source": [
    "lstm_predict_proba = lstm_model.predict(X_test_reshape, batch_size=32)\n",
    "lstm_predict_class = (lstm_predict_proba > 0.5).astype(\"int32\")\n",
    "print(classification_report(y_test, lstm_predict_class))"
   ]
  },
  {
   "cell_type": "code",
   "execution_count": 97,
   "metadata": {},
   "outputs": [
    {
     "data": {
      "image/png": "[encoded data removed]",
      "text/plain": [
       "<Figure size 640x480 with 2 Axes>"
      ]
     },
     "metadata": {},
     "output_type": "display_data"
    }
   ],
   "source": [
    "sns.heatmap(confusion_matrix(y_test, lstm_predict_class), annot=True, fmt='g', cmap='Blues')\n",
    "plt.title(\"LSTM\")\n",
    "plt.xlabel('Predicted Class')\n",
    "plt.ylabel('Original Class')\n",
    "plt.show()\n"
   ]
  },
  {
   "cell_type": "code",
   "execution_count": 98,
   "metadata": {},
   "outputs": [
    {
     "data": {
      "image/png": "[encoded data removed]",
      "text/plain": [
       "<Figure size 640x480 with 1 Axes>"
      ]
     },
     "metadata": {},
     "output_type": "display_data"
    }
   ],
   "source": [
    "RocCurveDisplay.from_predictions(y_test,lstm_predict_class)\n",
    "plt.show()"
   ]
  }
 ],
 "metadata": {
  "kernelspec": {
   "display_name": "Python 3",
   "language": "python",
   "name": "python3"
  },
  "language_info": {
   "codemirror_mode": {
    "name": "ipython",
    "version": 3
   },
   "file_extension": ".py",
   "mimetype": "text/x-python",
   "name": "python",
   "nbconvert_exporter": "python",
   "pygments_lexer": "ipython3",
   "version": "3.10.9 (tags/v3.10.9:1dd9be6, Dec  6 2022, 20:01:21) [MSC v.1934 64 bit (AMD64)]"
  },
  "orig_nbformat": 4,
  "vscode": {
   "interpreter": {
    "hash": "66f804da07f0f556d77bc3269dc5bb19edf020422864031af2885e5ff55f9079"
   }
  }
 },
 "nbformat": 4,
 "nbformat_minor": 2
}
