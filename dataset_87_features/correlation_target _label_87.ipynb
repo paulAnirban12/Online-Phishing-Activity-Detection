{
 "cells": [
  {
   "cell_type": "code",
   "execution_count": 1,
   "metadata": {},
   "outputs": [],
   "source": [
    "# Importing the packages\n",
    "import sys\n",
    "import numpy as np\n",
    "np.set_printoptions(threshold=sys.maxsize)\n",
    "import matplotlib.pyplot as plt\n",
    "import pandas as pd\n",
    "import seaborn as sns\n",
    "import sklearn\n",
    "import random\n",
    "from sklearn.metrics import confusion_matrix,accuracy_score,classification_report,RocCurveDisplay,ConfusionMatrixDisplay"
   ]
  },
  {
   "cell_type": "code",
   "execution_count": 2,
   "metadata": {},
   "outputs": [],
   "source": [
    "pd.set_option('display.max_rows', None)\n",
    "pd.set_option('display.max_columns', None)\n",
    "pd.set_option('display.width', None)\n",
    "pd.set_option('display.max_colwidth', None)"
   ]
  },
  {
   "cell_type": "code",
   "execution_count": 3,
   "metadata": {},
   "outputs": [],
   "source": [
    "# Importing the dataset\n",
    "df = pd.read_csv('dataset_phishing.csv')\n",
    "df.drop(['url'], axis=1, inplace=True)\n",
    "#df.head(50)\n"
   ]
  },
  {
   "cell_type": "code",
   "execution_count": 4,
   "metadata": {},
   "outputs": [],
   "source": [
    "# if your dataset contains missing value, check which column has missing values\n",
    "#df.isnull().sum()"
   ]
  },
  {
   "cell_type": "code",
   "execution_count": 5,
   "metadata": {},
   "outputs": [],
   "source": [
    "#df.dropna(inplace=True)"
   ]
  },
  {
   "cell_type": "code",
   "execution_count": 6,
   "metadata": {},
   "outputs": [],
   "source": [
    "from sklearn import preprocessing\n",
    "\n",
    "\n",
    "col = [df.columns[-1]]\n",
    "\n",
    "lab_en= preprocessing.LabelEncoder()\n",
    "\n",
    "for c in col:\n",
    "    df[c]= lab_en.fit_transform(df[c])\n",
    "\n",
    "#df.head(50)"
   ]
  },
  {
   "cell_type": "code",
   "execution_count": 7,
   "metadata": {},
   "outputs": [
    {
     "data": {
      "text/html": [
       "<div>\n",
       "<style scoped>\n",
       "    .dataframe tbody tr th:only-of-type {\n",
       "        vertical-align: middle;\n",
       "    }\n",
       "\n",
       "    .dataframe tbody tr th {\n",
       "        vertical-align: top;\n",
       "    }\n",
       "\n",
       "    .dataframe thead th {\n",
       "        text-align: right;\n",
       "    }\n",
       "</style>\n",
       "<table border=\"1\" class=\"dataframe\">\n",
       "  <thead>\n",
       "    <tr style=\"text-align: right;\">\n",
       "      <th></th>\n",
       "      <th>Col</th>\n",
       "      <th>Correlation</th>\n",
       "    </tr>\n",
       "  </thead>\n",
       "  <tbody>\n",
       "    <tr>\n",
       "      <th>0</th>\n",
       "      <td>status</td>\n",
       "      <td>1.000000e+00</td>\n",
       "    </tr>\n",
       "    <tr>\n",
       "      <th>1</th>\n",
       "      <td>google_index</td>\n",
       "      <td>7.311708e-01</td>\n",
       "    </tr>\n",
       "    <tr>\n",
       "      <th>2</th>\n",
       "      <td>page_rank</td>\n",
       "      <td>5.111371e-01</td>\n",
       "    </tr>\n",
       "    <tr>\n",
       "      <th>3</th>\n",
       "      <td>nb_www</td>\n",
       "      <td>4.434677e-01</td>\n",
       "    </tr>\n",
       "    <tr>\n",
       "      <th>4</th>\n",
       "      <td>ratio_digits_url</td>\n",
       "      <td>3.563946e-01</td>\n",
       "    </tr>\n",
       "    <tr>\n",
       "      <th>5</th>\n",
       "      <td>domain_in_title</td>\n",
       "      <td>3.428070e-01</td>\n",
       "    </tr>\n",
       "    <tr>\n",
       "      <th>6</th>\n",
       "      <td>nb_hyperlinks</td>\n",
       "      <td>3.426283e-01</td>\n",
       "    </tr>\n",
       "    <tr>\n",
       "      <th>7</th>\n",
       "      <td>phish_hints</td>\n",
       "      <td>3.353927e-01</td>\n",
       "    </tr>\n",
       "    <tr>\n",
       "      <th>8</th>\n",
       "      <td>domain_age</td>\n",
       "      <td>3.318891e-01</td>\n",
       "    </tr>\n",
       "    <tr>\n",
       "      <th>9</th>\n",
       "      <td>ip</td>\n",
       "      <td>3.216978e-01</td>\n",
       "    </tr>\n",
       "    <tr>\n",
       "      <th>10</th>\n",
       "      <td>nb_qm</td>\n",
       "      <td>2.943191e-01</td>\n",
       "    </tr>\n",
       "    <tr>\n",
       "      <th>11</th>\n",
       "      <td>length_url</td>\n",
       "      <td>2.485805e-01</td>\n",
       "    </tr>\n",
       "    <tr>\n",
       "      <th>12</th>\n",
       "      <td>ratio_intHyperlinks</td>\n",
       "      <td>2.439821e-01</td>\n",
       "    </tr>\n",
       "    <tr>\n",
       "      <th>13</th>\n",
       "      <td>nb_slash</td>\n",
       "      <td>2.422700e-01</td>\n",
       "    </tr>\n",
       "    <tr>\n",
       "      <th>14</th>\n",
       "      <td>length_hostname</td>\n",
       "      <td>2.383224e-01</td>\n",
       "    </tr>\n",
       "    <tr>\n",
       "      <th>15</th>\n",
       "      <td>nb_eq</td>\n",
       "      <td>2.333863e-01</td>\n",
       "    </tr>\n",
       "    <tr>\n",
       "      <th>16</th>\n",
       "      <td>ratio_digits_host</td>\n",
       "      <td>2.243349e-01</td>\n",
       "    </tr>\n",
       "    <tr>\n",
       "      <th>17</th>\n",
       "      <td>shortest_word_host</td>\n",
       "      <td>2.230840e-01</td>\n",
       "    </tr>\n",
       "    <tr>\n",
       "      <th>18</th>\n",
       "      <td>prefix_suffix</td>\n",
       "      <td>2.146807e-01</td>\n",
       "    </tr>\n",
       "    <tr>\n",
       "      <th>19</th>\n",
       "      <td>longest_word_path</td>\n",
       "      <td>2.127091e-01</td>\n",
       "    </tr>\n",
       "    <tr>\n",
       "      <th>20</th>\n",
       "      <td>tld_in_subdomain</td>\n",
       "      <td>2.088842e-01</td>\n",
       "    </tr>\n",
       "    <tr>\n",
       "      <th>21</th>\n",
       "      <td>empty_title</td>\n",
       "      <td>2.070428e-01</td>\n",
       "    </tr>\n",
       "    <tr>\n",
       "      <th>22</th>\n",
       "      <td>nb_dots</td>\n",
       "      <td>2.070288e-01</td>\n",
       "    </tr>\n",
       "    <tr>\n",
       "      <th>23</th>\n",
       "      <td>longest_words_raw</td>\n",
       "      <td>2.001466e-01</td>\n",
       "    </tr>\n",
       "    <tr>\n",
       "      <th>24</th>\n",
       "      <td>avg_word_path</td>\n",
       "      <td>1.972561e-01</td>\n",
       "    </tr>\n",
       "    <tr>\n",
       "      <th>25</th>\n",
       "      <td>avg_word_host</td>\n",
       "      <td>1.935017e-01</td>\n",
       "    </tr>\n",
       "    <tr>\n",
       "      <th>26</th>\n",
       "      <td>ratio_intMedia</td>\n",
       "      <td>1.933331e-01</td>\n",
       "    </tr>\n",
       "    <tr>\n",
       "      <th>27</th>\n",
       "      <td>length_words_raw</td>\n",
       "      <td>1.920105e-01</td>\n",
       "    </tr>\n",
       "    <tr>\n",
       "      <th>28</th>\n",
       "      <td>links_in_tags</td>\n",
       "      <td>1.844011e-01</td>\n",
       "    </tr>\n",
       "    <tr>\n",
       "      <th>29</th>\n",
       "      <td>safe_anchor</td>\n",
       "      <td>1.733973e-01</td>\n",
       "    </tr>\n",
       "    <tr>\n",
       "      <th>30</th>\n",
       "      <td>domain_with_copyright</td>\n",
       "      <td>1.730985e-01</td>\n",
       "    </tr>\n",
       "    <tr>\n",
       "      <th>31</th>\n",
       "      <td>nb_and</td>\n",
       "      <td>1.705464e-01</td>\n",
       "    </tr>\n",
       "    <tr>\n",
       "      <th>32</th>\n",
       "      <td>avg_words_raw</td>\n",
       "      <td>1.675637e-01</td>\n",
       "    </tr>\n",
       "    <tr>\n",
       "      <th>33</th>\n",
       "      <td>domain_registration_length</td>\n",
       "      <td>1.617188e-01</td>\n",
       "    </tr>\n",
       "    <tr>\n",
       "      <th>34</th>\n",
       "      <td>nb_com</td>\n",
       "      <td>1.562835e-01</td>\n",
       "    </tr>\n",
       "    <tr>\n",
       "      <th>35</th>\n",
       "      <td>ratio_extRedirection</td>\n",
       "      <td>1.508267e-01</td>\n",
       "    </tr>\n",
       "    <tr>\n",
       "      <th>36</th>\n",
       "      <td>external_favicon</td>\n",
       "      <td>1.465654e-01</td>\n",
       "    </tr>\n",
       "    <tr>\n",
       "      <th>37</th>\n",
       "      <td>statistical_report</td>\n",
       "      <td>1.439435e-01</td>\n",
       "    </tr>\n",
       "    <tr>\n",
       "      <th>38</th>\n",
       "      <td>nb_at</td>\n",
       "      <td>1.429146e-01</td>\n",
       "    </tr>\n",
       "    <tr>\n",
       "      <th>39</th>\n",
       "      <td>ratio_extMedia</td>\n",
       "      <td>1.404059e-01</td>\n",
       "    </tr>\n",
       "    <tr>\n",
       "      <th>40</th>\n",
       "      <td>abnormal_subdomain</td>\n",
       "      <td>1.281598e-01</td>\n",
       "    </tr>\n",
       "    <tr>\n",
       "      <th>41</th>\n",
       "      <td>longest_word_host</td>\n",
       "      <td>1.245156e-01</td>\n",
       "    </tr>\n",
       "    <tr>\n",
       "      <th>42</th>\n",
       "      <td>dns_record</td>\n",
       "      <td>1.221190e-01</td>\n",
       "    </tr>\n",
       "    <tr>\n",
       "      <th>43</th>\n",
       "      <td>https_token</td>\n",
       "      <td>1.146691e-01</td>\n",
       "    </tr>\n",
       "    <tr>\n",
       "      <th>44</th>\n",
       "      <td>nb_subdomains</td>\n",
       "      <td>1.128907e-01</td>\n",
       "    </tr>\n",
       "    <tr>\n",
       "      <th>45</th>\n",
       "      <td>suspecious_tld</td>\n",
       "      <td>1.100896e-01</td>\n",
       "    </tr>\n",
       "    <tr>\n",
       "      <th>46</th>\n",
       "      <td>shortening_service</td>\n",
       "      <td>1.061200e-01</td>\n",
       "    </tr>\n",
       "    <tr>\n",
       "      <th>47</th>\n",
       "      <td>nb_semicolumn</td>\n",
       "      <td>1.035541e-01</td>\n",
       "    </tr>\n",
       "    <tr>\n",
       "      <th>48</th>\n",
       "      <td>nb_hyphens</td>\n",
       "      <td>1.001075e-01</td>\n",
       "    </tr>\n",
       "    <tr>\n",
       "      <th>49</th>\n",
       "      <td>domain_in_brand</td>\n",
       "      <td>9.822216e-02</td>\n",
       "    </tr>\n",
       "    <tr>\n",
       "      <th>50</th>\n",
       "      <td>nb_colon</td>\n",
       "      <td>9.283531e-02</td>\n",
       "    </tr>\n",
       "    <tr>\n",
       "      <th>51</th>\n",
       "      <td>nb_extCSS</td>\n",
       "      <td>8.356663e-02</td>\n",
       "    </tr>\n",
       "    <tr>\n",
       "      <th>52</th>\n",
       "      <td>ratio_extHyperlinks</td>\n",
       "      <td>8.335725e-02</td>\n",
       "    </tr>\n",
       "    <tr>\n",
       "      <th>53</th>\n",
       "      <td>tld_in_path</td>\n",
       "      <td>7.914651e-02</td>\n",
       "    </tr>\n",
       "    <tr>\n",
       "      <th>54</th>\n",
       "      <td>shortest_word_path</td>\n",
       "      <td>7.436495e-02</td>\n",
       "    </tr>\n",
       "    <tr>\n",
       "      <th>55</th>\n",
       "      <td>nb_dslash</td>\n",
       "      <td>7.260234e-02</td>\n",
       "    </tr>\n",
       "    <tr>\n",
       "      <th>56</th>\n",
       "      <td>http_in_path</td>\n",
       "      <td>7.077624e-02</td>\n",
       "    </tr>\n",
       "    <tr>\n",
       "      <th>57</th>\n",
       "      <td>whois_registered_domain</td>\n",
       "      <td>6.697907e-02</td>\n",
       "    </tr>\n",
       "    <tr>\n",
       "      <th>58</th>\n",
       "      <td>brand_in_path</td>\n",
       "      <td>6.515575e-02</td>\n",
       "    </tr>\n",
       "    <tr>\n",
       "      <th>59</th>\n",
       "      <td>brand_in_subdomain</td>\n",
       "      <td>6.425702e-02</td>\n",
       "    </tr>\n",
       "    <tr>\n",
       "      <th>60</th>\n",
       "      <td>web_traffic</td>\n",
       "      <td>6.038772e-02</td>\n",
       "    </tr>\n",
       "    <tr>\n",
       "      <th>61</th>\n",
       "      <td>popup_window</td>\n",
       "      <td>5.760197e-02</td>\n",
       "    </tr>\n",
       "    <tr>\n",
       "      <th>62</th>\n",
       "      <td>nb_external_redirection</td>\n",
       "      <td>5.620994e-02</td>\n",
       "    </tr>\n",
       "    <tr>\n",
       "      <th>63</th>\n",
       "      <td>shortest_words_raw</td>\n",
       "      <td>3.936361e-02</td>\n",
       "    </tr>\n",
       "    <tr>\n",
       "      <th>64</th>\n",
       "      <td>nb_underscore</td>\n",
       "      <td>3.809134e-02</td>\n",
       "    </tr>\n",
       "    <tr>\n",
       "      <th>65</th>\n",
       "      <td>ratio_extErrors</td>\n",
       "      <td>3.470251e-02</td>\n",
       "    </tr>\n",
       "    <tr>\n",
       "      <th>66</th>\n",
       "      <td>nb_tilde</td>\n",
       "      <td>3.014233e-02</td>\n",
       "    </tr>\n",
       "    <tr>\n",
       "      <th>67</th>\n",
       "      <td>nb_percent</td>\n",
       "      <td>2.810129e-02</td>\n",
       "    </tr>\n",
       "    <tr>\n",
       "      <th>68</th>\n",
       "      <td>nb_star</td>\n",
       "      <td>2.646512e-02</td>\n",
       "    </tr>\n",
       "    <tr>\n",
       "      <th>69</th>\n",
       "      <td>nb_dollar</td>\n",
       "      <td>2.496206e-02</td>\n",
       "    </tr>\n",
       "    <tr>\n",
       "      <th>70</th>\n",
       "      <td>nb_redirection</td>\n",
       "      <td>2.440520e-02</td>\n",
       "    </tr>\n",
       "    <tr>\n",
       "      <th>71</th>\n",
       "      <td>random_domain</td>\n",
       "      <td>1.963062e-02</td>\n",
       "    </tr>\n",
       "    <tr>\n",
       "      <th>72</th>\n",
       "      <td>login_form</td>\n",
       "      <td>1.900010e-02</td>\n",
       "    </tr>\n",
       "    <tr>\n",
       "      <th>73</th>\n",
       "      <td>punycode</td>\n",
       "      <td>1.871039e-02</td>\n",
       "    </tr>\n",
       "    <tr>\n",
       "      <th>74</th>\n",
       "      <td>char_repeat</td>\n",
       "      <td>1.473217e-02</td>\n",
       "    </tr>\n",
       "    <tr>\n",
       "      <th>75</th>\n",
       "      <td>iframe</td>\n",
       "      <td>1.208332e-02</td>\n",
       "    </tr>\n",
       "    <tr>\n",
       "      <th>76</th>\n",
       "      <td>nb_comma</td>\n",
       "      <td>1.186465e-02</td>\n",
       "    </tr>\n",
       "    <tr>\n",
       "      <th>77</th>\n",
       "      <td>port</td>\n",
       "      <td>9.011116e-03</td>\n",
       "    </tr>\n",
       "    <tr>\n",
       "      <th>78</th>\n",
       "      <td>onmouseover</td>\n",
       "      <td>7.787061e-03</td>\n",
       "    </tr>\n",
       "    <tr>\n",
       "      <th>79</th>\n",
       "      <td>right_clic</td>\n",
       "      <td>4.680056e-03</td>\n",
       "    </tr>\n",
       "    <tr>\n",
       "      <th>80</th>\n",
       "      <td>nb_space</td>\n",
       "      <td>4.193222e-03</td>\n",
       "    </tr>\n",
       "    <tr>\n",
       "      <th>81</th>\n",
       "      <td>path_extension</td>\n",
       "      <td>5.592660e-17</td>\n",
       "    </tr>\n",
       "    <tr>\n",
       "      <th>82</th>\n",
       "      <td>nb_or</td>\n",
       "      <td>NaN</td>\n",
       "    </tr>\n",
       "    <tr>\n",
       "      <th>83</th>\n",
       "      <td>ratio_nullHyperlinks</td>\n",
       "      <td>NaN</td>\n",
       "    </tr>\n",
       "    <tr>\n",
       "      <th>84</th>\n",
       "      <td>ratio_intRedirection</td>\n",
       "      <td>NaN</td>\n",
       "    </tr>\n",
       "    <tr>\n",
       "      <th>85</th>\n",
       "      <td>ratio_intErrors</td>\n",
       "      <td>NaN</td>\n",
       "    </tr>\n",
       "    <tr>\n",
       "      <th>86</th>\n",
       "      <td>submit_email</td>\n",
       "      <td>NaN</td>\n",
       "    </tr>\n",
       "    <tr>\n",
       "      <th>87</th>\n",
       "      <td>sfh</td>\n",
       "      <td>NaN</td>\n",
       "    </tr>\n",
       "  </tbody>\n",
       "</table>\n",
       "</div>"
      ],
      "text/plain": [
       "                           Col   Correlation\n",
       "0                       status  1.000000e+00\n",
       "1                 google_index  7.311708e-01\n",
       "2                    page_rank  5.111371e-01\n",
       "3                       nb_www  4.434677e-01\n",
       "4             ratio_digits_url  3.563946e-01\n",
       "5              domain_in_title  3.428070e-01\n",
       "6                nb_hyperlinks  3.426283e-01\n",
       "7                  phish_hints  3.353927e-01\n",
       "8                   domain_age  3.318891e-01\n",
       "9                           ip  3.216978e-01\n",
       "10                       nb_qm  2.943191e-01\n",
       "11                  length_url  2.485805e-01\n",
       "12         ratio_intHyperlinks  2.439821e-01\n",
       "13                    nb_slash  2.422700e-01\n",
       "14             length_hostname  2.383224e-01\n",
       "15                       nb_eq  2.333863e-01\n",
       "16           ratio_digits_host  2.243349e-01\n",
       "17          shortest_word_host  2.230840e-01\n",
       "18               prefix_suffix  2.146807e-01\n",
       "19           longest_word_path  2.127091e-01\n",
       "20            tld_in_subdomain  2.088842e-01\n",
       "21                 empty_title  2.070428e-01\n",
       "22                     nb_dots  2.070288e-01\n",
       "23           longest_words_raw  2.001466e-01\n",
       "24               avg_word_path  1.972561e-01\n",
       "25               avg_word_host  1.935017e-01\n",
       "26              ratio_intMedia  1.933331e-01\n",
       "27            length_words_raw  1.920105e-01\n",
       "28               links_in_tags  1.844011e-01\n",
       "29                 safe_anchor  1.733973e-01\n",
       "30       domain_with_copyright  1.730985e-01\n",
       "31                      nb_and  1.705464e-01\n",
       "32               avg_words_raw  1.675637e-01\n",
       "33  domain_registration_length  1.617188e-01\n",
       "34                      nb_com  1.562835e-01\n",
       "35        ratio_extRedirection  1.508267e-01\n",
       "36            external_favicon  1.465654e-01\n",
       "37          statistical_report  1.439435e-01\n",
       "38                       nb_at  1.429146e-01\n",
       "39              ratio_extMedia  1.404059e-01\n",
       "40          abnormal_subdomain  1.281598e-01\n",
       "41           longest_word_host  1.245156e-01\n",
       "42                  dns_record  1.221190e-01\n",
       "43                 https_token  1.146691e-01\n",
       "44               nb_subdomains  1.128907e-01\n",
       "45              suspecious_tld  1.100896e-01\n",
       "46          shortening_service  1.061200e-01\n",
       "47               nb_semicolumn  1.035541e-01\n",
       "48                  nb_hyphens  1.001075e-01\n",
       "49             domain_in_brand  9.822216e-02\n",
       "50                    nb_colon  9.283531e-02\n",
       "51                   nb_extCSS  8.356663e-02\n",
       "52         ratio_extHyperlinks  8.335725e-02\n",
       "53                 tld_in_path  7.914651e-02\n",
       "54          shortest_word_path  7.436495e-02\n",
       "55                   nb_dslash  7.260234e-02\n",
       "56                http_in_path  7.077624e-02\n",
       "57     whois_registered_domain  6.697907e-02\n",
       "58               brand_in_path  6.515575e-02\n",
       "59          brand_in_subdomain  6.425702e-02\n",
       "60                 web_traffic  6.038772e-02\n",
       "61                popup_window  5.760197e-02\n",
       "62     nb_external_redirection  5.620994e-02\n",
       "63          shortest_words_raw  3.936361e-02\n",
       "64               nb_underscore  3.809134e-02\n",
       "65             ratio_extErrors  3.470251e-02\n",
       "66                    nb_tilde  3.014233e-02\n",
       "67                  nb_percent  2.810129e-02\n",
       "68                     nb_star  2.646512e-02\n",
       "69                   nb_dollar  2.496206e-02\n",
       "70              nb_redirection  2.440520e-02\n",
       "71               random_domain  1.963062e-02\n",
       "72                  login_form  1.900010e-02\n",
       "73                    punycode  1.871039e-02\n",
       "74                 char_repeat  1.473217e-02\n",
       "75                      iframe  1.208332e-02\n",
       "76                    nb_comma  1.186465e-02\n",
       "77                        port  9.011116e-03\n",
       "78                 onmouseover  7.787061e-03\n",
       "79                  right_clic  4.680056e-03\n",
       "80                    nb_space  4.193222e-03\n",
       "81              path_extension  5.592660e-17\n",
       "82                       nb_or           NaN\n",
       "83        ratio_nullHyperlinks           NaN\n",
       "84        ratio_intRedirection           NaN\n",
       "85             ratio_intErrors           NaN\n",
       "86                submit_email           NaN\n",
       "87                         sfh           NaN"
      ]
     },
     "execution_count": 7,
     "metadata": {},
     "output_type": "execute_result"
    }
   ],
   "source": [
    "##print(df.corr()['Result'].sort_values())\n",
    "## correlation values of features with target label\n",
    "corr_col = abs(df.corr()['status']).sort_values(ascending=False)\n",
    "corr_col = corr_col.rename_axis('Col').reset_index(name='Correlation')\n",
    "corr_col"
   ]
  },
  {
   "cell_type": "code",
   "execution_count": 8,
   "metadata": {},
   "outputs": [],
   "source": [
    "def correlation (corr_col, threshold):\n",
    "\tcorr_feature = set()\n",
    "\tfor index, row in corr_col.iterrows():\n",
    "\t\tif row['Correlation'] < threshold or np.isnan(row['Correlation']):\n",
    "\t\t\tcorr_feature.add(row['Col'])\n",
    "\treturn corr_feature"
   ]
  },
  {
   "cell_type": "code",
   "execution_count": 9,
   "metadata": {},
   "outputs": [
    {
     "data": {
      "text/plain": [
       "25"
      ]
     },
     "execution_count": 9,
     "metadata": {},
     "output_type": "execute_result"
    }
   ],
   "source": [
    "corr_feature = correlation(corr_col,.04)\n",
    "len(set(corr_feature))\n"
   ]
  },
  {
   "cell_type": "code",
   "execution_count": 10,
   "metadata": {},
   "outputs": [
    {
     "data": {
      "text/plain": [
       "{'char_repeat',\n",
       " 'iframe',\n",
       " 'login_form',\n",
       " 'nb_comma',\n",
       " 'nb_dollar',\n",
       " 'nb_or',\n",
       " 'nb_percent',\n",
       " 'nb_redirection',\n",
       " 'nb_space',\n",
       " 'nb_star',\n",
       " 'nb_tilde',\n",
       " 'nb_underscore',\n",
       " 'onmouseover',\n",
       " 'path_extension',\n",
       " 'port',\n",
       " 'punycode',\n",
       " 'random_domain',\n",
       " 'ratio_extErrors',\n",
       " 'ratio_intErrors',\n",
       " 'ratio_intRedirection',\n",
       " 'ratio_nullHyperlinks',\n",
       " 'right_clic',\n",
       " 'sfh',\n",
       " 'shortest_words_raw',\n",
       " 'submit_email'}"
      ]
     },
     "execution_count": 10,
     "metadata": {},
     "output_type": "execute_result"
    }
   ],
   "source": [
    "corr_feature\n"
   ]
  },
  {
   "cell_type": "code",
   "execution_count": 11,
   "metadata": {},
   "outputs": [],
   "source": [
    "df.drop(corr_feature, axis=1, inplace=True)"
   ]
  },
  {
   "cell_type": "code",
   "execution_count": 12,
   "metadata": {},
   "outputs": [
    {
     "data": {
      "text/plain": [
       "63"
      ]
     },
     "execution_count": 12,
     "metadata": {},
     "output_type": "execute_result"
    }
   ],
   "source": [
    "len(df.columns)\n"
   ]
  },
  {
   "cell_type": "code",
   "execution_count": 13,
   "metadata": {},
   "outputs": [],
   "source": [
    "#df.head()"
   ]
  },
  {
   "cell_type": "code",
   "execution_count": 14,
   "metadata": {},
   "outputs": [],
   "source": [
    "a=len(df[df.status==0])\n",
    "b=len(df[df.status==1])\n"
   ]
  },
  {
   "cell_type": "code",
   "execution_count": 15,
   "metadata": {},
   "outputs": [
    {
     "name": "stdout",
     "output_type": "stream",
     "text": [
      "Count of Legitimate Websites =  5715\n",
      "Count of Phishy Websites =  5715\n"
     ]
    }
   ],
   "source": [
    "print(\"Count of Legitimate Websites = \", a)\n",
    "print(\"Count of Phishy Websites = \", b)"
   ]
  },
  {
   "cell_type": "code",
   "execution_count": 16,
   "metadata": {},
   "outputs": [],
   "source": [
    "X = df.drop(['status'], axis=1, inplace=False)\n",
    "#X.head()\n",
    "#same work\n",
    "##inplace true modifies the og data & does not return anything\n",
    "##inplace false does not modify og data but returns something whoch we store in a var\n",
    "# X= df.drop(columns='Result')\n",
    "# X.head()"
   ]
  },
  {
   "cell_type": "code",
   "execution_count": 18,
   "metadata": {},
   "outputs": [],
   "source": [
    "#df.head()"
   ]
  },
  {
   "cell_type": "code",
   "execution_count": 19,
   "metadata": {},
   "outputs": [
    {
     "data": {
      "text/html": [
       "<div>\n",
       "<style scoped>\n",
       "    .dataframe tbody tr th:only-of-type {\n",
       "        vertical-align: middle;\n",
       "    }\n",
       "\n",
       "    .dataframe tbody tr th {\n",
       "        vertical-align: top;\n",
       "    }\n",
       "\n",
       "    .dataframe thead th {\n",
       "        text-align: right;\n",
       "    }\n",
       "</style>\n",
       "<table border=\"1\" class=\"dataframe\">\n",
       "  <thead>\n",
       "    <tr style=\"text-align: right;\">\n",
       "      <th></th>\n",
       "      <th>status</th>\n",
       "    </tr>\n",
       "  </thead>\n",
       "  <tbody>\n",
       "    <tr>\n",
       "      <th>0</th>\n",
       "      <td>0</td>\n",
       "    </tr>\n",
       "    <tr>\n",
       "      <th>1</th>\n",
       "      <td>1</td>\n",
       "    </tr>\n",
       "    <tr>\n",
       "      <th>2</th>\n",
       "      <td>1</td>\n",
       "    </tr>\n",
       "    <tr>\n",
       "      <th>3</th>\n",
       "      <td>0</td>\n",
       "    </tr>\n",
       "    <tr>\n",
       "      <th>4</th>\n",
       "      <td>0</td>\n",
       "    </tr>\n",
       "  </tbody>\n",
       "</table>\n",
       "</div>"
      ],
      "text/plain": [
       "   status\n",
       "0       0\n",
       "1       1\n",
       "2       1\n",
       "3       0\n",
       "4       0"
      ]
     },
     "execution_count": 19,
     "metadata": {},
     "output_type": "execute_result"
    }
   ],
   "source": [
    "y = df['status']\n",
    "y = pd.DataFrame(y)\n",
    "y.head()"
   ]
  },
  {
   "cell_type": "code",
   "execution_count": 20,
   "metadata": {},
   "outputs": [
    {
     "data": {
      "text/plain": [
       "((8001, 1), (3429, 1), (8001, 1), (3429, 1))"
      ]
     },
     "execution_count": 20,
     "metadata": {},
     "output_type": "execute_result"
    }
   ],
   "source": [
    "# separate dataset into train and test\n",
    "from cProfile import label\n",
    "from sklearn.model_selection import train_test_split\n",
    "X_train, X_test, y_train, y_test = train_test_split(\n",
    "    X,\n",
    "    y,\n",
    "    test_size=0.3,\n",
    "    random_state=10)\n",
    "\n",
    "X_train.shape, X_test.shape, y_train.shape, y_test.shape"
   ]
  },
  {
   "cell_type": "code",
   "execution_count": 21,
   "metadata": {},
   "outputs": [],
   "source": [
    "#X_test.head()"
   ]
  },
  {
   "cell_type": "code",
   "execution_count": 22,
   "metadata": {},
   "outputs": [
    {
     "name": "stdout",
     "output_type": "stream",
     "text": [
      "Training set has 8001 samples.\n",
      "Testing set has 3429 samples.\n"
     ]
    }
   ],
   "source": [
    "print(\"Training set has {} samples.\".format(X_train.shape[0]))\n",
    "print(\"Testing set has {} samples.\".format(X_test.shape[0]))"
   ]
  },
  {
   "cell_type": "code",
   "execution_count": 23,
   "metadata": {},
   "outputs": [],
   "source": [
    "from sklearn.preprocessing import MinMaxScaler\n",
    "\n",
    "scaler= MinMaxScaler()\n",
    "\n",
    "col_X_train = [X_train.columns[:]]\n",
    "\n",
    "for c in col_X_train:\n",
    "    X_train[c]= scaler.fit_transform(X_train[c])\n",
    "\n",
    "#X_train.head(5)"
   ]
  },
  {
   "cell_type": "code",
   "execution_count": 24,
   "metadata": {},
   "outputs": [],
   "source": [
    "col_X_test = [X_test.columns[:]]\n",
    "\n",
    "for c in col_X_test:\n",
    "    X_test[c]= scaler.transform(X_test[c])\n",
    "\n",
    "#X_test.head(5)"
   ]
  },
  {
   "cell_type": "code",
   "execution_count": 25,
   "metadata": {},
   "outputs": [
    {
     "name": "stdout",
     "output_type": "stream",
     "text": [
      "Fitting 10 folds for each of 15 candidates, totalling 150 fits\n",
      "{'C': 10, 'max_iter': 2500, 'penalty': 'l2', 'solver': 'lbfgs'}\n",
      "LogisticRegression(C=10, max_iter=2500)\n",
      "0.8661427902621721\n"
     ]
    }
   ],
   "source": [
    "from sklearn.model_selection import GridSearchCV\n",
    "from sklearn.linear_model import LogisticRegression\n",
    "\n",
    "# defining parameter range\n",
    "param_grid = {'penalty' : ['l2'],\n",
    "            'C' : [10, 20, 30], #0.1, 1, 10, 20, \n",
    "            'solver' : ['lbfgs','newton-cg','liblinear','sag','saga'],\n",
    "            'max_iter' : [2500]} #5000\n",
    "\n",
    "grid_logr = GridSearchCV(LogisticRegression(), param_grid, refit = True, cv = 10, verbose = 3, n_jobs = -1)\n",
    "\n",
    "# fitting the model for grid search\n",
    "grid_logr.fit(X_train, y_train.values.ravel())\n",
    "\n",
    "# print best parameter after tuning\n",
    "print(grid_logr.best_params_)\n",
    "\n",
    "# print how our model looks after hyper-parameter tuning\n",
    "print(grid_logr.best_estimator_)\n",
    "print(grid_logr.best_score_)"
   ]
  },
  {
   "cell_type": "code",
   "execution_count": 26,
   "metadata": {},
   "outputs": [],
   "source": [
    "logr_model = grid_logr.best_estimator_\n",
    "\n",
    "# Performing training\n",
    "#logr_model = logr.fit(X_train, y_train.values.ravel())"
   ]
  },
  {
   "cell_type": "code",
   "execution_count": 27,
   "metadata": {},
   "outputs": [],
   "source": [
    "logr_predict  =  logr_model.predict(X_test)"
   ]
  },
  {
   "cell_type": "code",
   "execution_count": 28,
   "metadata": {},
   "outputs": [],
   "source": [
    "# from sklearn.metrics import confusion_matrix,accuracy_score\n",
    "# cm = confusion_matrix(y_test, dct_pred)\n",
    "# ac = accuracy_score(y_test, dct_pred)"
   ]
  },
  {
   "cell_type": "code",
   "execution_count": 29,
   "metadata": {},
   "outputs": [
    {
     "name": "stdout",
     "output_type": "stream",
     "text": [
      "Accuracy of logr classifier :  86.14756488772237\n"
     ]
    }
   ],
   "source": [
    "print (\"Accuracy of logr classifier : \", accuracy_score(y_test, logr_predict)*100)"
   ]
  },
  {
   "cell_type": "code",
   "execution_count": 30,
   "metadata": {},
   "outputs": [
    {
     "name": "stdout",
     "output_type": "stream",
     "text": [
      "              precision    recall  f1-score   support\n",
      "\n",
      "           0       0.88      0.84      0.86      1733\n",
      "           1       0.85      0.88      0.86      1696\n",
      "\n",
      "    accuracy                           0.86      3429\n",
      "   macro avg       0.86      0.86      0.86      3429\n",
      "weighted avg       0.86      0.86      0.86      3429\n",
      "\n"
     ]
    }
   ],
   "source": [
    "print(classification_report(y_test, logr_predict))"
   ]
  },
  {
   "cell_type": "code",
   "execution_count": 31,
   "metadata": {},
   "outputs": [
    {
     "data": {
      "image/png": "[encoded data removed]",
      "text/plain": [
       "<Figure size 640x480 with 2 Axes>"
      ]
     },
     "metadata": {},
     "output_type": "display_data"
    }
   ],
   "source": [
    "sns.heatmap(confusion_matrix(y_test, logr_predict), annot=True, fmt='g', cmap='Blues')\n",
    "plt.title(\"LogisticRegression\")\n",
    "plt.xlabel('Predicted Class')\n",
    "plt.ylabel('Original Class')\n",
    "plt.show()"
   ]
  },
  {
   "cell_type": "code",
   "execution_count": 32,
   "metadata": {},
   "outputs": [],
   "source": [
    "# from sklearn.neighbors import KNeighborsClassifier\n",
    "\n",
    "# #training_accuracy=[]\n",
    "# test_accuracy=[]\n",
    "\n",
    "# neighbors=range(1,10)\n",
    "# ##values.ravel() converts vector y to flattened array\n",
    "# for i in neighbors:\n",
    "#     knn=KNeighborsClassifier(n_neighbors=i)\n",
    "#     knn_model = knn.fit(X_train,y_train.values.ravel())\n",
    "#     #training_accuracy.append(knn.score(X_train,y_train.values.ravel()))\n",
    "#     test_accuracy.append(knn_model.score(X_test,y_test.values.ravel()))"
   ]
  },
  {
   "cell_type": "code",
   "execution_count": 33,
   "metadata": {},
   "outputs": [],
   "source": [
    "# plt.plot(neighbors,test_accuracy,label=\"test accuracy\")\n",
    "# plt.ylabel(\"Accuracy\")\n",
    "# plt.xlabel(\"number of neighbors\")\n",
    "# plt.legend()\n",
    "# plt.show()"
   ]
  },
  {
   "cell_type": "code",
   "execution_count": 34,
   "metadata": {},
   "outputs": [
    {
     "name": "stdout",
     "output_type": "stream",
     "text": [
      "Fitting 10 folds for each of 10 candidates, totalling 100 fits\n",
      "{'n_neighbors': 6}\n",
      "KNeighborsClassifier(n_neighbors=6)\n",
      "0.8661427902621721\n"
     ]
    }
   ],
   "source": [
    "from sklearn.neighbors import KNeighborsClassifier\n",
    "\n",
    "# defining parameter range\n",
    "param_grid = {'n_neighbors': [1,2,3,4,5,6,7,8,9,10]}\n",
    "\n",
    "grid_knn = GridSearchCV(KNeighborsClassifier(), param_grid, refit = True, cv = 10, verbose = 3, n_jobs = -1)\n",
    "\n",
    "# fitting the model for grid search\n",
    "grid_knn.fit(X_train, y_train.values.ravel())\n",
    "\n",
    "# print best parameter after tuning\n",
    "print(grid_knn.best_params_)\n",
    "\n",
    "# print how our model looks after hyper-parameter tuning\n",
    "print(grid_knn.best_estimator_)\n",
    "print(grid_knn.best_score_)"
   ]
  },
  {
   "cell_type": "code",
   "execution_count": 35,
   "metadata": {},
   "outputs": [],
   "source": [
    "knn_model = grid_knn.best_estimator_\n",
    "#knn_model = knn.fit(X_train,y_train.values.ravel())"
   ]
  },
  {
   "cell_type": "code",
   "execution_count": 36,
   "metadata": {},
   "outputs": [],
   "source": [
    "#print (\"Accuracy of knn classifier: \", max(test_accuracy)*100)\n",
    "knn_predict = knn_model.predict(X_test)"
   ]
  },
  {
   "cell_type": "code",
   "execution_count": 37,
   "metadata": {},
   "outputs": [
    {
     "name": "stdout",
     "output_type": "stream",
     "text": [
      "The accuracy of knn Classifier is:  86.14756488772237\n"
     ]
    }
   ],
   "source": [
    "print('The accuracy of knn Classifier is: ', 100.0 * accuracy_score(y_test, knn_predict))"
   ]
  },
  {
   "cell_type": "code",
   "execution_count": 38,
   "metadata": {},
   "outputs": [
    {
     "name": "stdout",
     "output_type": "stream",
     "text": [
      "              precision    recall  f1-score   support\n",
      "\n",
      "           0       0.88      0.84      0.86      1733\n",
      "           1       0.85      0.88      0.86      1696\n",
      "\n",
      "    accuracy                           0.86      3429\n",
      "   macro avg       0.86      0.86      0.86      3429\n",
      "weighted avg       0.86      0.86      0.86      3429\n",
      "\n"
     ]
    }
   ],
   "source": [
    "print(classification_report(y_test, knn_predict))"
   ]
  },
  {
   "cell_type": "code",
   "execution_count": 39,
   "metadata": {},
   "outputs": [
    {
     "data": {
      "image/png": "[encoded data removed]",
      "text/plain": [
       "<Figure size 640x480 with 2 Axes>"
      ]
     },
     "metadata": {},
     "output_type": "display_data"
    }
   ],
   "source": [
    "sns.heatmap(confusion_matrix(y_test, knn_predict), annot=True, fmt='g', cmap='Blues')\n",
    "plt.title(\"KNeighborsClassifier\")\n",
    "plt.xlabel('Predicted Class')\n",
    "plt.ylabel('Original Class')\n",
    "plt.show()"
   ]
  },
  {
   "cell_type": "code",
   "execution_count": 40,
   "metadata": {},
   "outputs": [],
   "source": [
    "# # here is the change\n",
    "# knn_y_pred_proba = knn.predict_proba(X_test)\n",
    "# knn_y_pred_proba_positive = knn_y_pred_proba[:, 1] \n",
    "\n",
    "# RocCurveDisplay.from_predictions(y_test,knn_y_pred_proba_positive)\n",
    "\n",
    "# fig, ax = plt.subplots()\n",
    "# RocCurveDisplay.from_estimator(\n",
    "#    logreg, X_test, y_test, ax = ax)\n",
    "\n",
    "# logreg_y_decision = logreg.decision_function(X_test)\n",
    "# metrics.RocCurveDisplay.from_predictions(y_test,logreg_y_decision,ax=ax,name=\"logreg predictions\")"
   ]
  },
  {
   "cell_type": "code",
   "execution_count": 41,
   "metadata": {},
   "outputs": [
    {
     "name": "stdout",
     "output_type": "stream",
     "text": [
      "Fitting 10 folds for each of 4 candidates, totalling 40 fits\n",
      "{'C': 1, 'gamma': 1, 'kernel': 'rbf'}\n",
      "SVC(C=1, gamma=1)\n",
      "0.8661427902621721\n"
     ]
    }
   ],
   "source": [
    "from sklearn.svm import SVC\n",
    "\n",
    "# defining parameter range\n",
    "param_grid = {'C': [1, 10],  #0.1, 1, 10\n",
    "\t\t\t'gamma': [1, 0.1], #\n",
    "\t\t\t'kernel': ['rbf']}   #'linear','poly', 'rbf', 'sigmoid'\n",
    "\n",
    "grid_svc = GridSearchCV(SVC(), param_grid, refit = True, cv = 10, verbose = 3, n_jobs = -1)\n",
    "\n",
    "# fitting the model for grid search\n",
    "grid_svc.fit(X_train, y_train.values.ravel())\n",
    "\n",
    "# print best parameter after tuning\n",
    "print(grid_svc.best_params_)\n",
    "\n",
    "# print how our model looks after hyper-parameter tuning\n",
    "print(grid_svc.best_estimator_)\n",
    "print(grid_svc.best_score_)"
   ]
  },
  {
   "cell_type": "code",
   "execution_count": 42,
   "metadata": {},
   "outputs": [],
   "source": [
    "svc_model = grid_svc.best_estimator_\n",
    "#svc_model = svc.fit(X_train,y_train.values.ravel())"
   ]
  },
  {
   "cell_type": "code",
   "execution_count": 43,
   "metadata": {},
   "outputs": [],
   "source": [
    "svc_predict = svc_model.predict(X_test)"
   ]
  },
  {
   "cell_type": "code",
   "execution_count": 44,
   "metadata": {},
   "outputs": [
    {
     "name": "stdout",
     "output_type": "stream",
     "text": [
      "The accuracy of svc Classifier is:  86.14756488772237\n"
     ]
    }
   ],
   "source": [
    "print('The accuracy of svc Classifier is: ', 100.0 * accuracy_score(y_test, svc_predict))"
   ]
  },
  {
   "cell_type": "code",
   "execution_count": 45,
   "metadata": {},
   "outputs": [
    {
     "name": "stdout",
     "output_type": "stream",
     "text": [
      "              precision    recall  f1-score   support\n",
      "\n",
      "           0       0.88      0.84      0.86      1733\n",
      "           1       0.85      0.88      0.86      1696\n",
      "\n",
      "    accuracy                           0.86      3429\n",
      "   macro avg       0.86      0.86      0.86      3429\n",
      "weighted avg       0.86      0.86      0.86      3429\n",
      "\n"
     ]
    }
   ],
   "source": [
    "print(classification_report(y_test, svc_predict))"
   ]
  },
  {
   "cell_type": "code",
   "execution_count": 46,
   "metadata": {},
   "outputs": [
    {
     "data": {
      "image/png": "[encoded data removed]",
      "text/plain": [
       "<Figure size 640x480 with 2 Axes>"
      ]
     },
     "metadata": {},
     "output_type": "display_data"
    }
   ],
   "source": [
    "sns.heatmap(confusion_matrix(y_test, svc_predict), annot=True, fmt='g', cmap='Blues')\n",
    "plt.title(\"SVC\")\n",
    "plt.xlabel('Predicted Class')\n",
    "plt.ylabel('Original Class')\n",
    "plt.show()"
   ]
  },
  {
   "cell_type": "code",
   "execution_count": 47,
   "metadata": {},
   "outputs": [
    {
     "name": "stdout",
     "output_type": "stream",
     "text": [
      "Fitting 10 folds for each of 2 candidates, totalling 20 fits\n"
     ]
    },
    {
     "name": "stderr",
     "output_type": "stream",
     "text": [
      "C:\\Users\\Asus\\AppData\\Local\\Packages\\PythonSoftwareFoundation.Python.3.10_qbz5n2kfra8p0\\LocalCache\\local-packages\\Python310\\site-packages\\sklearn\\model_selection\\_validation.py:378: FitFailedWarning: \n",
      "18 fits failed out of a total of 20.\n",
      "The score on these train-test partitions for these parameters will be set to nan.\n",
      "If these failures are not expected, you can try to debug them by setting error_score='raise'.\n",
      "\n",
      "Below are more details about the failures:\n",
      "--------------------------------------------------------------------------------\n",
      "18 fits failed with the following error:\n",
      "Traceback (most recent call last):\n",
      "  File \"C:\\Users\\Asus\\AppData\\Local\\Packages\\PythonSoftwareFoundation.Python.3.10_qbz5n2kfra8p0\\LocalCache\\local-packages\\Python310\\site-packages\\sklearn\\model_selection\\_validation.py\", line 686, in _fit_and_score\n",
      "    estimator.fit(X_train, y_train, **fit_params)\n",
      "  File \"C:\\Users\\Asus\\AppData\\Local\\Packages\\PythonSoftwareFoundation.Python.3.10_qbz5n2kfra8p0\\LocalCache\\local-packages\\Python310\\site-packages\\sklearn\\svm\\_base.py\", line 269, in fit\n",
      "    raise ValueError(\n",
      "ValueError: The dual coefficients or intercepts are not finite. The input data may contain large values and need to bepreprocessed.\n",
      "\n",
      "  warnings.warn(some_fits_failed_message, FitFailedWarning)\n",
      "C:\\Users\\Asus\\AppData\\Local\\Packages\\PythonSoftwareFoundation.Python.3.10_qbz5n2kfra8p0\\LocalCache\\local-packages\\Python310\\site-packages\\sklearn\\model_selection\\_search.py:953: UserWarning: One or more of the test scores are non-finite: [nan nan]\n",
      "  warnings.warn(\n"
     ]
    },
    {
     "ename": "ValueError",
     "evalue": "The dual coefficients or intercepts are not finite. The input data may contain large values and need to bepreprocessed.",
     "output_type": "error",
     "traceback": [
      "\u001b[1;31m---------------------------------------------------------------------------\u001b[0m",
      "\u001b[1;31mValueError\u001b[0m                                Traceback (most recent call last)",
      "Cell \u001b[1;32mIn [47], line 11\u001b[0m\n\u001b[0;32m      8\u001b[0m grid_nusvc \u001b[39m=\u001b[39m GridSearchCV(NuSVC(), param_grid, refit \u001b[39m=\u001b[39m \u001b[39mTrue\u001b[39;00m, verbose \u001b[39m=\u001b[39m \u001b[39m3\u001b[39m, cv \u001b[39m=\u001b[39m \u001b[39m10\u001b[39m, n_jobs \u001b[39m=\u001b[39m \u001b[39m-\u001b[39m\u001b[39m1\u001b[39m)\n\u001b[0;32m     10\u001b[0m \u001b[39m# fitting the model for grid search\u001b[39;00m\n\u001b[1;32m---> 11\u001b[0m grid_nusvc\u001b[39m.\u001b[39;49mfit(X_train, y_train\u001b[39m.\u001b[39;49mvalues\u001b[39m.\u001b[39;49mravel())\n\u001b[0;32m     13\u001b[0m \u001b[39m# print best parameter after tuning\u001b[39;00m\n\u001b[0;32m     14\u001b[0m \u001b[39mprint\u001b[39m(grid_nusvc\u001b[39m.\u001b[39mbest_params_)\n",
      "File \u001b[1;32m~\\AppData\\Local\\Packages\\PythonSoftwareFoundation.Python.3.10_qbz5n2kfra8p0\\LocalCache\\local-packages\\Python310\\site-packages\\sklearn\\model_selection\\_search.py:910\u001b[0m, in \u001b[0;36mBaseSearchCV.fit\u001b[1;34m(self, X, y, groups, **fit_params)\u001b[0m\n\u001b[0;32m    908\u001b[0m refit_start_time \u001b[39m=\u001b[39m time\u001b[39m.\u001b[39mtime()\n\u001b[0;32m    909\u001b[0m \u001b[39mif\u001b[39;00m y \u001b[39mis\u001b[39;00m \u001b[39mnot\u001b[39;00m \u001b[39mNone\u001b[39;00m:\n\u001b[1;32m--> 910\u001b[0m     \u001b[39mself\u001b[39m\u001b[39m.\u001b[39mbest_estimator_\u001b[39m.\u001b[39mfit(X, y, \u001b[39m*\u001b[39m\u001b[39m*\u001b[39mfit_params)\n\u001b[0;32m    911\u001b[0m \u001b[39melse\u001b[39;00m:\n\u001b[0;32m    912\u001b[0m     \u001b[39mself\u001b[39m\u001b[39m.\u001b[39mbest_estimator_\u001b[39m.\u001b[39mfit(X, \u001b[39m*\u001b[39m\u001b[39m*\u001b[39mfit_params)\n",
      "File \u001b[1;32m~\\AppData\\Local\\Packages\\PythonSoftwareFoundation.Python.3.10_qbz5n2kfra8p0\\LocalCache\\local-packages\\Python310\\site-packages\\sklearn\\svm\\_base.py:269\u001b[0m, in \u001b[0;36mBaseLibSVM.fit\u001b[1;34m(self, X, y, sample_weight)\u001b[0m\n\u001b[0;32m    267\u001b[0m dual_coef_finiteness \u001b[39m=\u001b[39m np\u001b[39m.\u001b[39misfinite(dual_coef)\u001b[39m.\u001b[39mall()\n\u001b[0;32m    268\u001b[0m \u001b[39mif\u001b[39;00m \u001b[39mnot\u001b[39;00m (intercept_finiteness \u001b[39mand\u001b[39;00m dual_coef_finiteness):\n\u001b[1;32m--> 269\u001b[0m     \u001b[39mraise\u001b[39;00m \u001b[39mValueError\u001b[39;00m(\n\u001b[0;32m    270\u001b[0m         \u001b[39m\"\u001b[39m\u001b[39mThe dual coefficients or intercepts are not finite. \u001b[39m\u001b[39m\"\u001b[39m\n\u001b[0;32m    271\u001b[0m         \u001b[39m\"\u001b[39m\u001b[39mThe input data may contain large values and need to be\u001b[39m\u001b[39m\"\u001b[39m\n\u001b[0;32m    272\u001b[0m         \u001b[39m\"\u001b[39m\u001b[39mpreprocessed.\u001b[39m\u001b[39m\"\u001b[39m\n\u001b[0;32m    273\u001b[0m     )\n\u001b[0;32m    275\u001b[0m \u001b[39m# Since, in the case of SVC and NuSVC, the number of models optimized by\u001b[39;00m\n\u001b[0;32m    276\u001b[0m \u001b[39m# libSVM could be greater than one (depending on the input), `n_iter_`\u001b[39;00m\n\u001b[0;32m    277\u001b[0m \u001b[39m# stores an ndarray.\u001b[39;00m\n\u001b[0;32m    278\u001b[0m \u001b[39m# For the other sub-classes (SVR, NuSVR, and OneClassSVM), the number of\u001b[39;00m\n\u001b[0;32m    279\u001b[0m \u001b[39m# models optimized by libSVM is always one, so `n_iter_` stores an\u001b[39;00m\n\u001b[0;32m    280\u001b[0m \u001b[39m# integer.\u001b[39;00m\n\u001b[0;32m    281\u001b[0m \u001b[39mif\u001b[39;00m \u001b[39mself\u001b[39m\u001b[39m.\u001b[39m_impl \u001b[39min\u001b[39;00m [\u001b[39m\"\u001b[39m\u001b[39mc_svc\u001b[39m\u001b[39m\"\u001b[39m, \u001b[39m\"\u001b[39m\u001b[39mnu_svc\u001b[39m\u001b[39m\"\u001b[39m]:\n",
      "\u001b[1;31mValueError\u001b[0m: The dual coefficients or intercepts are not finite. The input data may contain large values and need to bepreprocessed."
     ]
    }
   ],
   "source": [
    "from sklearn.svm import NuSVC\n",
    "\n",
    "# defining parameter range\n",
    "param_grid = {'nu': [0.1], #.5\n",
    "\t\t\t'gamma': [.1,1],  #1,.01\n",
    "\t\t\t'kernel': ['rbf']} #'linear','poly', 'rbf', 'sigmoid'\n",
    "\n",
    "grid_nusvc = GridSearchCV(NuSVC(), param_grid, refit = True, verbose = 3, cv = 10, n_jobs = -1)\n",
    "\n",
    "# fitting the model for grid search\n",
    "grid_nusvc.fit(X_train, y_train.values.ravel())\n",
    "\n",
    "# print best parameter after tuning\n",
    "print(grid_nusvc.best_params_)\n",
    "\n",
    "# print how our model looks after hyper-parameter tuning\n",
    "print(grid_nusvc.best_estimator_)\n",
    "print(grid_nusvc.best_score_)"
   ]
  },
  {
   "cell_type": "code",
   "execution_count": null,
   "metadata": {},
   "outputs": [],
   "source": [
    "nusvc_model = grid_nusvc.best_estimator_\n",
    "#nusvc_model = nusvc.fit(X_train, y_train.values.ravel())\n"
   ]
  },
  {
   "cell_type": "code",
   "execution_count": null,
   "metadata": {},
   "outputs": [],
   "source": [
    "nusvc_predict = nusvc_model.predict(X_test)"
   ]
  },
  {
   "cell_type": "code",
   "execution_count": null,
   "metadata": {},
   "outputs": [
    {
     "name": "stdout",
     "output_type": "stream",
     "text": [
      "The accuracy of nusvc Classifier is:  95.7713619130942\n"
     ]
    }
   ],
   "source": [
    "print('The accuracy of nusvc Classifier is: ', 100.0 * accuracy_score(y_test, nusvc_predict))"
   ]
  },
  {
   "cell_type": "code",
   "execution_count": null,
   "metadata": {},
   "outputs": [
    {
     "name": "stdout",
     "output_type": "stream",
     "text": [
      "              precision    recall  f1-score   support\n",
      "\n",
      "           0       0.95      0.97      0.96      1733\n",
      "           1       0.97      0.95      0.96      1696\n",
      "\n",
      "    accuracy                           0.96      3429\n",
      "   macro avg       0.96      0.96      0.96      3429\n",
      "weighted avg       0.96      0.96      0.96      3429\n",
      "\n"
     ]
    }
   ],
   "source": [
    "print(classification_report(y_test, nusvc_predict))"
   ]
  },
  {
   "cell_type": "code",
   "execution_count": null,
   "metadata": {},
   "outputs": [
    {
     "data": {
      "image/png": "[encoded data removed]",
      "text/plain": [
       "<Figure size 640x480 with 2 Axes>"
      ]
     },
     "metadata": {},
     "output_type": "display_data"
    }
   ],
   "source": [
    "sns.heatmap(confusion_matrix(y_test, nusvc_predict), annot=True, fmt='g', cmap='Blues')\n",
    "plt.title(\"NuSVC\")\n",
    "plt.xlabel('Predicted Class')\n",
    "plt.ylabel('Original Class')\n",
    "plt.show()"
   ]
  },
  {
   "cell_type": "code",
   "execution_count": 51,
   "metadata": {},
   "outputs": [
    {
     "name": "stdout",
     "output_type": "stream",
     "text": [
      "Fitting 10 folds for each of 30 candidates, totalling 300 fits\n",
      "{'C': 0.1, 'dual': False, 'loss': 'squared_hinge', 'penalty': 'l1', 'tol': 0.1}\n",
      "LinearSVC(C=0.1, dual=False, penalty='l1', tol=0.1)\n",
      "0.8661427902621721\n"
     ]
    }
   ],
   "source": [
    "from sklearn.svm import LinearSVC\n",
    "\n",
    "# defining parameter range\n",
    "param_grid = {'C': [0.1, 1, 10, 20, 30],\n",
    "\t\t\t'penalty': ['l1','l2'],\n",
    "\t\t\t'loss': ['squared_hinge'],\n",
    "\t\t\t'dual': [False],\n",
    "\t\t\t'tol': [.1,.01,.001]}\n",
    "\n",
    "grid_lsvc = GridSearchCV(LinearSVC(), param_grid, refit = True, verbose = 3, cv = 10, n_jobs = -1)\n",
    "\n",
    "# fitting the model for grid search\n",
    "grid_lsvc.fit(X_train, y_train.values.ravel())\n",
    "\n",
    "# print best parameter after tuning\n",
    "print(grid_lsvc.best_params_)\n",
    "\n",
    "# print how our model looks after hyper-parameter tuning\n",
    "print(grid_lsvc.best_estimator_)\n",
    "print(grid_lsvc.best_score_)\n"
   ]
  },
  {
   "cell_type": "code",
   "execution_count": 52,
   "metadata": {},
   "outputs": [],
   "source": [
    "lsvc_model = grid_lsvc.best_estimator_\n",
    "#lsvc_model = lsvc.fit(X_train, y_train.values.ravel())"
   ]
  },
  {
   "cell_type": "code",
   "execution_count": 53,
   "metadata": {},
   "outputs": [],
   "source": [
    "lsvc_predict = lsvc_model.predict(X_test)"
   ]
  },
  {
   "cell_type": "code",
   "execution_count": 54,
   "metadata": {},
   "outputs": [
    {
     "name": "stdout",
     "output_type": "stream",
     "text": [
      "The accuracy of lsvc Classifier is:  86.14756488772237\n"
     ]
    }
   ],
   "source": [
    "print('The accuracy of lsvc Classifier is: ', 100.0 * accuracy_score(y_test, lsvc_predict))"
   ]
  },
  {
   "cell_type": "code",
   "execution_count": 55,
   "metadata": {},
   "outputs": [
    {
     "name": "stdout",
     "output_type": "stream",
     "text": [
      "              precision    recall  f1-score   support\n",
      "\n",
      "           0       0.88      0.84      0.86      1733\n",
      "           1       0.85      0.88      0.86      1696\n",
      "\n",
      "    accuracy                           0.86      3429\n",
      "   macro avg       0.86      0.86      0.86      3429\n",
      "weighted avg       0.86      0.86      0.86      3429\n",
      "\n"
     ]
    }
   ],
   "source": [
    "print(classification_report(y_test, lsvc_predict))"
   ]
  },
  {
   "cell_type": "code",
   "execution_count": 56,
   "metadata": {},
   "outputs": [
    {
     "data": {
      "image/png": "[encoded data removed]",
      "text/plain": [
       "<Figure size 640x480 with 2 Axes>"
      ]
     },
     "metadata": {},
     "output_type": "display_data"
    }
   ],
   "source": [
    "sns.heatmap(confusion_matrix(y_test, lsvc_predict), annot=True, fmt='g', cmap='Blues')\n",
    "plt.title(\"LinearSVC\")\n",
    "plt.xlabel('Predicted Class')\n",
    "plt.ylabel('Original Class')\n",
    "plt.show()"
   ]
  },
  {
   "cell_type": "code",
   "execution_count": 57,
   "metadata": {},
   "outputs": [
    {
     "name": "stdout",
     "output_type": "stream",
     "text": [
      "Fitting 10 folds for each of 3 candidates, totalling 30 fits\n",
      "{'n_estimators': 100}\n",
      "AdaBoostClassifier(n_estimators=100)\n",
      "0.8661427902621721\n"
     ]
    }
   ],
   "source": [
    "from sklearn.ensemble import AdaBoostClassifier\n",
    "\n",
    "# defining parameter range\n",
    "param_grid = {'n_estimators': [100,200,300]}\n",
    "\n",
    "grid_ada = GridSearchCV(AdaBoostClassifier(), param_grid, refit = True, verbose = 3, cv = 10, n_jobs = -1)\n",
    "\n",
    "# fitting the model for grid search\n",
    "grid_ada.fit(X_train, y_train.values.ravel())\n",
    "\n",
    "# print best parameter after tuning\n",
    "print(grid_ada.best_params_)\n",
    "\n",
    "# print how our model looks after hyper-parameter tuning\n",
    "print(grid_ada.best_estimator_)\n",
    "print(grid_ada.best_score_)"
   ]
  },
  {
   "cell_type": "code",
   "execution_count": 58,
   "metadata": {},
   "outputs": [],
   "source": [
    "ada_model = grid_ada.best_estimator_\n",
    "#ada_model = ada.fit(X_train,y_train.values.ravel())"
   ]
  },
  {
   "cell_type": "code",
   "execution_count": 59,
   "metadata": {},
   "outputs": [],
   "source": [
    "ada_predict = ada_model.predict(X_test)"
   ]
  },
  {
   "cell_type": "code",
   "execution_count": 60,
   "metadata": {},
   "outputs": [
    {
     "name": "stdout",
     "output_type": "stream",
     "text": [
      "The accuracy of Ada Boost Classifier is:  86.14756488772237\n"
     ]
    }
   ],
   "source": [
    "print('The accuracy of Ada Boost Classifier is: ', 100.0 * accuracy_score(ada_predict,y_test))"
   ]
  },
  {
   "cell_type": "code",
   "execution_count": 61,
   "metadata": {},
   "outputs": [
    {
     "name": "stdout",
     "output_type": "stream",
     "text": [
      "              precision    recall  f1-score   support\n",
      "\n",
      "           0       0.88      0.84      0.86      1733\n",
      "           1       0.85      0.88      0.86      1696\n",
      "\n",
      "    accuracy                           0.86      3429\n",
      "   macro avg       0.86      0.86      0.86      3429\n",
      "weighted avg       0.86      0.86      0.86      3429\n",
      "\n"
     ]
    }
   ],
   "source": [
    "print(classification_report(y_test, ada_predict))"
   ]
  },
  {
   "cell_type": "code",
   "execution_count": 62,
   "metadata": {},
   "outputs": [
    {
     "data": {
      "image/png": "[encoded data removed]",
      "text/plain": [
       "<Figure size 640x480 with 2 Axes>"
      ]
     },
     "metadata": {},
     "output_type": "display_data"
    }
   ],
   "source": [
    "sns.heatmap(confusion_matrix(y_test, ada_predict), annot=True, fmt='g', cmap='Blues')\n",
    "plt.title(\"AdaBoostClassifier\")\n",
    "plt.xlabel('Predicted Class')\n",
    "plt.ylabel('Original Class')\n",
    "plt.show()"
   ]
  },
  {
   "cell_type": "code",
   "execution_count": 63,
   "metadata": {},
   "outputs": [
    {
     "name": "stdout",
     "output_type": "stream",
     "text": [
      "Fitting 10 folds for each of 9 candidates, totalling 90 fits\n",
      "{'gamma': 0.01, 'n_estimators': 150}\n",
      "XGBClassifier(base_score=0.5, booster='gbtree', callbacks=None,\n",
      "              colsample_bylevel=1, colsample_bynode=1, colsample_bytree=1,\n",
      "              early_stopping_rounds=None, enable_categorical=False,\n",
      "              eval_metric=None, gamma=0.01, gpu_id=-1, grow_policy='depthwise',\n",
      "              importance_type=None, interaction_constraints='',\n",
      "              learning_rate=0.300000012, max_bin=256, max_cat_to_onehot=4,\n",
      "              max_delta_step=0, max_depth=6, max_leaves=0, min_child_weight=1,\n",
      "              missing=nan, monotone_constraints='()', n_estimators=150,\n",
      "              n_jobs=0, num_parallel_tree=1, predictor='auto', random_state=0,\n",
      "              reg_alpha=0, reg_lambda=1, ...)\n",
      "0.8661427902621721\n"
     ]
    }
   ],
   "source": [
    "from xgboost import XGBClassifier\n",
    "\n",
    "\n",
    "# defining parameter range\n",
    "param_grid = {\n",
    "    \"gamma\": [.01, .1, .5], #\n",
    "    \"n_estimators\": [150,200,250]\n",
    "}\n",
    "\n",
    "grid_xgb = GridSearchCV(XGBClassifier(), param_grid, refit = True, verbose = 3, cv = 10, n_jobs = -1)\n",
    "\n",
    "# fitting the model for grid search\n",
    "grid_xgb.fit(X_train, y_train.values.ravel())\n",
    "\n",
    "# print best parameter after tuning\n",
    "print(grid_xgb.best_params_)\n",
    "\n",
    "# print how our model looks after hyper-parameter tuning\n",
    "print(grid_xgb.best_estimator_)\n",
    "print(grid_xgb.best_score_)\n"
   ]
  },
  {
   "cell_type": "code",
   "execution_count": 64,
   "metadata": {},
   "outputs": [],
   "source": [
    "xgb_model = grid_xgb.best_estimator_\n",
    "#xgb_model = xgb.fit(X_train,y_train)"
   ]
  },
  {
   "cell_type": "code",
   "execution_count": 65,
   "metadata": {},
   "outputs": [],
   "source": [
    "xgb_predict=xgb_model.predict(X_test)"
   ]
  },
  {
   "cell_type": "code",
   "execution_count": 66,
   "metadata": {},
   "outputs": [
    {
     "name": "stdout",
     "output_type": "stream",
     "text": [
      "The accuracy of XGBoost Classifier is:  86.14756488772237\n"
     ]
    }
   ],
   "source": [
    "print('The accuracy of XGBoost Classifier is: ' , 100.0 * accuracy_score(xgb_predict,y_test))"
   ]
  },
  {
   "cell_type": "code",
   "execution_count": 67,
   "metadata": {},
   "outputs": [
    {
     "name": "stdout",
     "output_type": "stream",
     "text": [
      "              precision    recall  f1-score   support\n",
      "\n",
      "           0       0.88      0.84      0.86      1733\n",
      "           1       0.85      0.88      0.86      1696\n",
      "\n",
      "    accuracy                           0.86      3429\n",
      "   macro avg       0.86      0.86      0.86      3429\n",
      "weighted avg       0.86      0.86      0.86      3429\n",
      "\n"
     ]
    }
   ],
   "source": [
    "print(classification_report(y_test, xgb_predict))"
   ]
  },
  {
   "cell_type": "code",
   "execution_count": 68,
   "metadata": {},
   "outputs": [
    {
     "data": {
      "image/png": "[encoded data removed]",
      "text/plain": [
       "<Figure size 640x480 with 2 Axes>"
      ]
     },
     "metadata": {},
     "output_type": "display_data"
    }
   ],
   "source": [
    "sns.heatmap(confusion_matrix(y_test, xgb_predict), annot=True, fmt='g', cmap='Blues')\n",
    "plt.title(\"XGBClassifier\")\n",
    "plt.xlabel('Predicted Class')\n",
    "plt.ylabel('Original Class')\n",
    "plt.show()"
   ]
  },
  {
   "cell_type": "code",
   "execution_count": 69,
   "metadata": {},
   "outputs": [
    {
     "name": "stdout",
     "output_type": "stream",
     "text": [
      "Fitting 10 folds for each of 3 candidates, totalling 30 fits\n",
      "{'learning_rate': 0.5, 'n_estimators': 150}\n",
      "GradientBoostingClassifier(learning_rate=0.5, n_estimators=150)\n",
      "0.8661427902621721\n"
     ]
    }
   ],
   "source": [
    "from sklearn.ensemble import GradientBoostingClassifier\n",
    "\n",
    "# defining parameter range\n",
    "param_grid = {\n",
    "    \"learning_rate\": [.5], #.1,.5,1\n",
    "    \"n_estimators\": [150,200,250]\n",
    "}\n",
    "\n",
    "grid_gbc = GridSearchCV(GradientBoostingClassifier(), param_grid, refit = True, verbose = 3, cv = 10, n_jobs = -1)\n",
    "\n",
    "# fitting the model for grid search\n",
    "grid_gbc.fit(X_train, y_train.values.ravel())\n",
    "\n",
    "# print best parameter after tuning\n",
    "print(grid_gbc.best_params_)\n",
    "\n",
    "# print how our model looks after hyper-parameter tuning\n",
    "print(grid_gbc.best_estimator_)\n",
    "print(grid_gbc.best_score_)"
   ]
  },
  {
   "cell_type": "code",
   "execution_count": 70,
   "metadata": {},
   "outputs": [],
   "source": [
    "gbc_model = grid_gbc.best_estimator_\n",
    "#gbc_model = gbc.fit(X_train,y_train.values.ravel())\n",
    "\n",
    "#clf = GradientBoostingClassifier(n_estimators=100, learning_rate=1.0,\n",
    "#    max_depth=1, random_state=0).fit(X_train, y_train)\n",
    "#clf.score(X_test, y_test)"
   ]
  },
  {
   "cell_type": "code",
   "execution_count": 71,
   "metadata": {},
   "outputs": [],
   "source": [
    "gbc_predict = gbc_model.predict(X_test)"
   ]
  },
  {
   "cell_type": "code",
   "execution_count": 72,
   "metadata": {},
   "outputs": [
    {
     "name": "stdout",
     "output_type": "stream",
     "text": [
      "The accuracy of GradientBoost Classifier is:  86.14756488772237\n"
     ]
    }
   ],
   "source": [
    "print('The accuracy of GradientBoost Classifier is: ' , 100.0 * accuracy_score(gbc_predict,y_test))"
   ]
  },
  {
   "cell_type": "code",
   "execution_count": 73,
   "metadata": {},
   "outputs": [
    {
     "name": "stdout",
     "output_type": "stream",
     "text": [
      "              precision    recall  f1-score   support\n",
      "\n",
      "           0       0.88      0.84      0.86      1733\n",
      "           1       0.85      0.88      0.86      1696\n",
      "\n",
      "    accuracy                           0.86      3429\n",
      "   macro avg       0.86      0.86      0.86      3429\n",
      "weighted avg       0.86      0.86      0.86      3429\n",
      "\n"
     ]
    }
   ],
   "source": [
    "print(classification_report(y_test, gbc_predict))"
   ]
  },
  {
   "cell_type": "code",
   "execution_count": 74,
   "metadata": {},
   "outputs": [
    {
     "data": {
      "image/png": "[encoded data removed]",
      "text/plain": [
       "<Figure size 640x480 with 2 Axes>"
      ]
     },
     "metadata": {},
     "output_type": "display_data"
    }
   ],
   "source": [
    "sns.heatmap(confusion_matrix(y_test, gbc_predict), annot=True, fmt='g', cmap='Blues')\n",
    "plt.title(\"GradientBoostingClassifier\")\n",
    "plt.xlabel('Predicted Class')\n",
    "plt.ylabel('Original Class')\n",
    "plt.show()"
   ]
  },
  {
   "cell_type": "code",
   "execution_count": 75,
   "metadata": {},
   "outputs": [],
   "source": [
    "# gbc_model.get_params().keys()"
   ]
  },
  {
   "cell_type": "code",
   "execution_count": 76,
   "metadata": {},
   "outputs": [],
   "source": [
    "# import inspect\n",
    "# import sklearn\n",
    "# import xgboost\n",
    "\n",
    "# models = [xgboost.XGBClassifier]\n",
    "# for m in models:\n",
    "#     hyperparams = inspect.signature(m.__init__)\n",
    "#     print(hyperparams)\n",
    "# #or\n",
    "# xgb_model.get_params().keys()\n"
   ]
  },
  {
   "cell_type": "code",
   "execution_count": 77,
   "metadata": {},
   "outputs": [
    {
     "name": "stdout",
     "output_type": "stream",
     "text": [
      "Fitting 10 folds for each of 3 candidates, totalling 30 fits\n",
      "{'base_estimator': DecisionTreeClassifier(), 'n_estimators': 150}\n",
      "BaggingClassifier(base_estimator=DecisionTreeClassifier(), n_estimators=150)\n",
      "0.8661427902621721\n"
     ]
    }
   ],
   "source": [
    "from sklearn.ensemble import BaggingClassifier\n",
    "from sklearn.tree import DecisionTreeClassifier\n",
    "\n",
    "# defining parameter range\n",
    "param_grid = {\n",
    "    \"base_estimator\": [DecisionTreeClassifier()],\n",
    "    \"n_estimators\": [150,200,250]\n",
    "}\n",
    "\n",
    "grid_bag = GridSearchCV(BaggingClassifier(), param_grid, refit = True, verbose = 3, cv = 10, n_jobs = -1)\n",
    "\n",
    "# fitting the model for grid search\n",
    "grid_bag.fit(X_train, y_train.values.ravel())\n",
    "\n",
    "# print best parameter after tuning\n",
    "print(grid_bag.best_params_)\n",
    "\n",
    "# print how our model looks after hyper-parameter tuning\n",
    "print(grid_bag.best_estimator_)\n",
    "print(grid_bag.best_score_)"
   ]
  },
  {
   "cell_type": "code",
   "execution_count": 78,
   "metadata": {},
   "outputs": [],
   "source": [
    "bag_model = grid_bag.best_estimator_\n",
    "#bag_model = bag.fit(X_train, y_train.values.ravel())\n"
   ]
  },
  {
   "cell_type": "code",
   "execution_count": 79,
   "metadata": {},
   "outputs": [],
   "source": [
    "bag_predict = bag_model.predict(X_test)"
   ]
  },
  {
   "cell_type": "code",
   "execution_count": 80,
   "metadata": {},
   "outputs": [
    {
     "name": "stdout",
     "output_type": "stream",
     "text": [
      "The accuracy of Bagging Classifier is:  86.14756488772237\n"
     ]
    }
   ],
   "source": [
    "print('The accuracy of Bagging Classifier is: ' , 100.0 * accuracy_score(y_test, bag_predict))"
   ]
  },
  {
   "cell_type": "code",
   "execution_count": 81,
   "metadata": {},
   "outputs": [
    {
     "name": "stdout",
     "output_type": "stream",
     "text": [
      "              precision    recall  f1-score   support\n",
      "\n",
      "           0       0.88      0.84      0.86      1733\n",
      "           1       0.85      0.88      0.86      1696\n",
      "\n",
      "    accuracy                           0.86      3429\n",
      "   macro avg       0.86      0.86      0.86      3429\n",
      "weighted avg       0.86      0.86      0.86      3429\n",
      "\n"
     ]
    }
   ],
   "source": [
    "print(classification_report(y_test, bag_predict))"
   ]
  },
  {
   "cell_type": "code",
   "execution_count": 82,
   "metadata": {},
   "outputs": [
    {
     "data": {
      "image/png": "[encoded data removed]",
      "text/plain": [
       "<Figure size 640x480 with 2 Axes>"
      ]
     },
     "metadata": {},
     "output_type": "display_data"
    }
   ],
   "source": [
    "sns.heatmap(confusion_matrix(y_test, bag_predict), annot=True, fmt='g', cmap='Blues')\n",
    "plt.title(\"BaggingClassifier\")\n",
    "plt.xlabel('Predicted Class')\n",
    "plt.ylabel('Original Class')\n",
    "plt.show()"
   ]
  },
  {
   "cell_type": "code",
   "execution_count": 83,
   "metadata": {},
   "outputs": [
    {
     "name": "stdout",
     "output_type": "stream",
     "text": [
      "Fitting 10 folds for each of 4 candidates, totalling 40 fits\n",
      "{'n_estimators': 50}\n",
      "RandomForestClassifier(n_estimators=50)\n",
      "0.8661427902621721\n"
     ]
    }
   ],
   "source": [
    "from sklearn.ensemble import RandomForestClassifier\n",
    "\n",
    "# defining parameter range\n",
    "param_grid = {\n",
    "    \"n_estimators\": [50,100,150,200]\n",
    "}\n",
    "\n",
    "grid_rfc = GridSearchCV(RandomForestClassifier(), param_grid, refit = True, verbose = 3, cv = 10, n_jobs = -1)\n",
    "\n",
    "# fitting the model for grid search\n",
    "grid_rfc.fit(X_train, y_train.values.ravel())\n",
    "\n",
    "# print best parameter after tuning\n",
    "print(grid_rfc.best_params_)\n",
    "\n",
    "# print how our model looks after hyper-parameter tuning\n",
    "print(grid_rfc.best_estimator_)\n",
    "print(grid_rfc.best_score_)"
   ]
  },
  {
   "cell_type": "code",
   "execution_count": 84,
   "metadata": {},
   "outputs": [],
   "source": [
    "rfc_model = grid_rfc.best_estimator_\n",
    "#rfc_model = rfc.fit(X_train,y_train.values.ravel())"
   ]
  },
  {
   "cell_type": "code",
   "execution_count": 85,
   "metadata": {},
   "outputs": [],
   "source": [
    "rfc_predict = rfc_model.predict(X_test)"
   ]
  },
  {
   "cell_type": "code",
   "execution_count": 86,
   "metadata": {},
   "outputs": [
    {
     "name": "stdout",
     "output_type": "stream",
     "text": [
      "The accuracy of RandomForest Classifier is:  86.14756488772237\n"
     ]
    }
   ],
   "source": [
    "print('The accuracy of RandomForest Classifier is: ' , 100.0 * accuracy_score(rfc_predict,y_test))"
   ]
  },
  {
   "cell_type": "code",
   "execution_count": 87,
   "metadata": {},
   "outputs": [
    {
     "name": "stdout",
     "output_type": "stream",
     "text": [
      "              precision    recall  f1-score   support\n",
      "\n",
      "           0       0.88      0.84      0.86      1733\n",
      "           1       0.85      0.88      0.86      1696\n",
      "\n",
      "    accuracy                           0.86      3429\n",
      "   macro avg       0.86      0.86      0.86      3429\n",
      "weighted avg       0.86      0.86      0.86      3429\n",
      "\n"
     ]
    }
   ],
   "source": [
    "print(classification_report(y_test, rfc_predict))"
   ]
  },
  {
   "cell_type": "code",
   "execution_count": 88,
   "metadata": {},
   "outputs": [
    {
     "data": {
      "image/png": "[encoded data removed]",
      "text/plain": [
       "<Figure size 640x480 with 2 Axes>"
      ]
     },
     "metadata": {},
     "output_type": "display_data"
    }
   ],
   "source": [
    "sns.heatmap(confusion_matrix(y_test, rfc_predict), annot=True, fmt='g', cmap='Blues')\n",
    "plt.title(\"RandomForestClassifier\")\n",
    "plt.xlabel('Predicted Class')\n",
    "plt.ylabel('Original Class')\n",
    "plt.show()"
   ]
  },
  {
   "cell_type": "code",
   "execution_count": 90,
   "metadata": {},
   "outputs": [
    {
     "data": {
      "image/png": "[encoded data removed]",
      "text/plain": [
       "<Figure size 640x480 with 1 Axes>"
      ]
     },
     "metadata": {},
     "output_type": "display_data"
    }
   ],
   "source": [
    "estimators = [logr_model,knn_model,svc_model,nusvc_model,lsvc_model,xgb_model,ada_model,gbc_model,bag_model,rfc_model]\n",
    "\n",
    "for estimator in estimators:\n",
    "    RocCurveDisplay.from_estimator(estimator,X_test,y_test,ax=plt.gca())\n"
   ]
  },
  {
   "cell_type": "code",
   "execution_count": 95,
   "metadata": {},
   "outputs": [
    {
     "ename": "ImportError",
     "evalue": "Traceback (most recent call last):\n  File \"C:\\Users\\Asus\\AppData\\Local\\Packages\\PythonSoftwareFoundation.Python.3.10_qbz5n2kfra8p0\\LocalCache\\local-packages\\Python310\\site-packages\\tensorflow\\python\\pywrap_tensorflow.py\", line 62, in <module>\n    from tensorflow.python._pywrap_tensorflow_internal import *\nImportError: DLL load failed while importing _pywrap_tensorflow_internal: The paging file is too small for this operation to complete.\n\n\nFailed to load the native TensorFlow runtime.\nSee https://www.tensorflow.org/install/errors for some common causes and solutions.\nIf you need help, create an issue at https://github.com/tensorflow/tensorflow/issues and include the entire stack trace above this error message.",
     "output_type": "error",
     "traceback": [
      "\u001b[1;31m---------------------------------------------------------------------------\u001b[0m",
      "\u001b[1;31mImportError\u001b[0m                               Traceback (most recent call last)",
      "File \u001b[1;32m~\\AppData\\Local\\Packages\\PythonSoftwareFoundation.Python.3.10_qbz5n2kfra8p0\\LocalCache\\local-packages\\Python310\\site-packages\\tensorflow\\python\\pywrap_tensorflow.py:62\u001b[0m\n\u001b[0;32m     61\u001b[0m \u001b[39mtry\u001b[39;00m:\n\u001b[1;32m---> 62\u001b[0m   \u001b[39mfrom\u001b[39;00m \u001b[39mtensorflow\u001b[39;00m\u001b[39m.\u001b[39;00m\u001b[39mpython\u001b[39;00m\u001b[39m.\u001b[39;00m\u001b[39m_pywrap_tensorflow_internal\u001b[39;00m \u001b[39mimport\u001b[39;00m \u001b[39m*\u001b[39m\n\u001b[0;32m     63\u001b[0m \u001b[39m# This try catch logic is because there is no bazel equivalent for py_extension.\u001b[39;00m\n\u001b[0;32m     64\u001b[0m \u001b[39m# Externally in opensource we must enable exceptions to load the shared object\u001b[39;00m\n\u001b[0;32m     65\u001b[0m \u001b[39m# by exposing the PyInit symbols with pybind. This error will only be\u001b[39;00m\n\u001b[0;32m     66\u001b[0m \u001b[39m# caught internally or if someone changes the name of the target _pywrap_tensorflow_internal.\u001b[39;00m\n\u001b[0;32m     67\u001b[0m \n\u001b[0;32m     68\u001b[0m \u001b[39m# This logic is used in other internal projects using py_extension.\u001b[39;00m\n",
      "\u001b[1;31mImportError\u001b[0m: DLL load failed while importing _pywrap_tensorflow_internal: The paging file is too small for this operation to complete.",
      "\nDuring handling of the above exception, another exception occurred:\n",
      "\u001b[1;31mImportError\u001b[0m                               Traceback (most recent call last)",
      "Cell \u001b[1;32mIn [95], line 1\u001b[0m\n\u001b[1;32m----> 1\u001b[0m \u001b[39mimport\u001b[39;00m \u001b[39mtensorflow\u001b[39;00m \u001b[39mas\u001b[39;00m \u001b[39mtf\u001b[39;00m\n\u001b[0;32m      2\u001b[0m \u001b[39m#from tensorflow.keras.datasets import imdb\u001b[39;00m\n\u001b[0;32m      3\u001b[0m \u001b[39mfrom\u001b[39;00m \u001b[39mkeras\u001b[39;00m\u001b[39m.\u001b[39;00m\u001b[39mlayers\u001b[39;00m \u001b[39mimport\u001b[39;00m Embedding, Dense, LSTM, BatchNormalization\n",
      "File \u001b[1;32m~\\AppData\\Local\\Packages\\PythonSoftwareFoundation.Python.3.10_qbz5n2kfra8p0\\LocalCache\\local-packages\\Python310\\site-packages\\tensorflow\\__init__.py:37\u001b[0m\n\u001b[0;32m     34\u001b[0m \u001b[39mimport\u001b[39;00m \u001b[39msys\u001b[39;00m \u001b[39mas\u001b[39;00m \u001b[39m_sys\u001b[39;00m\n\u001b[0;32m     35\u001b[0m \u001b[39mimport\u001b[39;00m \u001b[39mtyping\u001b[39;00m \u001b[39mas\u001b[39;00m \u001b[39m_typing\u001b[39;00m\n\u001b[1;32m---> 37\u001b[0m \u001b[39mfrom\u001b[39;00m \u001b[39mtensorflow\u001b[39;00m\u001b[39m.\u001b[39;00m\u001b[39mpython\u001b[39;00m\u001b[39m.\u001b[39;00m\u001b[39mtools\u001b[39;00m \u001b[39mimport\u001b[39;00m module_util \u001b[39mas\u001b[39;00m _module_util\n\u001b[0;32m     38\u001b[0m \u001b[39mfrom\u001b[39;00m \u001b[39mtensorflow\u001b[39;00m\u001b[39m.\u001b[39;00m\u001b[39mpython\u001b[39;00m\u001b[39m.\u001b[39;00m\u001b[39mutil\u001b[39;00m\u001b[39m.\u001b[39;00m\u001b[39mlazy_loader\u001b[39;00m \u001b[39mimport\u001b[39;00m LazyLoader \u001b[39mas\u001b[39;00m _LazyLoader\n\u001b[0;32m     40\u001b[0m \u001b[39m# Make sure code inside the TensorFlow codebase can use tf2.enabled() at import.\u001b[39;00m\n",
      "File \u001b[1;32m~\\AppData\\Local\\Packages\\PythonSoftwareFoundation.Python.3.10_qbz5n2kfra8p0\\LocalCache\\local-packages\\Python310\\site-packages\\tensorflow\\python\\__init__.py:36\u001b[0m\n\u001b[0;32m     27\u001b[0m \u001b[39mimport\u001b[39;00m \u001b[39mtraceback\u001b[39;00m\n\u001b[0;32m     29\u001b[0m \u001b[39m# We aim to keep this file minimal and ideally remove completely.\u001b[39;00m\n\u001b[0;32m     30\u001b[0m \u001b[39m# If you are adding a new file with @tf_export decorators,\u001b[39;00m\n\u001b[0;32m     31\u001b[0m \u001b[39m# import it in modules_with_exports.py instead.\u001b[39;00m\n\u001b[0;32m     32\u001b[0m \n\u001b[0;32m     33\u001b[0m \u001b[39m# go/tf-wildcard-import\u001b[39;00m\n\u001b[0;32m     34\u001b[0m \u001b[39m# pylint: disable=wildcard-import,g-bad-import-order,g-import-not-at-top\u001b[39;00m\n\u001b[1;32m---> 36\u001b[0m \u001b[39mfrom\u001b[39;00m \u001b[39mtensorflow\u001b[39;00m\u001b[39m.\u001b[39;00m\u001b[39mpython\u001b[39;00m \u001b[39mimport\u001b[39;00m pywrap_tensorflow \u001b[39mas\u001b[39;00m _pywrap_tensorflow\n\u001b[0;32m     37\u001b[0m \u001b[39mfrom\u001b[39;00m \u001b[39mtensorflow\u001b[39;00m\u001b[39m.\u001b[39;00m\u001b[39mpython\u001b[39;00m\u001b[39m.\u001b[39;00m\u001b[39meager\u001b[39;00m \u001b[39mimport\u001b[39;00m context\n\u001b[0;32m     39\u001b[0m \u001b[39m# pylint: enable=wildcard-import\u001b[39;00m\n\u001b[0;32m     40\u001b[0m \n\u001b[0;32m     41\u001b[0m \u001b[39m# Bring in subpackages.\u001b[39;00m\n",
      "File \u001b[1;32m~\\AppData\\Local\\Packages\\PythonSoftwareFoundation.Python.3.10_qbz5n2kfra8p0\\LocalCache\\local-packages\\Python310\\site-packages\\tensorflow\\python\\pywrap_tensorflow.py:77\u001b[0m\n\u001b[0;32m     75\u001b[0m     sys\u001b[39m.\u001b[39msetdlopenflags(_default_dlopen_flags)\n\u001b[0;32m     76\u001b[0m \u001b[39mexcept\u001b[39;00m \u001b[39mImportError\u001b[39;00m:\n\u001b[1;32m---> 77\u001b[0m   \u001b[39mraise\u001b[39;00m \u001b[39mImportError\u001b[39;00m(\n\u001b[0;32m     78\u001b[0m       \u001b[39mf\u001b[39m\u001b[39m'\u001b[39m\u001b[39m{\u001b[39;00mtraceback\u001b[39m.\u001b[39mformat_exc()\u001b[39m}\u001b[39;00m\u001b[39m'\u001b[39m\n\u001b[0;32m     79\u001b[0m       \u001b[39mf\u001b[39m\u001b[39m'\u001b[39m\u001b[39m\\n\u001b[39;00m\u001b[39m\\n\u001b[39;00m\u001b[39mFailed to load the native TensorFlow runtime.\u001b[39m\u001b[39m\\n\u001b[39;00m\u001b[39m'\u001b[39m\n\u001b[0;32m     80\u001b[0m       \u001b[39mf\u001b[39m\u001b[39m'\u001b[39m\u001b[39mSee https://www.tensorflow.org/install/errors \u001b[39m\u001b[39m'\u001b[39m\n\u001b[0;32m     81\u001b[0m       \u001b[39mf\u001b[39m\u001b[39m'\u001b[39m\u001b[39mfor some common causes and solutions.\u001b[39m\u001b[39m\\n\u001b[39;00m\u001b[39m'\u001b[39m\n\u001b[0;32m     82\u001b[0m       \u001b[39mf\u001b[39m\u001b[39m'\u001b[39m\u001b[39mIf you need help, create an issue \u001b[39m\u001b[39m'\u001b[39m\n\u001b[0;32m     83\u001b[0m       \u001b[39mf\u001b[39m\u001b[39m'\u001b[39m\u001b[39mat https://github.com/tensorflow/tensorflow/issues \u001b[39m\u001b[39m'\u001b[39m\n\u001b[0;32m     84\u001b[0m       \u001b[39mf\u001b[39m\u001b[39m'\u001b[39m\u001b[39mand include the entire stack trace above this error message.\u001b[39m\u001b[39m'\u001b[39m)\n",
      "\u001b[1;31mImportError\u001b[0m: Traceback (most recent call last):\n  File \"C:\\Users\\Asus\\AppData\\Local\\Packages\\PythonSoftwareFoundation.Python.3.10_qbz5n2kfra8p0\\LocalCache\\local-packages\\Python310\\site-packages\\tensorflow\\python\\pywrap_tensorflow.py\", line 62, in <module>\n    from tensorflow.python._pywrap_tensorflow_internal import *\nImportError: DLL load failed while importing _pywrap_tensorflow_internal: The paging file is too small for this operation to complete.\n\n\nFailed to load the native TensorFlow runtime.\nSee https://www.tensorflow.org/install/errors for some common causes and solutions.\nIf you need help, create an issue at https://github.com/tensorflow/tensorflow/issues and include the entire stack trace above this error message."
     ]
    }
   ],
   "source": [
    "import tensorflow as tf\n",
    "#from tensorflow.keras.datasets import imdb\n",
    "from keras.layers import Embedding, Dense, LSTM, BatchNormalization\n",
    "from keras.losses import BinaryCrossentropy\n",
    "from keras.models import Sequential\n",
    "from keras.optimizers import Adam\n",
    "#from tensorflow.keras.preprocessing.sequence import pad_sequences\n",
    "\n",
    "# Model configuration\n",
    "additional_metrics = ['accuracy']\n",
    "batch_size = 32\n",
    "#embedding_output_dims = (X_train.shape[1])\n",
    "loss_function = BinaryCrossentropy()\n",
    "#max_sequence_length = (X_train.shape[1])\n",
    "#num_distinct_words = (X_train.shape[1])\n",
    "number_of_epochs = 100\n",
    "optimizer = Adam()\n",
    "validation_split = 0.20\n",
    "verbosity_mode = 1\n",
    "\n",
    "# reshape from [samples, features] into [samples, timesteps, features]\n",
    "timesteps = 1\n",
    "X_train_reshape = X_train.values.ravel().reshape(X_train.shape[0],timesteps, X_train.shape[1])\n",
    "X_test_reshape = X_test.values.ravel().reshape(X_test.shape[0],timesteps, X_test.shape[1])\n",
    "\n",
    "# Disable eager execution\n",
    "#tf.compat.v1.disable_eager_execution()\n",
    "\n",
    "# Load dataset\n",
    "# (x_train, y_train), (x_test, y_test) = imdb.load_data(num_words=num_distinct_words)\n",
    "# print(x_train.shape)\n",
    "# print(x_test.shape)\n",
    "\n",
    "# Pad all sequences\n",
    "# padded_inputs = pad_sequences(X_train, maxlen=max_sequence_length, value = 0.0) # 0.0 because it corresponds with <PAD>\n",
    "# padded_inputs_test = pad_sequences(X_test, maxlen=max_sequence_length, value = 0.0) # 0.0 because it corresponds with <PAD>\n",
    "\n",
    "# Define the Keras model\n",
    "def build_model_lstm():\n",
    "    model = Sequential()\n",
    "    #model.add(Embedding(num_distinct_words, embedding_output_dims, input_length=max_sequence_length))\n",
    "    model.add(LSTM(100, input_shape = (timesteps,X_train_reshape.shape[2])))\n",
    "    model.add(BatchNormalization())\n",
    "    model.add(Dense(50, activation='relu'))\n",
    "    model.add(Dense(25, activation='relu'))\n",
    "    model.add(Dense(10, activation='relu'))\n",
    "    model.add(Dense(1, activation='sigmoid'))\n",
    "\n",
    "    # Compile the model\n",
    "    model.compile(optimizer=optimizer, loss=loss_function, metrics=additional_metrics)\n",
    "    return model\n",
    "\n",
    "#from keras.wrappers.scikit_learn import KerasClassifier\n",
    "lstm_model = build_model_lstm()\n",
    "# Give a summary\n",
    "lstm_model.summary()\n",
    "\n",
    "# Train the model\n",
    "history = lstm_model.fit(X_train_reshape, y_train.values.ravel(), batch_size=batch_size, epochs=number_of_epochs, verbose=verbosity_mode, validation_split=validation_split)\n",
    "\n",
    "# Test the model after training\n",
    "#lstm_predict = lstm_model.predict(X_test_reshape)\n",
    "test_results = lstm_model.evaluate(X_test_reshape, y_test.values.ravel(), verbose=False)\n",
    "print(f'Test results - Loss: {test_results[0]} - Accuracy: {100*test_results[1]}%')"
   ]
  },
  {
   "cell_type": "code",
   "execution_count": null,
   "metadata": {},
   "outputs": [
    {
     "name": "stdout",
     "output_type": "stream",
     "text": [
      "108/108 [==============================] - 1s 2ms/step\n",
      "              precision    recall  f1-score   support\n",
      "\n",
      "           0       0.95      0.97      0.96      1733\n",
      "           1       0.96      0.94      0.95      1696\n",
      "\n",
      "    accuracy                           0.96      3429\n",
      "   macro avg       0.96      0.95      0.96      3429\n",
      "weighted avg       0.96      0.96      0.96      3429\n",
      "\n"
     ]
    }
   ],
   "source": [
    "lstm_predict_proba = lstm_model.predict(X_test_reshape, batch_size=32)\n",
    "lstm_predict_class = (lstm_predict_proba > 0.5).astype(\"int32\")\n",
    "print(classification_report(y_test, lstm_predict_class))"
   ]
  },
  {
   "cell_type": "code",
   "execution_count": null,
   "metadata": {},
   "outputs": [
    {
     "data": {
      "image/png": "[encoded data removed]",
      "text/plain": [
       "<Figure size 640x480 with 2 Axes>"
      ]
     },
     "metadata": {},
     "output_type": "display_data"
    }
   ],
   "source": [
    "sns.heatmap(confusion_matrix(y_test, lstm_predict_class), annot=True, fmt='g', cmap='Blues')\n",
    "plt.title(\"LSTM\")\n",
    "plt.xlabel('Predicted Class')\n",
    "plt.ylabel('Original Class')\n",
    "plt.show()\n"
   ]
  },
  {
   "cell_type": "code",
   "execution_count": null,
   "metadata": {},
   "outputs": [
    {
     "data": {
      "image/png": "[encoded data removed]",
      "text/plain": [
       "<Figure size 640x480 with 1 Axes>"
      ]
     },
     "metadata": {},
     "output_type": "display_data"
    }
   ],
   "source": [
    "RocCurveDisplay.from_predictions(y_test,lstm_predict_class)\n",
    "plt.show()"
   ]
  }
 ],
 "metadata": {
  "kernelspec": {
   "display_name": "Python 3",
   "language": "python",
   "name": "python3"
  },
  "language_info": {
   "codemirror_mode": {
    "name": "ipython",
    "version": 3
   },
   "file_extension": ".py",
   "mimetype": "text/x-python",
   "name": "python",
   "nbconvert_exporter": "python",
   "pygments_lexer": "ipython3",
   "version": "3.10.9"
  },
  "orig_nbformat": 4,
  "vscode": {
   "interpreter": {
    "hash": "66f804da07f0f556d77bc3269dc5bb19edf020422864031af2885e5ff55f9079"
   }
  }
 },
 "nbformat": 4,
 "nbformat_minor": 2
}
